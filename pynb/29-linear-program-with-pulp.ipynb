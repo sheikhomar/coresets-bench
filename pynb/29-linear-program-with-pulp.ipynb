{
 "cells": [
  {
   "cell_type": "code",
   "execution_count": 1,
   "id": "9d03ed0c-b9f5-4d90-9b30-af259363d89d",
   "metadata": {},
   "outputs": [],
   "source": [
    "import sys\n",
    "sys.path.append('../xrun')"
   ]
  },
  {
   "cell_type": "code",
   "execution_count": 2,
   "id": "6c71dff9-1132-4398-b2ea-cefa61d65eee",
   "metadata": {},
   "outputs": [],
   "source": [
    "import re\n",
    "\n",
    "from pathlib import Path\n",
    "\n",
    "import matplotlib.pyplot as plt\n",
    "import numba\n",
    "import numpy as np\n",
    "import pandas as pd\n",
    "import pulp\n",
    "import seaborn as sns\n",
    "\n",
    "\n",
    "\n",
    "sns.set(style=\"whitegrid\")\n",
    "\n",
    "from IPython.core.display import HTML\n",
    "\n",
    "from scipy.sparse import linalg as sparse_linalg, issparse\n",
    "from scipy.spatial.distance import cdist, euclidean\n",
    "\n",
    "from sklearn.cluster import KMeans\n",
    "from sklearn.datasets import make_blobs\n",
    "from sklearn.metrics import pairwise_distances, pairwise_distances_argmin_min\n",
    "from sklearn.utils import shuffle\n",
    "from sklearn.utils.extmath import safe_sparse_dot\n",
    "\n",
    "from tqdm import tqdm\n",
    "\n",
    "from xrun.data.run_info import RunInfo\n",
    "from xrun.data.loader import load_dataset"
   ]
  },
  {
   "cell_type": "code",
   "execution_count": 3,
   "id": "79c90746-4833-4047-8c04-1860a62115b8",
   "metadata": {},
   "outputs": [],
   "source": [
    "def compute_real_cost(data_points: np.ndarray, center_points: np.ndarray):\n",
    "    D = pairwise_distances(data_points, center_points, metric=\"sqeuclidean\")\n",
    "    dist_closest_centers = np.min(D, axis=1)\n",
    "    cost = np.sum(dist_closest_centers)\n",
    "    return cost\n",
    "\n",
    "def compute_coreset_costs(coreset_points: np.ndarray, coreset_weights: np.ndarray, center_points: np.ndarray):\n",
    "    D = pairwise_distances(coreset_points, center_points, metric=\"sqeuclidean\")\n",
    "    dist_closest_centers = np.min(D, axis=1)\n",
    "    weighted_cost = np.sum(coreset_weights * dist_closest_centers)\n",
    "    return weighted_cost\n",
    "\n",
    "def estimate_optimal_cost(data_matrix: np.ndarray, k: int, n_iter: int=10):\n",
    "    km = KMeans(n_clusters=k, n_init=n_iter, max_iter=1)\n",
    "    km.fit(data_matrix)\n",
    "    return km.inertia_"
   ]
  },
  {
   "cell_type": "code",
   "execution_count": 4,
   "id": "fb6b7bc0-5408-48c7-bcd8-647c65d2294f",
   "metadata": {},
   "outputs": [],
   "source": [
    "# data_centers = np.random.randint(low=2, high=5)\n",
    "true_centers = np.array([\n",
    "    [ 0,  0],\n",
    "    [-5, -5],\n",
    "    [-5,  5],\n",
    "    [ 5,  -6],\n",
    "])\n",
    "raw_data, labels = make_blobs(n_samples=200, centers=true_centers, random_state=42)"
   ]
  },
  {
   "cell_type": "code",
   "execution_count": 5,
   "id": "624c8e20-c327-48bc-a2cf-05765d4467df",
   "metadata": {},
   "outputs": [],
   "source": [
    "k = true_centers.shape[0]\n",
    "n_points = raw_data.shape[0]"
   ]
  },
  {
   "cell_type": "code",
   "execution_count": 6,
   "id": "0c5a2553-bf98-4a98-bfd4-8ae01421f00f",
   "metadata": {},
   "outputs": [],
   "source": [
    "km = KMeans(n_clusters=k*2, n_init=10, max_iter=1)\n",
    "km.fit(raw_data)\n",
    "coreset_points = km.cluster_centers_\n",
    "\n",
    "_, coreset_weights = np.unique(km.labels_, return_counts=True)\n",
    "\n",
    "n_coreset_points = coreset_points.shape[0]"
   ]
  },
  {
   "cell_type": "code",
   "execution_count": 7,
   "id": "188b621d-12e2-410d-b78b-fa4a7efae8a9",
   "metadata": {},
   "outputs": [
    {
     "data": {
      "image/png": "[encoded data removed]",
      "text/plain": [
       "<Figure size 720x504 with 1 Axes>"
      ]
     },
     "metadata": {},
     "output_type": "display_data"
    }
   ],
   "source": [
    "fig, ax = plt.subplots(figsize=(10, 7))\n",
    "sns.scatterplot(x=raw_data[:,0], y=raw_data[:,1], color=\"lightgrey\", label=\"original points\", ax=ax)\n",
    "sns.scatterplot(x=coreset_points[:,0], y=coreset_points[:,1], color=\"green\", label=\"coreset points\", ax=ax)\n",
    "ax.grid(False)"
   ]
  },
  {
   "cell_type": "code",
   "execution_count": 8,
   "id": "6ca38f1f-bd7d-4ede-b453-5bc7eb898205",
   "metadata": {},
   "outputs": [],
   "source": [
    "input_point_indices = np.arange(start=0, stop=n_points)\n",
    "coreset_point_indices = np.arange(start=0, stop=n_coreset_points)\n",
    "clustering_center_indices = np.arange(start=0, stop=k)"
   ]
  },
  {
   "cell_type": "code",
   "execution_count": 9,
   "id": "0f3ec637-5a2f-4201-90f7-39271e0c9609",
   "metadata": {},
   "outputs": [],
   "source": [
    "input_pairs = [(i, j) for i in input_point_indices for j in input_point_indices]\n",
    "coreset_pairs = [(i, j) for i in coreset_point_indices for j in input_point_indices]"
   ]
  },
  {
   "cell_type": "code",
   "execution_count": 10,
   "id": "aa1888f7-08c8-4751-8af1-0e02e2870367",
   "metadata": {},
   "outputs": [],
   "source": [
    "# X[i,j] \\in [0,1] is a variable indicating whether point i is assigned to center j.\n",
    "# X = np.zeros(shape=(n_points, k))\n",
    "X = pulp.LpVariable.dicts(\n",
    "    name=\"X\",\n",
    "    indices=input_pairs, \n",
    "    lowBound=0,\n",
    "    upBound=1, \n",
    ")"
   ]
  },
  {
   "cell_type": "code",
   "execution_count": 11,
   "id": "5817c5a6-a3f5-4c54-8449-15eb4aa16dc4",
   "metadata": {},
   "outputs": [],
   "source": [
    "# Y[i,j] \\in [0,1] is a variable indicating whether coreset point i is assigned to center j.\n",
    "# Y = np.zeros(shape=(n_coreset_points, k))\n",
    "Y = pulp.LpVariable.dicts(\n",
    "    name=\"Y\",\n",
    "    indices=coreset_pairs, \n",
    "    lowBound=0,\n",
    "    upBound=1, \n",
    ")"
   ]
  },
  {
   "cell_type": "code",
   "execution_count": 12,
   "id": "2ee30cd2-66c6-4d56-a190-638db12edc13",
   "metadata": {},
   "outputs": [],
   "source": [
    "#z[j] \\in [0,1] is a variable indicating whether we have a center at point j.\n",
    "# z = np.zeros(shape=(n_points, 1))\n",
    "z = pulp.LpVariable.dicts(\n",
    "    name=\"z\",\n",
    "    indices=[i for i in input_point_indices],\n",
    "    lowBound=0,\n",
    "    upBound=1, \n",
    ")"
   ]
  },
  {
   "cell_type": "code",
   "execution_count": 13,
   "id": "a3dc2d72-c09e-4a4b-823e-7968b24b9327",
   "metadata": {},
   "outputs": [
    {
     "data": {
      "text/plain": [
       "363.5232175864159"
      ]
     },
     "execution_count": 13,
     "metadata": {},
     "output_type": "execute_result"
    }
   ],
   "source": [
    "optimal_cost = estimate_optimal_cost(data_matrix=raw_data, k=k, n_iter=10)\n",
    "optimal_cost"
   ]
  },
  {
   "cell_type": "code",
   "execution_count": 14,
   "id": "c5efd7e5-1935-49c9-a5d8-7eea7f184724",
   "metadata": {},
   "outputs": [],
   "source": [
    "input_dist = pairwise_distances(X=raw_data, metric=\"sqeuclidean\")\n",
    "coreset_dist = pairwise_distances(X=coreset_points, Y=raw_data, metric=\"sqeuclidean\")"
   ]
  },
  {
   "cell_type": "code",
   "execution_count": 15,
   "id": "fff4ecfd-bffc-4e36-8b49-490c82606704",
   "metadata": {},
   "outputs": [
    {
     "name": "stdout",
     "output_type": "stream",
     "text": [
      "Welcome to the CBC MILP Solver \n",
      "Version: 2.10.3 \n",
      "Build Date: Dec 15 2019 \n",
      "\n",
      "command line - /home/omar/.cache/pypoetry/virtualenvs/xrun-eubxByDy-py3.8/lib/python3.8/site-packages/pulp/apis/../solverdir/cbc/linux/64/cbc /tmp/6c4a63087ed143f2862bf8586ffe26b2-pulp.mps max timeMode elapsed branch printingOptions all solution /tmp/6c4a63087ed143f2862bf8586ffe26b2-pulp.sol (default strategy 1)\n",
      "At line 2 NAME          MODEL\n",
      "At line 3 ROWS\n",
      "At line 41815 COLUMNS\n",
      "At line 248016 RHS\n",
      "At line 289827 BOUNDS\n",
      "At line 331628 ENDATA\n",
      "Problem MODEL has 41810 rows, 41800 columns and 164800 elements\n",
      "Coin0008I MODEL read with 0 errors\n",
      "Option for timeMode changed from cpu to elapsed\n",
      "Presolve 41810 (0) rows, 41800 (0) columns and 164800 (0) elements\n",
      "0  Obj -0 Primal inf 747.1561 (209) Dual inf 338996.22 (39800)\n",
      "434  Obj 727.04644 Primal inf 522681.14 (2202)\n",
      "868  Obj 727.04644 Primal inf 394989.39 (2569)\n",
      "1302  Obj 727.04644 Primal inf 2344376.4 (5573)\n",
      "1736  Obj 727.03754 Primal inf 1033548.8 (14051)\n",
      "2170  Obj 727.0356 Primal inf 569585.59 (15118)\n",
      "2604  Obj 727.03548 Primal inf 753596.55 (7424)\n",
      "3038  Obj 727.0335 Primal inf 469613.11 (10755)\n",
      "3472  Obj 727.03187 Primal inf 598837.41 (5389)\n",
      "3906  Obj 727.03124 Primal inf 527090.17 (7273)\n",
      "4340  Obj 727.03074 Primal inf 471264.24 (11573)\n",
      "4774  Obj 727.03033 Primal inf 519912.66 (10051)\n",
      "5208  Obj 727.02951 Primal inf 477286.35 (5926)\n",
      "5642  Obj 727.02954 Primal inf 477659.22 (7810)\n",
      "6076  Obj 727.02896 Primal inf 523265.37 (10829)\n",
      "6510  Obj 727.02834 Primal inf 469185.3 (9970)\n",
      "6944  Obj 727.02864 Primal inf 757858.62 (14442)\n",
      "7378  Obj 727.02884 Primal inf 1662657 (10968)\n",
      "7812  Obj 727.02882 Primal inf 520610.09 (14997)\n",
      "8246  Obj 727.02925 Primal inf 431975.4 (17390)\n",
      "8680  Obj 727.02941 Primal inf 437735.29 (14889)\n",
      "9114  Obj 727.02945 Primal inf 402799.7 (16206)\n",
      "9548  Obj 727.0295 Primal inf 551836.95 (15110)\n",
      "9982  Obj 727.02963 Primal inf 427211.83 (14372)\n",
      "10416  Obj 727.02917 Primal inf 564866.02 (12709) Dual inf 3.6037575e-11 (11819)\n",
      "10850  Obj 727.02918 Primal inf 401107.37 (15152) Dual inf 1.0566214e-10 (11272)\n",
      "11284  Obj 727.0295 Primal inf 400836.91 (13407)\n",
      "11718  Obj 727.02941 Primal inf 401097.4 (15591)\n",
      "12152  Obj 727.02964 Primal inf 391983.97 (17400)\n",
      "12586  Obj 727.02971 Primal inf 384735 (18521)\n",
      "13020  Obj 727.03019 Primal inf 376360.39 (22497)\n",
      "13454  Obj 727.03086 Primal inf 354699.58 (27120)\n",
      "13888  Obj 727.03132 Primal inf 367311.89 (27055)\n",
      "14322  Obj 727.03194 Primal inf 361605.17 (26247)\n",
      "14756  Obj 727.03251 Primal inf 329858.77 (26564)\n",
      "15190  Obj 727.03295 Primal inf 369670.12 (26166)\n",
      "15624  Obj 727.03339 Primal inf 319844.73 (25800)\n",
      "16058  Obj 727.03377 Primal inf 319912.91 (25288) Dual inf 9.281604e-12 (3060)\n",
      "16492  Obj 727.03427 Primal inf 306260.03 (25215)\n",
      "16926  Obj 727.03465 Primal inf 311033.82 (24957) Dual inf 3.5498551e-12 (1168)\n",
      "17360  Obj 727.03507 Primal inf 289696.08 (24528) Dual inf 3.1593432e-12 (1036)\n",
      "17794  Obj 727.03544 Primal inf 281235.06 (24002) Dual inf 3.1405047e-12 (1029)\n",
      "18228  Obj 727.0358 Primal inf 276805 (23621) Dual inf 7.7715254e-12 (2806)\n",
      "18662  Obj 727.03617 Primal inf 297218.42 (23699) Dual inf 3.1016124e-12 (1017)\n",
      "19096  Obj 727.03644 Primal inf 270751.71 (23189) Dual inf 2.9219226e-12 (959)\n",
      "19530  Obj 727.03674 Primal inf 256644.15 (22725) Dual inf 2.9089741e-12 (954)\n",
      "19964  Obj 727.0366 Primal inf 254553.53 (22549) Dual inf 2.8895279e-12 (948)\n",
      "20398  Obj 727.0369 Primal inf 253316.73 (21985) Dual inf 2.8800853e-12 (946)\n",
      "20832  Obj 727.03721 Primal inf 246062.24 (21659) Dual inf 9.6897552e-13 (589)\n",
      "21266  Obj 727.03759 Primal inf 237696.87 (21181) Dual inf 9.6897552e-13 (589)\n",
      "21700  Obj 727.03801 Primal inf 227649.09 (20873) Dual inf 2.6542536e-12 (961)\n",
      "22134  Obj 727.03831 Primal inf 345011.42 (20506) Dual inf 2.5604366e-12 (902)\n",
      "22568  Obj 727.03869 Primal inf 217116.87 (20143) Dual inf 2.5480959e-12 (896)\n",
      "23002  Obj 727.03902 Primal inf 204019.7 (20067) Dual inf 2.5239753e-12 (886)\n",
      "23436  Obj 727.03933 Primal inf 205718.85 (19489) Dual inf 2.5081287e-12 (877)\n",
      "23870  Obj 727.03969 Primal inf 202537.18 (19168) Dual inf 2.489898e-12 (869)\n",
      "24304  Obj 727.03996 Primal inf 228199.44 (18801) Dual inf 2.4628325e-12 (858)\n",
      "24738  Obj 727.04017 Primal inf 192104.78 (18197) Dual inf 2.0796604e-12 (711)\n",
      "25172  Obj 727.0404 Primal inf 184474.79 (17939) Dual inf 2.0625983e-12 (704)\n",
      "25606  Obj 727.0406 Primal inf 179026.87 (17543) Dual inf 2.0361405e-12 (692)\n",
      "26040  Obj 727.04084 Primal inf 178757.17 (17235) Dual inf 2.0126277e-12 (681)\n",
      "26474  Obj 727.04106 Primal inf 172263.25 (16935) Dual inf 1.971445e-12 (664)\n",
      "26908  Obj 727.04112 Primal inf 165068.39 (16619) Dual inf 1.9496616e-12 (656)\n",
      "27342  Obj 727.04141 Primal inf 162543.07 (16093) Dual inf 1.931431e-12 (648)\n",
      "27776  Obj 727.04169 Primal inf 162991.51 (15801) Dual inf 1.8955305e-12 (634)\n",
      "28210  Obj 727.04192 Primal inf 155513.66 (15454) Dual inf 1.8661277e-12 (621)\n",
      "28644  Obj 727.04205 Primal inf 141042.58 (15072)\n",
      "29078  Obj 727.04221 Primal inf 137772.52 (14604)\n",
      "29512  Obj 727.04229 Primal inf 142047.49 (14238) Dual inf 6.8560776e-11 (157)\n",
      "29946  Obj 727.04231 Primal inf 128010.1 (14050) Dual inf 4.3852222e-13 (91)\n",
      "30380  Obj 727.04252 Primal inf 125439.3 (13500)\n",
      "30814  Obj 727.0427 Primal inf 125270.77 (13160)\n",
      "31248  Obj 727.04296 Primal inf 118295.4 (12960)\n",
      "31682  Obj 727.0432 Primal inf 120800.66 (12619)\n",
      "32116  Obj 727.04329 Primal inf 594279.24 (12786)\n",
      "32550  Obj 727.04332 Primal inf 115060.61 (11822)\n",
      "32984  Obj 727.04347 Primal inf 101205.76 (11344)\n",
      "33418  Obj 727.04362 Primal inf 240734.12 (11132)\n",
      "33852  Obj 727.04367 Primal inf 95385.277 (10710)\n",
      "34286  Obj 727.04373 Primal inf 87760.552 (10698)\n",
      "34720  Obj 727.04383 Primal inf 86787.613 (9804) Dual inf 8.1104668e-14 (1)\n",
      "35154  Obj 727.04392 Primal inf 82990.39 (9720)\n",
      "35588  Obj 727.04405 Primal inf 79372.294 (9414)\n",
      "36022  Obj 727.04409 Primal inf 77504.922 (9020)\n",
      "36456  Obj 727.0442 Primal inf 72613.382 (8765)\n",
      "36890  Obj 727.04429 Primal inf 72474.696 (8308)\n",
      "37324  Obj 727.04438 Primal inf 69140.121 (7919)\n",
      "37758  Obj 727.0445 Primal inf 63379.465 (7747)\n",
      "38192  Obj 727.0446 Primal inf 62647.412 (7424)\n",
      "38626  Obj 727.04464 Primal inf 61770.288 (7091)\n",
      "39060  Obj 727.04475 Primal inf 55156.788 (6900)\n",
      "39494  Obj 727.04483 Primal inf 54488.982 (6600)\n",
      "39928  Obj 727.04492 Primal inf 51667.525 (6361)\n",
      "40362  Obj 727.04497 Primal inf 48761.493 (6091)\n",
      "40796  Obj 727.04506 Primal inf 46725.752 (5714)\n",
      "41230  Obj 727.04512 Primal inf 44898.655 (5411)\n",
      "41664  Obj 727.04515 Primal inf 42361.888 (5215)\n",
      "42098  Obj 727.04512 Primal inf 41121.213 (4910)\n",
      "42532  Obj 727.04506 Primal inf 39980.89 (4585)\n",
      "42966  Obj 727.04505 Primal inf 151664.16 (4783) Dual inf 2.6514216e-12 (536)\n",
      "43400  Obj 727.04502 Primal inf 33049.151 (4406)\n",
      "43834  Obj 727.04497 Primal inf 32857.213 (4102)\n",
      "44268  Obj 727.04488 Primal inf 32321.929 (4019)\n",
      "44702  Obj 727.0449 Primal inf 30495.469 (3836)\n",
      "45136  Obj 727.04481 Primal inf 127997.21 (3628) Dual inf 1.0387153e-12 (711)\n",
      "45570  Obj 727.04477 Primal inf 33890.809 (3315)\n",
      "46004  Obj 727.04482 Primal inf 34443.511 (2925)\n",
      "46438  Obj 727.04484 Primal inf 27426.578 (2814)\n",
      "46872  Obj 727.04485 Primal inf 26663.123 (2715)\n",
      "47306  Obj 727.04486 Primal inf 25945.073 (2637)\n",
      "47740  Obj 727.04488 Primal inf 25145.575 (2565)\n",
      "48174  Obj 727.04488 Primal inf 24816.929 (2494)\n",
      "48608  Obj 727.04489 Primal inf 23985.216 (2433)\n",
      "49042  Obj 727.0449 Primal inf 23377.395 (2398) Dual inf 4.7213234e-14 (10)\n",
      "49476  Obj 727.04492 Primal inf 24001.826 (2351)\n",
      "49910  Obj 727.04494 Primal inf 22794.966 (2324)\n",
      "50344  Obj 727.04495 Primal inf 23381.019 (2300)\n",
      "50778  Obj 727.04496 Primal inf 22860.148 (2256) Dual inf 1.9502243e-13 (62)\n",
      "51125  Obj 727.04497 Primal inf 22730.932 (2242)\n",
      "51559  Obj 727.04498 Primal inf 22606.691 (2230)\n",
      "51993  Obj 727.045 Primal inf 21954.023 (2211) Dual inf 5.2911466e-13 (129)\n",
      "52427  Obj 727.04501 Primal inf 22143.383 (2193) Dual inf 3.3871979e-13 (74)\n",
      "52861  Obj 727.04505 Primal inf 22382.999 (2182) Dual inf 3.3871979e-13 (74)\n",
      "53295  Obj 727.04506 Primal inf 20647.731 (2173) Dual inf 3.3871979e-13 (74)\n",
      "53729  Obj 727.04508 Primal inf 20984.802 (2167) Dual inf 3.3871979e-13 (74)\n",
      "54071  Obj 727.04512 Primal inf 19900.634 (2149) Dual inf 8.0727841e-14 (63)\n",
      "54435  Obj 727.04513 Primal inf 20307.345 (2151) Dual inf 8.0727841e-14 (63)\n",
      "54869  Obj 727.04514 Primal inf 19928.938 (2141) Dual inf 8.0727841e-14 (63)\n",
      "55229  Obj 727.04516 Primal inf 20679.449 (2132) Dual inf 3.5058292e-15 (3)\n",
      "55663  Obj 727.04517 Primal inf 20060.251 (2128) Dual inf 8.0727841e-14 (63)\n",
      "56097  Obj 727.04522 Primal inf 19909.308 (2114) Dual inf 6.1269545e-13 (161)\n",
      "56531  Obj 727.04523 Primal inf 19292.251 (2106) Dual inf 7.9559232e-14 (62)\n",
      "56846  Obj 727.04524 Primal inf 19301.805 (2099) Dual inf 3.5058292e-15 (3)\n",
      "57280  Obj 727.04525 Primal inf 19036.496 (2102) Dual inf 3.5058292e-15 (3)\n",
      "57696  Obj 727.04528 Primal inf 18521.373 (2097) Dual inf 7.9559232e-14 (62)\n",
      "58130  Obj 727.04529 Primal inf 18743.642 (2088)\n",
      "58531  Obj 727.04532 Primal inf 18639.608 (2083)\n",
      "58965  Obj 727.04533 Primal inf 18296.403 (2079) Dual inf 3.1567404e-13 (71)\n",
      "59399  Obj 727.04536 Primal inf 17645.352 (2069) Dual inf 2.2124757e-13 (51)\n",
      "59833  Obj 727.04538 Primal inf 18057.865 (2066) Dual inf 2.2124757e-13 (51)\n",
      "60267  Obj 727.0454 Primal inf 17563.283 (2059) Dual inf 2.2124757e-13 (51)\n",
      "60651  Obj 727.04541 Primal inf 16923.334 (2055) Dual inf 7.7383695e-13 (4)\n",
      "61085  Obj 727.04542 Primal inf 16724.494 (2056)\n",
      "61519  Obj 727.04544 Primal inf 16929.81 (2054) Dual inf 2.2124757e-13 (51)\n",
      "61953  Obj 727.04545 Primal inf 16844.392 (2055) Dual inf 2.2124757e-13 (51)\n",
      "62335  Obj 727.04546 Primal inf 17066.826 (2050) Dual inf 7.7383695e-13 (4)\n",
      "62769  Obj 727.04547 Primal inf 16865.115 (2053) Dual inf 7.7383695e-13 (4)\n",
      "63203  Obj 727.04548 Primal inf 16487.231 (2048) Dual inf 8.78642e-13 (4)\n",
      "63637  Obj 727.04548 Primal inf 20114.929 (2028) Dual inf 4.0757575e-13 (101)\n",
      "64071  Obj 727.04549 Primal inf 16661.856 (2003)\n",
      "64505  Obj 727.04549 Primal inf 17149.922 (1995) Dual inf 7.5607338e-13 (4)\n",
      "64939  Obj 727.04551 Primal inf 15017.213 (1975) Dual inf 1.3785257e-13 (45)\n",
      "65373  Obj 727.04561 Primal inf 14402.372 (1828)\n",
      "65807  Obj 727.0457 Primal inf 12813.938 (1726) Dual inf 1.3322501e-13 (38)\n",
      "66241  Obj 727.04575 Primal inf 12264.802 (1654) Dual inf 5.2754516e-12 (21)\n",
      "66675  Obj 727.04588 Primal inf 9613.5688 (1483) Dual inf 5.8430487e-15 (5)\n",
      "67109  Obj 727.04597 Primal inf 8196.3707 (1298) Dual inf 9.7101256e-13 (4)\n",
      "67543  Obj 727.04608 Primal inf 6582.5136 (1120) Dual inf 2.4540805e-14 (21)\n",
      "67977  Obj 727.04612 Primal inf 5542.0276 (776) Dual inf 5.3286017e-13 (3)\n",
      "68401  Obj 727.04616 Primal inf 4857.4231 (703) Dual inf 2.1175629e-14 (9)\n",
      "68835  Obj 727.04623 Primal inf 3788.1214 (509) Dual inf 8.8348998e-15 (3)\n",
      "69269  Obj 727.04626 Primal inf 3202.9573 (413) Dual inf 2.2951986e-14 (9)\n",
      "69703  Obj 727.04632 Primal inf 2495.3294 (339) Dual inf 1.416397e-14 (3)\n",
      "70137  Obj 718.19286 Primal inf 1427.5183 (196)\n",
      "70571  Obj 718.19284 Primal inf 3326.6841 (343)\n",
      "71005  Obj 718.19283 Primal inf 4239.975 (348)\n",
      "71439  Obj 718.19283 Primal inf 4778.9817 (353)\n",
      "71873  Obj 718.19282 Primal inf 2805.4801 (350)\n",
      "72307  Obj 718.19282 Primal inf 2712.7702 (347)\n",
      "72736  Obj 716.95034 Primal inf 2073.4024 (360)\n",
      "73170  Obj 716.95034 Primal inf 2141.59 (361)\n",
      "73604  Obj 716.53618 Primal inf 3152.7697 (368)\n",
      "74038  Obj 695.86219 Primal inf 1659.1189 (323)\n",
      "74472  Obj 656.28753 Primal inf 2189.1307 (366)\n",
      "74906  Obj 653.97203 Primal inf 1853.8063 (338)\n",
      "75340  Obj 622.34478 Primal inf 3005.3532 (564)\n",
      "75774  Obj 604.9857 Primal inf 4945.0668 (589)\n",
      "76208  Obj 604.9857 Primal inf 5378.0163 (593)\n",
      "76642  Obj 604.98569 Primal inf 5620.8312 (596)\n",
      "77076  Obj 604.98567 Primal inf 6090.3051 (606)\n",
      "77510  Obj 604.98564 Primal inf 5845.8068 (611)\n",
      "77944  Obj 604.98559 Primal inf 6943.9107 (616)\n",
      "78378  Obj 604.98547 Primal inf 9126.3613 (610)\n",
      "78812  Obj 600.32776 Primal inf 7523.3163 (850)\n",
      "79246  Obj 593.87234 Primal inf 3834.8621 (481)\n",
      "79680  Obj 592.72412 Primal inf 1096.3139 (520)\n",
      "80114  Obj 592.15185 Primal inf 341.18063 (261)\n",
      "80548  Obj 591.26854 Primal inf 586.64269 (503)\n",
      "80982  Obj 588.19395 Primal inf 1178.4977 (301)\n",
      "81416  Obj 586.72783 Primal inf 24.491259 (33)\n",
      "81850  Obj 585.7077 Primal inf 11.551612 (24)\n",
      "82284  Obj 585.44586 Primal inf 135.05291 (3)\n",
      "82718  Obj 585.44586 Primal inf 10.509433 (3)\n",
      "82842  Obj 585.44586\n",
      "Optimal - objective value 585.44589\n",
      "Optimal objective 585.4458944 - 82842 iterations time 40.522\n",
      "Option for printingOptions changed from normal to all\n",
      "Total time (CPU seconds):       40.65   (Wallclock seconds):       40.85\n",
      "\n"
     ]
    },
    {
     "data": {
      "text/plain": [
       "1"
      ]
     },
     "execution_count": 15,
     "metadata": {},
     "output_type": "execute_result"
    }
   ],
   "source": [
    "lp_problem = pulp.LpProblem(\"max_distortion_problem\", pulp.LpMaximize)\n",
    "\n",
    "# Set the objective\n",
    "x_vals = [ (X[(i, j)], input_dist[i,j]) for i, j in input_pairs if input_dist[i,j] > 0]\n",
    "y_vals = [ (Y[(i, j)], -1 * coreset_dist[i,j] * coreset_weights[i]) for i, j in coreset_pairs if coreset_dist[i,j] * coreset_weights[i] > 0]\n",
    "lp_problem += pulp.LpAffineExpression(x_vals + y_vals)\n",
    "\n",
    "lp_problem += (pulp.lpSum([z[j] for j in range(n_points)]) == k, \"constraint_exactly_k_centers\")\n",
    "\n",
    "lp_problem += ( pulp.LpAffineExpression(x_vals) <= 2*optimal_cost, \"constraint_below_2OPT\")\n",
    "\n",
    "for i in range(n_points):\n",
    "    lp_problem += (pulp.lpSum([X[i,j] for j in range(n_points)]) == 1, f\"constraint_input_point_{i}_has_cluster\")\n",
    "\n",
    "for i in range(n_points):\n",
    "    for j in range(n_points):\n",
    "        lp_problem += (X[i,j] <= z[j],\n",
    "            f\"constraint_input_point_{i}_has_cluster{j}\"\n",
    "        )\n",
    "\n",
    "\n",
    "for i in range(n_coreset_points):\n",
    "    lp_problem += (pulp.lpSum([Y[i,j] for j in range(n_points)]) == 1, f\"constraint_coreset_point_{i}_has_cluster\")\n",
    "\n",
    "for i in range(n_coreset_points):\n",
    "    for j in range(n_points):\n",
    "        lp_problem += (Y[i,j] <= z[j],\n",
    "            f\"constraint_coreset_point_{i}_has_cluster_{j}\"\n",
    "        )\n",
    "        \n",
    "lp_problem.writeLP(\"max_distortion_problem.lp\")\n",
    "        \n",
    "lp_problem.solve()"
   ]
  },
  {
   "cell_type": "code",
   "execution_count": 16,
   "id": "500a1896-c3db-4d2d-972e-ff2c600e1636",
   "metadata": {},
   "outputs": [
    {
     "name": "stdout",
     "output_type": "stream",
     "text": [
      "Status: Optimal\n"
     ]
    }
   ],
   "source": [
    "print(\"Status:\", pulp.LpStatus[lp_problem.status])"
   ]
  },
  {
   "cell_type": "code",
   "execution_count": 17,
   "id": "022b4d41-8944-4bf0-911f-a33236b4117c",
   "metadata": {},
   "outputs": [
    {
     "data": {
      "text/plain": [
       "{1, 17, 83, 165}"
      ]
     },
     "execution_count": 17,
     "metadata": {},
     "output_type": "execute_result"
    }
   ],
   "source": [
    "y_cluster_indices = set()\n",
    "for i,j in Y:\n",
    "    if Y[(i,j)].value():\n",
    "        y_cluster_indices.add(j)\n",
    "y_cluster_indices"
   ]
  },
  {
   "cell_type": "code",
   "execution_count": 18,
   "id": "3f052dde-a896-4852-b698-22c59686183b",
   "metadata": {},
   "outputs": [
    {
     "data": {
      "text/plain": [
       "{1, 17, 83, 165}"
      ]
     },
     "execution_count": 18,
     "metadata": {},
     "output_type": "execute_result"
    }
   ],
   "source": [
    "x_cluster_indices = set()\n",
    "for i,j in X:\n",
    "    if X[(i,j)].value():\n",
    "        x_cluster_indices.add(j)\n",
    "x_cluster_indices"
   ]
  },
  {
   "cell_type": "code",
   "execution_count": 19,
   "id": "29406411-7bf6-4157-b1dd-3722e3d49dd3",
   "metadata": {},
   "outputs": [
    {
     "data": {
      "text/plain": [
       "[1, 17, 83, 165]"
      ]
     },
     "execution_count": 19,
     "metadata": {},
     "output_type": "execute_result"
    }
   ],
   "source": [
    "clustering_solution_indices = [i for i in range(n_points) if z[i].value()]\n",
    "clustering_solution_indices"
   ]
  },
  {
   "cell_type": "code",
   "execution_count": 20,
   "id": "cd730b0d-0c90-4d39-ad56-39a7aa359645",
   "metadata": {},
   "outputs": [],
   "source": [
    "clustering_solution_centers = raw_data[clustering_solution_indices]"
   ]
  },
  {
   "cell_type": "code",
   "execution_count": 21,
   "id": "9ecdf9b1-800c-469d-8f2c-38dcf014c926",
   "metadata": {},
   "outputs": [],
   "source": [
    "real_cost = compute_real_cost(\n",
    "    data_points=raw_data,\n",
    "    center_points=clustering_solution_centers,\n",
    ")\n",
    "coreset_cost = compute_coreset_costs(\n",
    "    coreset_points=coreset_points,\n",
    "    coreset_weights=coreset_weights,\n",
    "    center_points=clustering_solution_centers,\n",
    ")\n",
    "distortion = max(float(real_cost/coreset_cost), float(coreset_cost/real_cost))"
   ]
  },
  {
   "cell_type": "code",
   "execution_count": 22,
   "id": "5a53d294-6546-47ea-b06e-956b3e451cdf",
   "metadata": {},
   "outputs": [
    {
     "data": {
      "image/png": "[encoded data removed]",
      "text/plain": [
       "<Figure size 720x504 with 1 Axes>"
      ]
     },
     "metadata": {},
     "output_type": "display_data"
    }
   ],
   "source": [
    "fig, ax = plt.subplots(figsize=(10, 7))\n",
    "sns.scatterplot(x=raw_data[:,0], y=raw_data[:,1], color=\"lightgrey\", label=\"original points\", ax=ax)\n",
    "sns.scatterplot(x=coreset_points[:,0], y=coreset_points[:,1], s=coreset_weights*2, color=\"green\", label=\"coreset points\", ax=ax)\n",
    "sns.scatterplot(x=clustering_solution_centers[:,0], y=clustering_solution_centers[:,1], color=\"red\", label=f\"candidate solution (distortion={distortion:0.4f})\", ax=ax)\n",
    "ax.grid(False)"
   ]
  },
  {
   "cell_type": "markdown",
   "id": "9a00864e-82e6-4d3d-992b-55039fafe2aa",
   "metadata": {},
   "source": [
    "## Finding worst distortion"
   ]
  },
  {
   "cell_type": "code",
   "execution_count": 23,
   "id": "aee83700-b1fc-4c8f-9bb6-a177bcb4e08e",
   "metadata": {},
   "outputs": [
    {
     "name": "stderr",
     "output_type": "stream",
     "text": [
      "100%|██████████████████████████████████████████████████████████████████████████████| 1000/1000 [00:01<00:00, 609.25it/s]\n"
     ]
    }
   ],
   "source": [
    "n_iterations = 1000\n",
    "worst_distortion = 0\n",
    "worst_solution = None\n",
    "\n",
    "with tqdm(total=n_iterations) as pbar:\n",
    "    for i in range(n_iterations):\n",
    "\n",
    "        km = KMeans(n_clusters=k, n_init=1, max_iter=1)\n",
    "        km.fit(raw_data)\n",
    "        candidate_sol = km.cluster_centers_\n",
    "\n",
    "        real_cost = compute_real_cost(\n",
    "            data_points=raw_data,\n",
    "            center_points=candidate_sol,\n",
    "        )\n",
    "        coreset_cost = compute_coreset_costs(\n",
    "            coreset_points=coreset_points,\n",
    "            coreset_weights=coreset_weights,\n",
    "            center_points=candidate_sol,\n",
    "        )\n",
    "        distortion = max(float(real_cost/coreset_cost), float(coreset_cost/real_cost))\n",
    "        \n",
    "        if distortion > worst_distortion:\n",
    "            worst_distortion = distortion\n",
    "            worst_solution = candidate_sol.copy()\n",
    "        pbar.update()"
   ]
  },
  {
   "cell_type": "code",
   "execution_count": 24,
   "id": "0c6efa8a-9140-4ea9-8bc9-045a75f82704",
   "metadata": {},
   "outputs": [
    {
     "data": {
      "image/png": "[encoded data removed]",
      "text/plain": [
       "<Figure size 720x504 with 1 Axes>"
      ]
     },
     "metadata": {},
     "output_type": "display_data"
    }
   ],
   "source": [
    "fig, ax = plt.subplots(figsize=(10, 7))\n",
    "sns.scatterplot(x=raw_data[:,0], y=raw_data[:,1], color=\"lightgrey\", label=\"original points\", ax=ax)\n",
    "sns.scatterplot(x=coreset_points[:,0], y=coreset_points[:,1], s=coreset_weights*10, color=\"green\", label=\"coreset points\", ax=ax)\n",
    "sns.scatterplot(x=worst_solution[:,0], y=worst_solution[:,1], color=\"red\", label=f\"worst solution (distortion={worst_distortion:0.4f})\", ax=ax)\n",
    "ax.grid(False)"
   ]
  },
  {
   "cell_type": "markdown",
   "id": "0458b3c6-17ae-4b6d-82d5-489e7ad3e8de",
   "metadata": {},
   "source": [
    "## Find low cost solution"
   ]
  },
  {
   "cell_type": "code",
   "execution_count": 25,
   "id": "09c28b3b-e7ce-4cd8-aef9-2bd409024475",
   "metadata": {},
   "outputs": [
    {
     "name": "stderr",
     "output_type": "stream",
     "text": [
      "100%|██████████████████████████████████████████████████████████████████████████████| 1000/1000 [00:01<00:00, 660.39it/s]\n"
     ]
    }
   ],
   "source": [
    "n_iterations = 1000\n",
    "lowest_cost = None\n",
    "lowest_cost_solution = None\n",
    "\n",
    "with tqdm(total=n_iterations) as pbar:\n",
    "    for i in range(n_iterations):\n",
    "        \n",
    "\n",
    "        km = KMeans(n_clusters=k, n_init=1, max_iter=1)\n",
    "        km.fit(raw_data)\n",
    "        candidate_sol = km.cluster_centers_\n",
    "\n",
    "        real_cost = compute_real_cost(\n",
    "            data_points=raw_data,\n",
    "            center_points=candidate_sol,\n",
    "        )\n",
    "        if i == 0:\n",
    "            lowest_cost = real_cost\n",
    "        \n",
    "        if real_cost <= lowest_cost:\n",
    "            lowest_cost = real_cost\n",
    "            lowest_cost_solution = candidate_sol.copy()\n",
    "        pbar.update()"
   ]
  },
  {
   "cell_type": "code",
   "execution_count": 26,
   "id": "0323c774-4260-430b-b399-09cda85e43f3",
   "metadata": {},
   "outputs": [
    {
     "data": {
      "image/png": "[encoded data removed]",
      "text/plain": [
       "<Figure size 720x504 with 1 Axes>"
      ]
     },
     "metadata": {},
     "output_type": "display_data"
    }
   ],
   "source": [
    "fig, ax = plt.subplots(figsize=(10, 7))\n",
    "sns.scatterplot(x=raw_data[:,0], y=raw_data[:,1], color=\"lightgrey\", label=\"original points\", ax=ax)\n",
    "sns.scatterplot(x=coreset_points[:,0], y=coreset_points[:,1], s=coreset_weights*10, color=\"green\", label=\"coreset points\", ax=ax)\n",
    "sns.scatterplot(x=lowest_cost_solution[:,0], y=lowest_cost_solution[:,1], color=\"red\", label=f\"low cost solution {lowest_cost:0.2f}\", ax=ax)\n",
    "sns.scatterplot(x=true_centers[:,0], y=true_centers[:,1], color=\"blue\", marker=\"*\", s=200, label=f\"true centers {optimal_cost:0.2f} \", ax=ax)\n",
    "ax.grid(False)"
   ]
  },
  {
   "cell_type": "code",
   "execution_count": null,
   "id": "663594c5-3cc3-4f32-9800-3e1770ec206e",
   "metadata": {},
   "outputs": [],
   "source": []
  }
 ],
 "metadata": {
  "kernelspec": {
   "display_name": "Python 3 (ipykernel)",
   "language": "python",
   "name": "python3"
  },
  "language_info": {
   "codemirror_mode": {
    "name": "ipython",
    "version": 3
   },
   "file_extension": ".py",
   "mimetype": "text/x-python",
   "name": "python",
   "nbconvert_exporter": "python",
   "pygments_lexer": "ipython3",
   "version": "3.8.8"
  }
 },
 "nbformat": 4,
 "nbformat_minor": 5
}

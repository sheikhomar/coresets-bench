{
 "cells": [
  {
   "cell_type": "code",
   "execution_count": 1,
   "id": "9d03ed0c-b9f5-4d90-9b30-af259363d89d",
   "metadata": {},
   "outputs": [],
   "source": [
    "import sys\n",
    "sys.path.append('../xrun')"
   ]
  },
  {
   "cell_type": "code",
   "execution_count": 2,
   "id": "6c71dff9-1132-4398-b2ea-cefa61d65eee",
   "metadata": {},
   "outputs": [],
   "source": [
    "import re\n",
    "\n",
    "from pathlib import Path\n",
    "\n",
    "import matplotlib.pyplot as plt\n",
    "import numba\n",
    "import numpy as np\n",
    "import pandas as pd\n",
    "import pulp\n",
    "import seaborn as sns\n",
    "\n",
    "\n",
    "\n",
    "sns.set(style=\"whitegrid\")\n",
    "\n",
    "from IPython.core.display import HTML\n",
    "\n",
    "from scipy.sparse import linalg as sparse_linalg, issparse\n",
    "from scipy.spatial.distance import cdist, euclidean\n",
    "\n",
    "from sklearn.cluster import KMeans\n",
    "from sklearn.datasets import make_blobs\n",
    "from sklearn.metrics import pairwise_distances, pairwise_distances_argmin_min\n",
    "from sklearn.utils import shuffle\n",
    "from sklearn.utils.extmath import safe_sparse_dot\n",
    "\n",
    "from tqdm import tqdm\n",
    "\n",
    "from xrun.data.run_info import RunInfo\n",
    "from xrun.data.loader import load_dataset"
   ]
  },
  {
   "cell_type": "code",
   "execution_count": 3,
   "id": "79c90746-4833-4047-8c04-1860a62115b8",
   "metadata": {},
   "outputs": [],
   "source": [
    "def compute_real_cost(data_points: np.ndarray, center_points: np.ndarray):\n",
    "    D = pairwise_distances(data_points, center_points, metric=\"sqeuclidean\")\n",
    "    dist_closest_centers = np.min(D, axis=1)\n",
    "    cost = np.sum(dist_closest_centers)\n",
    "    return cost\n",
    "\n",
    "def compute_coreset_costs(coreset_points: np.ndarray, coreset_weights: np.ndarray, center_points: np.ndarray):\n",
    "    D = pairwise_distances(coreset_points, center_points, metric=\"sqeuclidean\")\n",
    "    dist_closest_centers = np.min(D, axis=1)\n",
    "    weighted_cost = np.sum(coreset_weights * dist_closest_centers)\n",
    "    return weighted_cost"
   ]
  },
  {
   "cell_type": "code",
   "execution_count": 4,
   "id": "fb6b7bc0-5408-48c7-bcd8-647c65d2294f",
   "metadata": {},
   "outputs": [],
   "source": [
    "# data_centers = np.random.randint(low=2, high=5)\n",
    "true_centers = np.array([\n",
    "    [ 0,  0],\n",
    "    [-5, -5],\n",
    "    [-5,  5],\n",
    "    [ 5,  -6],\n",
    "])\n",
    "raw_data, labels = make_blobs(n_samples=100, centers=true_centers, random_state=42)"
   ]
  },
  {
   "cell_type": "code",
   "execution_count": 5,
   "id": "624c8e20-c327-48bc-a2cf-05765d4467df",
   "metadata": {},
   "outputs": [],
   "source": [
    "k = true_centers.shape[0]\n",
    "n_points = raw_data.shape[0]"
   ]
  },
  {
   "cell_type": "code",
   "execution_count": 6,
   "id": "0c5a2553-bf98-4a98-bfd4-8ae01421f00f",
   "metadata": {},
   "outputs": [],
   "source": [
    "km = KMeans(n_clusters=k*2, n_init=10, max_iter=1)\n",
    "km.fit(raw_data)\n",
    "coreset_points = km.cluster_centers_\n",
    "\n",
    "_, coreset_weights = np.unique(km.labels_, return_counts=True)\n",
    "\n",
    "n_coreset_points = coreset_points.shape[0]"
   ]
  },
  {
   "cell_type": "code",
   "execution_count": 7,
   "id": "188b621d-12e2-410d-b78b-fa4a7efae8a9",
   "metadata": {},
   "outputs": [
    {
     "data": {
      "image/png": "[encoded data removed]",
      "text/plain": [
       "<Figure size 720x504 with 1 Axes>"
      ]
     },
     "metadata": {},
     "output_type": "display_data"
    }
   ],
   "source": [
    "fig, ax = plt.subplots(figsize=(10, 7))\n",
    "sns.scatterplot(x=raw_data[:,0], y=raw_data[:,1], color=\"lightgrey\", label=\"original points\", ax=ax)\n",
    "sns.scatterplot(x=coreset_points[:,0], y=coreset_points[:,1], s=coreset_weights*2, color=\"green\", label=\"coreset points\", ax=ax)\n",
    "ax.grid(False)"
   ]
  },
  {
   "cell_type": "code",
   "execution_count": 8,
   "id": "6ca38f1f-bd7d-4ede-b453-5bc7eb898205",
   "metadata": {},
   "outputs": [],
   "source": [
    "input_point_indices = np.arange(start=0, stop=n_points)\n",
    "coreset_point_indices = np.arange(start=0, stop=n_coreset_points)\n",
    "clustering_center_indices = np.arange(start=0, stop=k)"
   ]
  },
  {
   "cell_type": "code",
   "execution_count": 9,
   "id": "0f3ec637-5a2f-4201-90f7-39271e0c9609",
   "metadata": {},
   "outputs": [],
   "source": [
    "input_pairs = [(i, j) for i in input_point_indices for j in input_point_indices]\n",
    "coreset_pairs = [(i, j) for i in coreset_point_indices for j in input_point_indices]"
   ]
  },
  {
   "cell_type": "code",
   "execution_count": 10,
   "id": "aa1888f7-08c8-4751-8af1-0e02e2870367",
   "metadata": {},
   "outputs": [],
   "source": [
    "# X[i,j] \\in [0,1] is a variable indicating whether point i is assigned to center j.\n",
    "# X = np.zeros(shape=(n_points, k))\n",
    "X = pulp.LpVariable.dicts(\n",
    "    name=\"X\",\n",
    "    indices=input_pairs, \n",
    "    lowBound=0,\n",
    "    upBound=1, \n",
    ")"
   ]
  },
  {
   "cell_type": "code",
   "execution_count": 11,
   "id": "5817c5a6-a3f5-4c54-8449-15eb4aa16dc4",
   "metadata": {},
   "outputs": [],
   "source": [
    "# Y[i,j] \\in [0,1] is a variable indicating whether coreset point i is assigned to center j.\n",
    "# Y = np.zeros(shape=(n_coreset_points, k))\n",
    "Y = pulp.LpVariable.dicts(\n",
    "    name=\"Y\",\n",
    "    indices=coreset_pairs, \n",
    "    lowBound=0,\n",
    "    upBound=1, \n",
    ")"
   ]
  },
  {
   "cell_type": "code",
   "execution_count": 12,
   "id": "2ee30cd2-66c6-4d56-a190-638db12edc13",
   "metadata": {},
   "outputs": [],
   "source": [
    "#z[j] \\in [0,1] is a variable indicating whether we have a center at point j.\n",
    "# z = np.zeros(shape=(n_points, 1))\n",
    "z = pulp.LpVariable.dicts(\n",
    "    name=\"z\",\n",
    "    indices=[i for i in input_point_indices],\n",
    "    lowBound=0,\n",
    "    upBound=1, \n",
    ")"
   ]
  },
  {
   "cell_type": "code",
   "execution_count": 13,
   "id": "586d49d6-637c-4829-914e-e3d03a3601be",
   "metadata": {},
   "outputs": [
    {
     "data": {
      "text/plain": [
       "172.819344056235"
      ]
     },
     "execution_count": 13,
     "metadata": {},
     "output_type": "execute_result"
    }
   ],
   "source": [
    "optimal_cost = compute_real_cost(\n",
    "    data_points=raw_data,\n",
    "    center_points=true_centers,\n",
    ")\n",
    "optimal_cost"
   ]
  },
  {
   "cell_type": "code",
   "execution_count": 14,
   "id": "c5efd7e5-1935-49c9-a5d8-7eea7f184724",
   "metadata": {},
   "outputs": [],
   "source": [
    "input_dist = pairwise_distances(X=raw_data, metric=\"sqeuclidean\")\n",
    "coreset_dist = pairwise_distances(X=coreset_points, Y=raw_data, metric=\"sqeuclidean\")"
   ]
  },
  {
   "cell_type": "code",
   "execution_count": 15,
   "id": "fff4ecfd-bffc-4e36-8b49-490c82606704",
   "metadata": {},
   "outputs": [
    {
     "name": "stdout",
     "output_type": "stream",
     "text": [
      "Welcome to the CBC MILP Solver \n",
      "Version: 2.10.3 \n",
      "Build Date: Dec 15 2019 \n",
      "\n",
      "command line - /home/omar/.cache/pypoetry/virtualenvs/xrun-eubxByDy-py3.8/lib/python3.8/site-packages/pulp/apis/../solverdir/cbc/linux/64/cbc /tmp/3e5691e540d44e4cab55a36daed6c5f2-pulp.mps max timeMode elapsed branch printingOptions all solution /tmp/3e5691e540d44e4cab55a36daed6c5f2-pulp.sol (default strategy 1)\n",
      "At line 2 NAME          MODEL\n",
      "At line 3 ROWS\n",
      "At line 10915 COLUMNS\n",
      "At line 64016 RHS\n",
      "At line 74927 BOUNDS\n",
      "At line 85828 ENDATA\n",
      "Problem MODEL has 10910 rows, 10900 columns and 42400 elements\n",
      "Coin0008I MODEL read with 0 errors\n",
      "Option for timeMode changed from cpu to elapsed\n",
      "Presolve 10910 (0) rows, 10900 (0) columns and 42400 (0) elements\n",
      "0  Obj -0 Primal inf 239.89302 (109) Dual inf 150253.8 (9900)\n",
      "279  Obj 345.63869 Primal inf 65803.137 (2067)\n",
      "558  Obj 345.63869 Primal inf 108056.03 (5057)\n",
      "837  Obj 345.63869 Primal inf 84509.781 (5207)\n",
      "1116  Obj 345.63702 Primal inf 75470.051 (5089)\n",
      "1395  Obj 345.6366 Primal inf 704508.32 (3670)\n",
      "1674  Obj 345.63651 Primal inf 65456.988 (5240)\n",
      "1953  Obj 345.63655 Primal inf 98529.184 (5911) Dual inf 1.1686097e-15 (1)\n",
      "2232  Obj 345.63646 Primal inf 68165.67 (6819) Dual inf 1.1686097e-15 (1)\n",
      "2511  Obj 345.63617 Primal inf 61706.029 (6707) Dual inf 1.1686097e-15 (1)\n",
      "2790  Obj 345.63615 Primal inf 59848.451 (7004) Dual inf 4.7213234e-15 (1)\n",
      "3069  Obj 345.63601 Primal inf 132010.97 (6596) Dual inf 1.1686097e-15 (1)\n",
      "3348  Obj 345.63591 Primal inf 57625.046 (6785) Dual inf 5.8899332e-15 (2)\n",
      "3627  Obj 345.63581 Primal inf 57150.492 (6767)\n",
      "3906  Obj 345.63575 Primal inf 56145.599 (6603)\n",
      "4185  Obj 345.63586 Primal inf 52820.86 (6373)\n",
      "4464  Obj 345.63594 Primal inf 50809.774 (6225)\n",
      "4743  Obj 345.63611 Primal inf 48156.112 (6032)\n",
      "5022  Obj 345.63615 Primal inf 46102.321 (6052)\n",
      "5301  Obj 345.63629 Primal inf 45044.064 (5752)\n",
      "5580  Obj 345.63639 Primal inf 41477.859 (5634)\n",
      "5859  Obj 345.63648 Primal inf 41304.993 (5365)\n",
      "6138  Obj 345.63656 Primal inf 40616.631 (5295)\n",
      "6417  Obj 345.63666 Primal inf 36768.54 (5026)\n",
      "6696  Obj 345.63669 Primal inf 37076.153 (4971)\n",
      "6975  Obj 345.63679 Primal inf 34580.499 (4514)\n",
      "7254  Obj 345.63687 Primal inf 30464.692 (4202)\n",
      "7533  Obj 345.63696 Primal inf 30002.654 (4017)\n",
      "7812  Obj 345.63706 Primal inf 27933.752 (3829)\n",
      "8091  Obj 345.63712 Primal inf 28279.111 (3606)\n",
      "8370  Obj 345.6372 Primal inf 26739.03 (3367)\n",
      "8649  Obj 345.63727 Primal inf 25176.281 (3306)\n",
      "8928  Obj 345.63736 Primal inf 24962.965 (3133)\n",
      "9207  Obj 345.63745 Primal inf 25879.412 (2902)\n",
      "9443  Obj 345.63748 Primal inf 27329.148 (2736) Dual inf 1.1686097e-15 (1)\n",
      "9722  Obj 345.63754 Primal inf 106484.75 (2404) Dual inf 1.1686097e-15 (1)\n",
      "10001  Obj 345.63759 Primal inf 175087.24 (1491)\n",
      "10270  Obj 345.6376 Primal inf 22810.049 (1522) Dual inf 1.1686097e-15 (1)\n",
      "10496  Obj 345.63763 Primal inf 21570.75 (1539)\n",
      "10772  Obj 345.63765 Primal inf 22438.823 (1405)\n",
      "10981  Obj 345.63766 Primal inf 22697.666 (1405)\n",
      "11185  Obj 345.63767 Primal inf 22006.612 (1517) Dual inf 1.1686097e-15 (1)\n",
      "11406  Obj 345.63767 Primal inf 22680.941 (1517)\n",
      "11623  Obj 345.63767 Primal inf 714070.28 (1522)\n",
      "11851  Obj 345.63768 Primal inf 26645.86 (1622)\n",
      "12082  Obj 345.6377 Primal inf 22439.347 (1557)\n",
      "12361  Obj 345.63781 Primal inf 20950.543 (1552)\n",
      "12640  Obj 345.63789 Primal inf 19900.249 (1520)\n",
      "12919  Obj 345.63797 Primal inf 18642.155 (1457) Dual inf 1.1686097e-15 (1)\n",
      "13198  Obj 345.63803 Primal inf 17437.033 (1427) Dual inf 1.1686097e-15 (1)\n",
      "13477  Obj 345.63812 Primal inf 18704.719 (1610)\n",
      "13756  Obj 345.63817 Primal inf 22726.839 (1384) Dual inf 1.1686097e-15 (1)\n",
      "14006  Obj 345.6382 Primal inf 14615.013 (1338)\n",
      "14260  Obj 345.63824 Primal inf 13566.368 (1233)\n",
      "14539  Obj 345.6383 Primal inf 410575.51 (1244)\n",
      "14818  Obj 345.63836 Primal inf 12289.852 (1058)\n",
      "15097  Obj 345.63842 Primal inf 11016.871 (983)\n",
      "15376  Obj 345.63847 Primal inf 10394.185 (916)\n",
      "15655  Obj 345.63852 Primal inf 11614.628 (848)\n",
      "15881  Obj 345.63856 Primal inf 328831.3 (972) Dual inf 3.898308e-12 (13)\n",
      "16133  Obj 345.6386 Primal inf 8834.1974 (1008) Dual inf 7.0585429e-15 (3)\n",
      "16412  Obj 345.63864 Primal inf 4701.6803 (906) Dual inf 1.1686097e-15 (1)\n",
      "16691  Obj 345.63867 Primal inf 3877.0552 (806)\n",
      "16965  Obj 341.05633 Primal inf 1548.0022 (365)\n",
      "17228  Obj 341.05633 Primal inf 1647.5418 (315)\n",
      "17437  Obj 341.05633 Primal inf 1059.2002 (276)\n",
      "17716  Obj 282.05799 Primal inf 1028.1387 (288)\n",
      "17995  Obj 279.91631 Primal inf 546.62114 (258)\n",
      "18144  Obj 277.33096\n",
      "Optimal - objective value 277.33096\n",
      "Optimal objective 277.3309552 - 18144 iterations time 2.332\n",
      "Option for printingOptions changed from normal to all\n",
      "Total time (CPU seconds):       2.37   (Wallclock seconds):       2.39\n",
      "\n"
     ]
    },
    {
     "data": {
      "text/plain": [
       "1"
      ]
     },
     "execution_count": 15,
     "metadata": {},
     "output_type": "execute_result"
    }
   ],
   "source": [
    "lp_problem = pulp.LpProblem(\"max_distortion_problem\", pulp.LpMaximize)\n",
    "\n",
    "# Set the objective\n",
    "lp_problem += pulp.lpSum([input_dist[i,j] * X[(i, j)] for i, j in input_pairs]) - pulp.lpSum([coreset_dist[i,j] * coreset_weights[i] * Y[(i, j)] for i, j in coreset_pairs])\n",
    "\n",
    "lp_problem += (pulp.lpSum([z[j] for j in range(n_points)]) == k, \"constraint_exactly_k_centers\")\n",
    "\n",
    "lp_problem += ( pulp.lpSum([input_dist[i,j] * X[(i, j)] for i, j in input_pairs]) <= 2*optimal_cost, \"constraint_below_2OPT\")\n",
    "\n",
    "for i in range(n_points):\n",
    "    lp_problem += (pulp.lpSum([X[i,j] for j in range(n_points)]) == 1, f\"constraint_input_point_{i}_has_cluster\")\n",
    "\n",
    "for i in range(n_points):\n",
    "    for j in range(n_points):\n",
    "        lp_problem += (X[i,j] <= z[j],\n",
    "            f\"constraint_input_point_{i}_has_cluster{j}\"\n",
    "        )\n",
    "\n",
    "\n",
    "for i in range(n_coreset_points):\n",
    "    lp_problem += (pulp.lpSum([Y[i,j] for j in range(n_points)]) == 1, f\"constraint_coreset_point_{i}_has_cluster\")\n",
    "\n",
    "for i in range(n_coreset_points):\n",
    "    for j in range(n_points):\n",
    "        lp_problem += (Y[i,j] <= z[j],\n",
    "            f\"constraint_coreset_point_{i}_has_cluster_{j}\"\n",
    "        )\n",
    "        \n",
    "# lp_problem.writeLP(\"max_distortion_problem.lp\")\n",
    "        \n",
    "lp_problem.solve()"
   ]
  },
  {
   "cell_type": "code",
   "execution_count": 16,
   "id": "500a1896-c3db-4d2d-972e-ff2c600e1636",
   "metadata": {},
   "outputs": [
    {
     "name": "stdout",
     "output_type": "stream",
     "text": [
      "Status: Optimal\n"
     ]
    }
   ],
   "source": [
    "print(\"Status:\", pulp.LpStatus[lp_problem.status])"
   ]
  },
  {
   "cell_type": "code",
   "execution_count": 17,
   "id": "29406411-7bf6-4157-b1dd-3722e3d49dd3",
   "metadata": {},
   "outputs": [],
   "source": [
    "clustering_solution_indices = [i for i in range(n_points) if z[i].value()]\n"
   ]
  },
  {
   "cell_type": "code",
   "execution_count": 18,
   "id": "cd730b0d-0c90-4d39-ad56-39a7aa359645",
   "metadata": {},
   "outputs": [],
   "source": [
    "clustering_solution_centers = raw_data[clustering_solution_indices]"
   ]
  },
  {
   "cell_type": "code",
   "execution_count": 19,
   "id": "5a53d294-6546-47ea-b06e-956b3e451cdf",
   "metadata": {},
   "outputs": [
    {
     "data": {
      "image/png": "[encoded data removed]",
      "text/plain": [
       "<Figure size 720x504 with 1 Axes>"
      ]
     },
     "metadata": {},
     "output_type": "display_data"
    }
   ],
   "source": [
    "fig, ax = plt.subplots(figsize=(10, 7))\n",
    "sns.scatterplot(x=raw_data[:,0], y=raw_data[:,1], color=\"lightgrey\", label=\"original points\", ax=ax)\n",
    "sns.scatterplot(x=coreset_points[:,0], y=coreset_points[:,1], s=coreset_weights*10, color=\"green\", label=\"coreset points\", ax=ax)\n",
    "sns.scatterplot(x=clustering_solution_centers[:,0], y=clustering_solution_centers[:,1], color=\"red\", label=\"candidate solution centers\", ax=ax)\n",
    "ax.grid(False)"
   ]
  },
  {
   "cell_type": "code",
   "execution_count": null,
   "id": "cedbfffd-f35f-45c9-93ba-d0def4701434",
   "metadata": {},
   "outputs": [],
   "source": []
  },
  {
   "cell_type": "code",
   "execution_count": 20,
   "id": "8398d964-c96b-41b8-8348-d19ba43385ec",
   "metadata": {},
   "outputs": [
    {
     "data": {
      "text/plain": [
       "171.35678452441337"
      ]
     },
     "execution_count": 20,
     "metadata": {},
     "output_type": "execute_result"
    }
   ],
   "source": [
    "real_cost = compute_real_cost(\n",
    "    data_points=raw_data,\n",
    "    center_points=clustering_solution_centers,\n",
    ")\n",
    "real_cost"
   ]
  },
  {
   "cell_type": "code",
   "execution_count": 21,
   "id": "45686ea9-5763-4aa1-911b-a050c46dbd4c",
   "metadata": {},
   "outputs": [
    {
     "data": {
      "text/plain": [
       "68.30773291494376"
      ]
     },
     "execution_count": 21,
     "metadata": {},
     "output_type": "execute_result"
    }
   ],
   "source": [
    "coreset_cost = compute_coreset_costs(\n",
    "    coreset_points=coreset_points,\n",
    "    coreset_weights=coreset_weights,\n",
    "    center_points=clustering_solution_centers,\n",
    ")\n",
    "coreset_cost"
   ]
  },
  {
   "cell_type": "code",
   "execution_count": 22,
   "id": "f5608df3-819a-4dd7-8c72-e89be57cea30",
   "metadata": {},
   "outputs": [
    {
     "data": {
      "text/plain": [
       "2.508600083943431"
      ]
     },
     "execution_count": 22,
     "metadata": {},
     "output_type": "execute_result"
    }
   ],
   "source": [
    "distortion = max(float(real_cost/coreset_cost), float(coreset_cost/real_cost))\n",
    "distortion"
   ]
  },
  {
   "cell_type": "code",
   "execution_count": null,
   "id": "a61b7ffc-4166-417e-98d6-88472796d575",
   "metadata": {},
   "outputs": [],
   "source": []
  },
  {
   "cell_type": "code",
   "execution_count": null,
   "id": "5f790162-f82b-46eb-b787-24ede2d04af2",
   "metadata": {},
   "outputs": [],
   "source": []
  },
  {
   "cell_type": "code",
   "execution_count": null,
   "id": "12b606b8-d590-435c-883f-4d5394532fd3",
   "metadata": {},
   "outputs": [],
   "source": []
  },
  {
   "cell_type": "code",
   "execution_count": null,
   "id": "dcc4cd56-90f1-42dc-a3c5-c523e814b310",
   "metadata": {},
   "outputs": [],
   "source": []
  },
  {
   "cell_type": "markdown",
   "id": "9a00864e-82e6-4d3d-992b-55039fafe2aa",
   "metadata": {},
   "source": [
    "## Finding worst distortion"
   ]
  },
  {
   "cell_type": "code",
   "execution_count": 23,
   "id": "aee83700-b1fc-4c8f-9bb6-a177bcb4e08e",
   "metadata": {},
   "outputs": [
    {
     "name": "stderr",
     "output_type": "stream",
     "text": [
      "100%|██████████████████████████████████████████████████████████████████████████████| 1000/1000 [00:01<00:00, 586.82it/s]\n"
     ]
    }
   ],
   "source": [
    "n_iterations = 1000\n",
    "worst_distortion = 0\n",
    "worst_solution = None\n",
    "\n",
    "with tqdm(total=n_iterations) as pbar:\n",
    "    for i in range(n_iterations):\n",
    "\n",
    "        km = KMeans(n_clusters=k, n_init=1, max_iter=1)\n",
    "        km.fit(raw_data)\n",
    "        candidate_sol = km.cluster_centers_\n",
    "\n",
    "        real_cost = compute_real_cost(\n",
    "            data_points=raw_data,\n",
    "            center_points=candidate_sol,\n",
    "        )\n",
    "        coreset_cost = compute_coreset_costs(\n",
    "            coreset_points=coreset_points,\n",
    "            coreset_weights=coreset_weights,\n",
    "            center_points=candidate_sol,\n",
    "        )\n",
    "        distortion = max(float(real_cost/coreset_cost), float(coreset_cost/real_cost))\n",
    "        \n",
    "        if distortion > worst_distortion:\n",
    "            worst_distortion = distortion\n",
    "            worst_solution = candidate_sol.copy()\n",
    "        pbar.update()"
   ]
  },
  {
   "cell_type": "code",
   "execution_count": 24,
   "id": "0c6efa8a-9140-4ea9-8bc9-045a75f82704",
   "metadata": {},
   "outputs": [
    {
     "data": {
      "image/png": "[encoded data removed]",
      "text/plain": [
       "<Figure size 720x504 with 1 Axes>"
      ]
     },
     "metadata": {},
     "output_type": "display_data"
    }
   ],
   "source": [
    "fig, ax = plt.subplots(figsize=(10, 7))\n",
    "sns.scatterplot(x=raw_data[:,0], y=raw_data[:,1], color=\"lightgrey\", label=\"original points\", ax=ax)\n",
    "sns.scatterplot(x=coreset_points[:,0], y=coreset_points[:,1], s=coreset_weights*10, color=\"green\", label=\"coreset points\", ax=ax)\n",
    "sns.scatterplot(x=worst_solution[:,0], y=worst_solution[:,1], color=\"red\", label=f\"worst solution (distortion={worst_distortion:0.4f})\", ax=ax)\n",
    "ax.grid(False)"
   ]
  },
  {
   "cell_type": "markdown",
   "id": "0458b3c6-17ae-4b6d-82d5-489e7ad3e8de",
   "metadata": {},
   "source": [
    "## Find low cost solution"
   ]
  },
  {
   "cell_type": "code",
   "execution_count": 25,
   "id": "09c28b3b-e7ce-4cd8-aef9-2bd409024475",
   "metadata": {},
   "outputs": [
    {
     "name": "stderr",
     "output_type": "stream",
     "text": [
      "100%|██████████████████████████████████████████████████████████████████████████████| 1000/1000 [00:01<00:00, 651.42it/s]\n"
     ]
    }
   ],
   "source": [
    "n_iterations = 1000\n",
    "lowest_cost = None\n",
    "lowest_cost_solution = None\n",
    "\n",
    "with tqdm(total=n_iterations) as pbar:\n",
    "    for i in range(n_iterations):\n",
    "        \n",
    "\n",
    "        km = KMeans(n_clusters=k, n_init=1, max_iter=1)\n",
    "        km.fit(raw_data)\n",
    "        candidate_sol = km.cluster_centers_\n",
    "\n",
    "        real_cost = compute_real_cost(\n",
    "            data_points=raw_data,\n",
    "            center_points=candidate_sol,\n",
    "        )\n",
    "        if i == 0:\n",
    "            lowest_cost = real_cost\n",
    "        \n",
    "        if real_cost <= lowest_cost:\n",
    "            lowest_cost = real_cost\n",
    "            lowest_cost_solution = candidate_sol.copy()\n",
    "        pbar.update()"
   ]
  },
  {
   "cell_type": "code",
   "execution_count": 26,
   "id": "0323c774-4260-430b-b399-09cda85e43f3",
   "metadata": {},
   "outputs": [
    {
     "data": {
      "image/png": "[encoded data removed]",
      "text/plain": [
       "<Figure size 720x504 with 1 Axes>"
      ]
     },
     "metadata": {},
     "output_type": "display_data"
    }
   ],
   "source": [
    "fig, ax = plt.subplots(figsize=(10, 7))\n",
    "sns.scatterplot(x=raw_data[:,0], y=raw_data[:,1], color=\"lightgrey\", label=\"original points\", ax=ax)\n",
    "sns.scatterplot(x=coreset_points[:,0], y=coreset_points[:,1], s=coreset_weights*10, color=\"green\", label=\"coreset points\", ax=ax)\n",
    "sns.scatterplot(x=lowest_cost_solution[:,0], y=lowest_cost_solution[:,1], color=\"red\", label=f\"low cost solution {lowest_cost:0.2f}\", ax=ax)\n",
    "sns.scatterplot(x=true_centers[:,0], y=true_centers[:,1], color=\"blue\", marker=\"*\", s=200, label=f\"true centers {optimal_cost:0.2f} \", ax=ax)\n",
    "ax.grid(False)"
   ]
  },
  {
   "cell_type": "code",
   "execution_count": null,
   "id": "663594c5-3cc3-4f32-9800-3e1770ec206e",
   "metadata": {},
   "outputs": [],
   "source": []
  }
 ],
 "metadata": {
  "kernelspec": {
   "display_name": "Python 3 (ipykernel)",
   "language": "python",
   "name": "python3"
  },
  "language_info": {
   "codemirror_mode": {
    "name": "ipython",
    "version": 3
   },
   "file_extension": ".py",
   "mimetype": "text/x-python",
   "name": "python",
   "nbconvert_exporter": "python",
   "pygments_lexer": "ipython3",
   "version": "3.8.8"
  }
 },
 "nbformat": 4,
 "nbformat_minor": 5
}

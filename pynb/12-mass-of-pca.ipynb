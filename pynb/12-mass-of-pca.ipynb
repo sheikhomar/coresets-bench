{
 "cells": [
  {
   "cell_type": "code",
   "execution_count": 1,
   "id": "e4f5043f-0a84-4c7b-abce-0b2d6f2c7fb4",
   "metadata": {},
   "outputs": [],
   "source": [
    "import re\n",
    "\n",
    "from pathlib import Path\n",
    "\n",
    "import numpy as np"
   ]
  },
  {
   "cell_type": "code",
   "execution_count": 2,
   "id": "928aa887-6342-4ac5-ba4d-abe6abe4e261",
   "metadata": {},
   "outputs": [],
   "source": [
    "data_dir = Path(\"../data/input\")"
   ]
  },
  {
   "cell_type": "code",
   "execution_count": 3,
   "id": "6744fe16-dcd2-411d-b7c4-f9f8137d6700",
   "metadata": {},
   "outputs": [],
   "source": [
    "file_paths = list(sorted(data_dir.glob(\"*-sqrfrob.txt\")))"
   ]
  },
  {
   "cell_type": "code",
   "execution_count": 4,
   "id": "ff0fa661-4e69-43b6-8d93-536546247d63",
   "metadata": {},
   "outputs": [
    {
     "data": {
      "text/plain": [
       "[PosixPath('../data/input/USCensus1990.data.txt-svd-d10.txt.gz-sqrfrob.txt'),\n",
       " PosixPath('../data/input/USCensus1990.data.txt-svd-d20.txt.gz-sqrfrob.txt'),\n",
       " PosixPath('../data/input/USCensus1990.data.txt-svd-d30.txt.gz-sqrfrob.txt'),\n",
       " PosixPath('../data/input/USCensus1990.data.txt-svd-d40.txt.gz-sqrfrob.txt'),\n",
       " PosixPath('../data/input/USCensus1990.data.txt-svd-d50.txt.gz-sqrfrob.txt'),\n",
       " PosixPath('../data/input/covtype.data.gz-svd-d10.txt.gz-sqrfrob.txt'),\n",
       " PosixPath('../data/input/covtype.data.gz-svd-d20.txt.gz-sqrfrob.txt'),\n",
       " PosixPath('../data/input/covtype.data.gz-svd-d30.txt.gz-sqrfrob.txt'),\n",
       " PosixPath('../data/input/covtype.data.gz-svd-d40.txt.gz-sqrfrob.txt'),\n",
       " PosixPath('../data/input/covtype.data.gz-svd-d50.txt.gz-sqrfrob.txt')]"
      ]
     },
     "execution_count": 4,
     "metadata": {},
     "output_type": "execute_result"
    }
   ],
   "source": [
    "file_paths"
   ]
  },
  {
   "cell_type": "code",
   "execution_count": 5,
   "id": "016f5c8d-6c03-403a-b61c-b8b7b1e3df1f",
   "metadata": {},
   "outputs": [
    {
     "name": "stdout",
     "output_type": "stream",
     "text": [
      "Dataset: census     k: 10  mass: 7.0041e+07  (70040600.79545996)\n",
      "Dataset: census     k: 20  mass: 2.0093e+07  (20092845.367298353)\n",
      "Dataset: census     k: 30  mass: 6.9550e+06  (6955008.959182837)\n",
      "Dataset: census     k: 40  mass: 2.1970e+06  (2196955.2232046085)\n",
      "Dataset: census     k: 50  mass: 6.3099e+05  (630985.2019398087)\n",
      "Dataset: covertype  k: 10  mass: 7.4850e+05  (748496.8410811065)\n",
      "Dataset: covertype  k: 20  mass: 1.6038e+05  (160375.28541341014)\n",
      "Dataset: covertype  k: 30  mass: 3.7182e+04  (37181.95941996176)\n",
      "Dataset: covertype  k: 40  mass: 7.1737e+03  (7173.697197170521)\n",
      "Dataset: covertype  k: 50  mass: 1.4466e+02  (144.66225159446194)\n"
     ]
    }
   ],
   "source": [
    "for file_path in file_paths:\n",
    "    dataset, k = re.findall(\"..data/input/([^.]+).+svd-d(\\d+)\", str(file_path))[0]\n",
    "    if dataset == \"USCensus1990\":\n",
    "        dataset = \"census   \"\n",
    "    elif dataset == \"covtype\":\n",
    "        dataset = \"covertype\"\n",
    "    with open(file_path, \"r\") as fp:\n",
    "        mass = float(fp.read())\n",
    "    print(f\"Dataset: {dataset}  k: {k}  mass: {mass:0.4e}  ({mass})\")"
   ]
  },
  {
   "cell_type": "markdown",
   "id": "5b1ab01e-b611-41de-8fdc-2f70532583b7",
   "metadata": {},
   "source": [
    "Given the original dataset $\\mathbf{X}$ and its PCA-transformed version $\\mathbf{X}'$, the mass is computed as follows:\n",
    "$$\n",
    "mass = ||\\mathbf{X} - \\mathbf{X}'||^{2}_F \n",
    "$$"
   ]
  },
  {
   "cell_type": "code",
   "execution_count": null,
   "id": "fe75bbc9-80ee-40b8-92cd-ca0deb005b0d",
   "metadata": {},
   "outputs": [],
   "source": []
  }
 ],
 "metadata": {
  "kernelspec": {
   "display_name": "Python 3 (ipykernel)",
   "language": "python",
   "name": "python3"
  },
  "language_info": {
   "codemirror_mode": {
    "name": "ipython",
    "version": 3
   },
   "file_extension": ".py",
   "mimetype": "text/x-python",
   "name": "python",
   "nbconvert_exporter": "python",
   "pygments_lexer": "ipython3",
   "version": "3.8.8"
  }
 },
 "nbformat": 4,
 "nbformat_minor": 5
}

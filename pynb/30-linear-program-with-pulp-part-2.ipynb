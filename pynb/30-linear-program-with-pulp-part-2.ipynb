{
 "cells": [
  {
   "cell_type": "code",
   "execution_count": 1,
   "id": "9d03ed0c-b9f5-4d90-9b30-af259363d89d",
   "metadata": {},
   "outputs": [],
   "source": [
    "import sys\n",
    "sys.path.append('../xrun')"
   ]
  },
  {
   "cell_type": "code",
   "execution_count": 2,
   "id": "6c71dff9-1132-4398-b2ea-cefa61d65eee",
   "metadata": {},
   "outputs": [],
   "source": [
    "import re\n",
    "\n",
    "from pathlib import Path\n",
    "\n",
    "import matplotlib.pyplot as plt\n",
    "import numba\n",
    "import numpy as np\n",
    "import pandas as pd\n",
    "import pulp\n",
    "import seaborn as sns\n",
    "\n",
    "\n",
    "\n",
    "sns.set(style=\"whitegrid\")\n",
    "\n",
    "from IPython.core.display import HTML\n",
    "\n",
    "from scipy.sparse import linalg as sparse_linalg, issparse\n",
    "from scipy.spatial.distance import cdist, euclidean\n",
    "\n",
    "from sklearn.cluster import KMeans\n",
    "from sklearn.datasets import make_blobs\n",
    "from sklearn.metrics import pairwise_distances, pairwise_distances_argmin_min\n",
    "from sklearn.utils import shuffle\n",
    "from sklearn.utils.extmath import safe_sparse_dot\n",
    "\n",
    "from tqdm import tqdm\n",
    "\n",
    "from xrun.data.run_info import RunInfo\n",
    "from xrun.data.loader import load_dataset"
   ]
  },
  {
   "cell_type": "code",
   "execution_count": 3,
   "id": "79c90746-4833-4047-8c04-1860a62115b8",
   "metadata": {},
   "outputs": [],
   "source": [
    "def compute_real_cost(data_points: np.ndarray, center_points: np.ndarray):\n",
    "    D = pairwise_distances(data_points, center_points, metric=\"sqeuclidean\")\n",
    "    dist_closest_centers = np.min(D, axis=1)\n",
    "    cost = np.sum(dist_closest_centers)\n",
    "    return cost\n",
    "\n",
    "def compute_coreset_costs(coreset_points: np.ndarray, coreset_weights: np.ndarray, center_points: np.ndarray):\n",
    "    D = pairwise_distances(coreset_points, center_points, metric=\"sqeuclidean\")\n",
    "    dist_closest_centers = np.min(D, axis=1)\n",
    "    weighted_cost = np.sum(coreset_weights * dist_closest_centers)\n",
    "    return weighted_cost\n",
    "\n",
    "def estimate_optimal_cost(data_matrix: np.ndarray, k: int, n_iter: int=10):\n",
    "    km = KMeans(n_clusters=k, n_init=n_iter, max_iter=1)\n",
    "    km.fit(data_matrix)\n",
    "    return km.inertia_"
   ]
  },
  {
   "cell_type": "code",
   "execution_count": 4,
   "id": "fb6b7bc0-5408-48c7-bcd8-647c65d2294f",
   "metadata": {},
   "outputs": [],
   "source": [
    "# data_centers = np.random.randint(low=2, high=5)\n",
    "true_centers = np.array([\n",
    "    [ 0,  0],\n",
    "    [-5, -5],\n",
    "#     [-5,  5],\n",
    "#     [ 5,  -6],\n",
    "])\n",
    "raw_data, labels = make_blobs(n_samples=10, centers=true_centers, random_state=42)"
   ]
  },
  {
   "cell_type": "code",
   "execution_count": 5,
   "id": "624c8e20-c327-48bc-a2cf-05765d4467df",
   "metadata": {},
   "outputs": [],
   "source": [
    "k = true_centers.shape[0]\n",
    "n_points = raw_data.shape[0]"
   ]
  },
  {
   "cell_type": "code",
   "execution_count": 6,
   "id": "0c5a2553-bf98-4a98-bfd4-8ae01421f00f",
   "metadata": {},
   "outputs": [],
   "source": [
    "km = KMeans(n_clusters=k*2, n_init=10, max_iter=1)\n",
    "km.fit(raw_data)\n",
    "coreset_points = km.cluster_centers_\n",
    "\n",
    "_, coreset_weights = np.unique(km.labels_, return_counts=True)\n",
    "\n",
    "n_coreset_points = coreset_points.shape[0]"
   ]
  },
  {
   "cell_type": "code",
   "execution_count": 7,
   "id": "188b621d-12e2-410d-b78b-fa4a7efae8a9",
   "metadata": {},
   "outputs": [
    {
     "data": {
      "image/png": "[encoded data removed]",
      "text/plain": [
       "<Figure size 720x504 with 1 Axes>"
      ]
     },
     "metadata": {},
     "output_type": "display_data"
    }
   ],
   "source": [
    "fig, ax = plt.subplots(figsize=(10, 7))\n",
    "sns.scatterplot(x=raw_data[:,0], y=raw_data[:,1], color=\"lightgrey\", label=\"original points\", ax=ax)\n",
    "sns.scatterplot(x=coreset_points[:,0], y=coreset_points[:,1], color=\"green\", label=\"coreset points\", ax=ax)\n",
    "ax.grid(False)"
   ]
  },
  {
   "cell_type": "code",
   "execution_count": 8,
   "id": "cca2c6fb-74ae-441b-973a-6fbd527a1734",
   "metadata": {},
   "outputs": [
    {
     "data": {
      "text/plain": [
       "9.816930042843024"
      ]
     },
     "execution_count": 8,
     "metadata": {},
     "output_type": "execute_result"
    }
   ],
   "source": [
    "optimal_cost = estimate_optimal_cost(data_matrix=raw_data, k=k, n_iter=10)\n",
    "optimal_cost"
   ]
  },
  {
   "cell_type": "code",
   "execution_count": 9,
   "id": "6ca38f1f-bd7d-4ede-b453-5bc7eb898205",
   "metadata": {},
   "outputs": [],
   "source": [
    "input_point_indices = np.arange(start=0, stop=n_points)\n",
    "coreset_point_indices = np.arange(start=0, stop=n_coreset_points)\n",
    "clustering_center_indices = np.arange(start=0, stop=k)"
   ]
  },
  {
   "cell_type": "code",
   "execution_count": 10,
   "id": "0f3ec637-5a2f-4201-90f7-39271e0c9609",
   "metadata": {},
   "outputs": [],
   "source": [
    "input_pairs = [(i, j) for i in input_point_indices for j in input_point_indices]\n",
    "coreset_pairs = [(i, j) for i in coreset_point_indices for j in input_point_indices]"
   ]
  },
  {
   "cell_type": "code",
   "execution_count": 11,
   "id": "c5efd7e5-1935-49c9-a5d8-7eea7f184724",
   "metadata": {},
   "outputs": [],
   "source": [
    "input_dist = pairwise_distances(X=raw_data, metric=\"sqeuclidean\")\n",
    "coreset_dist = pairwise_distances(X=coreset_points, Y=raw_data, metric=\"sqeuclidean\")"
   ]
  },
  {
   "cell_type": "code",
   "execution_count": 12,
   "id": "fff4ecfd-bffc-4e36-8b49-490c82606704",
   "metadata": {},
   "outputs": [
    {
     "name": "stdout",
     "output_type": "stream",
     "text": [
      "Welcome to the CBC MILP Solver \n",
      "Version: 2.10.3 \n",
      "Build Date: Dec 15 2019 \n",
      "\n",
      "command line - /home/omar/.cache/pypoetry/virtualenvs/xrun-eubxByDy-py3.8/lib/python3.8/site-packages/pulp/apis/../solverdir/cbc/linux/64/cbc /tmp/2257ddfefdc94e1a96f31188dbbb3727-pulp.mps max timeMode elapsed branch printingOptions all solution /tmp/2257ddfefdc94e1a96f31188dbbb3727-pulp.sol (default strategy 1)\n",
      "At line 2 NAME          MODEL\n",
      "At line 3 ROWS\n",
      "At line 163 COLUMNS\n",
      "At line 947 RHS\n",
      "At line 1106 BOUNDS\n",
      "At line 1258 ENDATA\n",
      "Problem MODEL has 158 rows, 151 columns and 782 elements\n",
      "Coin0008I MODEL read with 0 errors\n",
      "Option for timeMode changed from cpu to elapsed\n",
      "Presolve thinks problem is unbounded\n",
      "Analysis indicates model infeasible or unbounded\n",
      "Perturbing problem by 0.001% of 51.180333 - largest nonzero change 0 ( 0%) - largest zero change 6.0890563e-05\n",
      "0  Obj -0 Primal inf 17.051681 (15) Dual inf 0.51180323 (1) w.o. free dual inf (0)\n",
      "51  Obj 911.20752 Dual inf 9.7563401 (1)\n",
      "51  Obj 4.8781701e+11\n",
      "Dual infeasible - objective value 4.8781701e+11\n",
      "DualInfeasible objective 4.878170116e+11 - 51 iterations time 0.002\n",
      "\n",
      "Result - Linear relaxation unbounded\n",
      "\n",
      "Enumerated nodes:           0\n",
      "Total iterations:           0\n",
      "Time (CPU seconds):         0.00\n",
      "Time (Wallclock Seconds):   0.00\n",
      "\n",
      "Option for printingOptions changed from normal to all\n",
      "Total time (CPU seconds):       0.00   (Wallclock seconds):       0.00\n",
      "\n"
     ]
    },
    {
     "data": {
      "text/plain": [
       "-2"
      ]
     },
     "execution_count": 12,
     "metadata": {},
     "output_type": "execute_result"
    }
   ],
   "source": [
    "# X[i,j] \\in [0,1] is a variable indicating whether point i is assigned to center j.\n",
    "# X = np.zeros(shape=(n_points, k))\n",
    "X = pulp.LpVariable.dicts(name=\"X\", indices=input_pairs, lowBound=0, upBound=1)\n",
    "\n",
    "# Y[i,j] \\in [0,1] is a variable indicating whether coreset point i is assigned to center j.\n",
    "# Y = np.zeros(shape=(n_coreset_points, k))\n",
    "Y = pulp.LpVariable.dicts(name=\"Y\", indices=coreset_pairs, lowBound=0, upBound=1)\n",
    "\n",
    "#z[j] \\in [0,1] is a variable indicating whether we have a center at point j.\n",
    "# z = np.zeros(shape=(n_points, 1))\n",
    "z = pulp.LpVariable.dicts(name=\"z\", indices=[i for i in input_point_indices], lowBound=0, upBound=1)\n",
    "\n",
    "D = pulp.LpVariable(name=\"D\")\n",
    "\n",
    "lp_problem = pulp.LpProblem(\"max_distortion_problem\", pulp.LpMaximize)\n",
    "\n",
    "# Set the objective\n",
    "lp_problem += D \n",
    "\n",
    "# Set the contraints\n",
    "\n",
    "x_vals = [ (X[(i, j)], input_dist[i,j]) for i, j in input_pairs if input_dist[i,j] > 0]\n",
    "y_vals = [ (Y[(i, j)], -1 * coreset_dist[i,j] * coreset_weights[i]) for i, j in coreset_pairs if coreset_dist[i,j] * coreset_weights[i] > 0]\n",
    "\n",
    "optimal_cost_factor = 2\n",
    "\n",
    "lp_problem += (\n",
    "    pulp.LpAffineExpression(x_vals + y_vals) <= D,\n",
    "    \"constraint_distortion_lower_bound\"\n",
    ")\n",
    "\n",
    "lp_problem += (\n",
    "    pulp.LpAffineExpression(x_vals + y_vals) >= -D,\n",
    "    \"constraint_distortion_upper_bound\"\n",
    ")\n",
    "\n",
    "lp_problem += (\n",
    "    pulp.lpSum([z[j] for j in range(n_points)]) == k,\n",
    "    \"constraint_exactly_k_centers\"\n",
    ")\n",
    "\n",
    "lp_problem += (\n",
    "    pulp.LpAffineExpression(x_vals) <= optimal_cost_factor*optimal_cost,\n",
    "    f\"constraint_below_{optimal_cost_factor}OPT\"\n",
    ")\n",
    "\n",
    "for i in range(n_points):\n",
    "    lp_problem += (\n",
    "        pulp.lpSum([X[i,j] for j in range(n_points)]) == 1,\n",
    "        f\"constraint_input_point_{i}_has_cluster\"\n",
    "    )\n",
    "\n",
    "for i in range(n_points):\n",
    "    for j in range(n_points):\n",
    "        lp_problem += (\n",
    "            X[i,j] <= z[j],\n",
    "            f\"constraint_input_point_{i}_has_cluster{j}\"\n",
    "        )\n",
    "\n",
    "\n",
    "for i in range(n_coreset_points):\n",
    "    lp_problem += (\n",
    "        pulp.lpSum([Y[i,j] for j in range(n_points)]) == 1,\n",
    "        f\"constraint_coreset_point_{i}_has_cluster\"\n",
    "    )\n",
    "\n",
    "for i in range(n_coreset_points):\n",
    "    for j in range(n_points):\n",
    "        lp_problem += (\n",
    "            Y[i,j] <= z[j],\n",
    "            f\"constraint_coreset_point_{i}_has_cluster_{j}\"\n",
    "        )\n",
    "\n",
    "lp_problem.writeLP(\"max_distortion_problem.lp\");\n",
    "        \n",
    "lp_problem.solve()"
   ]
  },
  {
   "cell_type": "code",
   "execution_count": 13,
   "id": "500a1896-c3db-4d2d-972e-ff2c600e1636",
   "metadata": {},
   "outputs": [
    {
     "name": "stdout",
     "output_type": "stream",
     "text": [
      "Status: Unbounded\n"
     ]
    }
   ],
   "source": [
    "print(\"Status:\", pulp.LpStatus[lp_problem.status])"
   ]
  },
  {
   "cell_type": "code",
   "execution_count": 14,
   "id": "0509ce0e-924a-44c2-82fe-d4d349a75248",
   "metadata": {},
   "outputs": [
    {
     "data": {
      "text/plain": [
       "{0}"
      ]
     },
     "execution_count": 14,
     "metadata": {},
     "output_type": "execute_result"
    }
   ],
   "source": [
    "y_cluster_indices = set()\n",
    "for i in coreset_point_indices:\n",
    "    scores = np.zeros(shape=[len(input_point_indices)])\n",
    "    for j in input_point_indices:\n",
    "        scores[j] = Y[(i,j)].value()\n",
    "    cluster_idx = np.argmax(scores)\n",
    "    #print(f\"Label for coreset point{i}: {cluster_idx}\")\n",
    "    y_cluster_indices.add(cluster_idx)\n",
    "y_cluster_indices"
   ]
  },
  {
   "cell_type": "code",
   "execution_count": 15,
   "id": "23cf1499-741e-47b0-a754-55db29f57535",
   "metadata": {},
   "outputs": [
    {
     "data": {
      "text/plain": [
       "{0}"
      ]
     },
     "execution_count": 15,
     "metadata": {},
     "output_type": "execute_result"
    }
   ],
   "source": [
    "x_cluster_indices = set()\n",
    "for i in coreset_point_indices:\n",
    "    scores = np.zeros(shape=[len(input_point_indices)])\n",
    "    for j in input_point_indices:\n",
    "        scores[j] = X[(i,j)].value()\n",
    "    cluster_idx = np.argmax(scores)\n",
    "    #print(f\"Label for input point {i}: {cluster_idx}\")\n",
    "    x_cluster_indices.add(cluster_idx)\n",
    "x_cluster_indices"
   ]
  },
  {
   "cell_type": "code",
   "execution_count": 16,
   "id": "29406411-7bf6-4157-b1dd-3722e3d49dd3",
   "metadata": {},
   "outputs": [
    {
     "data": {
      "text/plain": [
       "[]"
      ]
     },
     "execution_count": 16,
     "metadata": {},
     "output_type": "execute_result"
    }
   ],
   "source": [
    "clustering_solution_indices = [i for i in range(n_points) if z[i].value()]\n",
    "clustering_solution_indices"
   ]
  },
  {
   "cell_type": "code",
   "execution_count": null,
   "id": "cd730b0d-0c90-4d39-ad56-39a7aa359645",
   "metadata": {},
   "outputs": [],
   "source": [
    "clustering_solution_centers = raw_data[clustering_solution_indices]"
   ]
  },
  {
   "cell_type": "code",
   "execution_count": null,
   "id": "9ecdf9b1-800c-469d-8f2c-38dcf014c926",
   "metadata": {},
   "outputs": [],
   "source": [
    "real_cost = compute_real_cost(\n",
    "    data_points=raw_data,\n",
    "    center_points=clustering_solution_centers,\n",
    ")\n",
    "coreset_cost = compute_coreset_costs(\n",
    "    coreset_points=coreset_points,\n",
    "    coreset_weights=coreset_weights,\n",
    "    center_points=clustering_solution_centers,\n",
    ")\n",
    "distortion = max(float(real_cost/coreset_cost), float(coreset_cost/real_cost))"
   ]
  },
  {
   "cell_type": "code",
   "execution_count": null,
   "id": "5a53d294-6546-47ea-b06e-956b3e451cdf",
   "metadata": {},
   "outputs": [],
   "source": [
    "fig, ax = plt.subplots(figsize=(10, 7))\n",
    "sns.scatterplot(x=raw_data[:,0], y=raw_data[:,1], color=\"lightgrey\", label=\"original points\", ax=ax)\n",
    "sns.scatterplot(x=coreset_points[:,0], y=coreset_points[:,1], s=coreset_weights*2, color=\"green\", label=\"coreset points\", ax=ax)\n",
    "sns.scatterplot(x=clustering_solution_centers[:,0], y=clustering_solution_centers[:,1], color=\"red\", label=f\"candidate solution (distortion={distortion:0.4f})\", ax=ax)\n",
    "ax.grid(False)"
   ]
  },
  {
   "cell_type": "markdown",
   "id": "9a00864e-82e6-4d3d-992b-55039fafe2aa",
   "metadata": {},
   "source": [
    "## Finding worst distortion"
   ]
  },
  {
   "cell_type": "code",
   "execution_count": 17,
   "id": "aee83700-b1fc-4c8f-9bb6-a177bcb4e08e",
   "metadata": {},
   "outputs": [
    {
     "name": "stderr",
     "output_type": "stream",
     "text": [
      "100%|██████████████████████████████████████████████████████████████████████████████| 1000/1000 [00:01<00:00, 830.80it/s]\n"
     ]
    }
   ],
   "source": [
    "n_iterations = 1000\n",
    "worst_distortion = 0\n",
    "worst_solution = None\n",
    "\n",
    "with tqdm(total=n_iterations) as pbar:\n",
    "    for i in range(n_iterations):\n",
    "\n",
    "        km = KMeans(n_clusters=k, n_init=1, max_iter=1)\n",
    "        km.fit(raw_data)\n",
    "        candidate_sol = km.cluster_centers_\n",
    "\n",
    "        real_cost = compute_real_cost(\n",
    "            data_points=raw_data,\n",
    "            center_points=candidate_sol,\n",
    "        )\n",
    "        coreset_cost = compute_coreset_costs(\n",
    "            coreset_points=coreset_points,\n",
    "            coreset_weights=coreset_weights,\n",
    "            center_points=candidate_sol,\n",
    "        )\n",
    "        distortion = max(float(real_cost/coreset_cost), float(coreset_cost/real_cost))\n",
    "        \n",
    "        if distortion > worst_distortion:\n",
    "            worst_distortion = distortion\n",
    "            worst_solution = candidate_sol.copy()\n",
    "        pbar.update()"
   ]
  },
  {
   "cell_type": "code",
   "execution_count": 18,
   "id": "0c6efa8a-9140-4ea9-8bc9-045a75f82704",
   "metadata": {},
   "outputs": [
    {
     "data": {
      "image/png": "[encoded data removed]",
      "text/plain": [
       "<Figure size 720x504 with 1 Axes>"
      ]
     },
     "metadata": {},
     "output_type": "display_data"
    }
   ],
   "source": [
    "fig, ax = plt.subplots(figsize=(10, 7))\n",
    "sns.scatterplot(x=raw_data[:,0], y=raw_data[:,1], color=\"lightgrey\", label=\"original points\", ax=ax)\n",
    "sns.scatterplot(x=coreset_points[:,0], y=coreset_points[:,1], s=coreset_weights*10, color=\"green\", label=\"coreset points\", ax=ax)\n",
    "sns.scatterplot(x=worst_solution[:,0], y=worst_solution[:,1], color=\"red\", label=f\"worst solution (distortion={worst_distortion:0.4f})\", ax=ax)\n",
    "ax.grid(False)"
   ]
  },
  {
   "cell_type": "markdown",
   "id": "0458b3c6-17ae-4b6d-82d5-489e7ad3e8de",
   "metadata": {},
   "source": [
    "## Find low cost solution"
   ]
  },
  {
   "cell_type": "code",
   "execution_count": 19,
   "id": "09c28b3b-e7ce-4cd8-aef9-2bd409024475",
   "metadata": {},
   "outputs": [
    {
     "name": "stderr",
     "output_type": "stream",
     "text": [
      "100%|██████████████████████████████████████████████████████████████████████████████| 1000/1000 [00:01<00:00, 969.68it/s]\n"
     ]
    }
   ],
   "source": [
    "n_iterations = 1000\n",
    "lowest_cost = None\n",
    "lowest_cost_solution = None\n",
    "\n",
    "with tqdm(total=n_iterations) as pbar:\n",
    "    for i in range(n_iterations):\n",
    "        \n",
    "\n",
    "        km = KMeans(n_clusters=k, n_init=1, max_iter=1)\n",
    "        km.fit(raw_data)\n",
    "        candidate_sol = km.cluster_centers_\n",
    "\n",
    "        real_cost = compute_real_cost(\n",
    "            data_points=raw_data,\n",
    "            center_points=candidate_sol,\n",
    "        )\n",
    "        if i == 0:\n",
    "            lowest_cost = real_cost\n",
    "        \n",
    "        if real_cost <= lowest_cost:\n",
    "            lowest_cost = real_cost\n",
    "            lowest_cost_solution = candidate_sol.copy()\n",
    "        pbar.update()"
   ]
  },
  {
   "cell_type": "code",
   "execution_count": 20,
   "id": "0323c774-4260-430b-b399-09cda85e43f3",
   "metadata": {},
   "outputs": [
    {
     "data": {
      "image/png": "[encoded data removed]",
      "text/plain": [
       "<Figure size 720x504 with 1 Axes>"
      ]
     },
     "metadata": {},
     "output_type": "display_data"
    }
   ],
   "source": [
    "fig, ax = plt.subplots(figsize=(10, 7))\n",
    "sns.scatterplot(x=raw_data[:,0], y=raw_data[:,1], color=\"lightgrey\", label=\"original points\", ax=ax)\n",
    "sns.scatterplot(x=coreset_points[:,0], y=coreset_points[:,1], s=coreset_weights*10, color=\"green\", label=\"coreset points\", ax=ax)\n",
    "sns.scatterplot(x=lowest_cost_solution[:,0], y=lowest_cost_solution[:,1], color=\"red\", label=f\"low cost solution {lowest_cost:0.2f}\", ax=ax)\n",
    "sns.scatterplot(x=true_centers[:,0], y=true_centers[:,1], color=\"blue\", marker=\"*\", s=200, label=f\"true centers {optimal_cost:0.2f} \", ax=ax)\n",
    "ax.grid(False)"
   ]
  },
  {
   "cell_type": "code",
   "execution_count": null,
   "id": "663594c5-3cc3-4f32-9800-3e1770ec206e",
   "metadata": {},
   "outputs": [],
   "source": []
  }
 ],
 "metadata": {
  "kernelspec": {
   "display_name": "Python 3 (ipykernel)",
   "language": "python",
   "name": "python3"
  },
  "language_info": {
   "codemirror_mode": {
    "name": "ipython",
    "version": 3
   },
   "file_extension": ".py",
   "mimetype": "text/x-python",
   "name": "python",
   "nbconvert_exporter": "python",
   "pygments_lexer": "ipython3",
   "version": "3.8.8"
  }
 },
 "nbformat": 4,
 "nbformat_minor": 5
}

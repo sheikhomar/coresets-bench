{
 "cells": [
  {
   "cell_type": "code",
   "execution_count": 1,
   "id": "9c60e34f-d30e-4bfe-9c8e-d18bfc8d4771",
   "metadata": {},
   "outputs": [],
   "source": [
    "import sys\n",
    "sys.path.append('../xrun')"
   ]
  },
  {
   "cell_type": "code",
   "execution_count": 2,
   "id": "cb930fb9-f99b-46ae-9dc7-3d3096846c26",
   "metadata": {},
   "outputs": [],
   "source": [
    "import fractions\n",
    "\n",
    "import numpy as np\n",
    "import pandas as pd\n",
    "\n",
    "from timeit import default_timer as timer\n",
    "\n",
    "from scipy import linalg\n",
    "from scipy.sparse import linalg as sparse_linalg, issparse\n",
    "from sklearn.utils.sparsefuncs import mean_variance_axis\n",
    "from sklearn.utils.extmath import svd_flip, safe_sparse_dot\n",
    "\n",
    "import seaborn as sns\n",
    "import matplotlib.pyplot as plt\n",
    "\n",
    "sns.set(style=\"whitegrid\")\n",
    "\n",
    "from xrun.data.loader import load_dataset"
   ]
  },
  {
   "cell_type": "code",
   "execution_count": 3,
   "id": "14ddc4a1-fd19-4d20-ac31-bcdfb5456e45",
   "metadata": {},
   "outputs": [
    {
     "name": "stdout",
     "output_type": "stream",
     "text": [
      "Loading BoW dataset from ../data/input/sketch-docword.enron.8192.txt.gz\n",
      "Data shape: (8192, 28102)\n",
      "Elapsed time: 20.48 secs\n"
     ]
    }
   ],
   "source": [
    "input_path = \"../data/input/sketch-docword.enron.8192.txt.gz\"\n",
    "X = load_dataset(input_path)"
   ]
  },
  {
   "cell_type": "code",
   "execution_count": 4,
   "id": "eda8bd50-ff6a-495c-8774-6f8cc6102aa1",
   "metadata": {},
   "outputs": [
    {
     "name": "stdout",
     "output_type": "stream",
     "text": [
      "SVD computed in 0.2 minutes.\n"
     ]
    }
   ],
   "source": [
    "start_time = timer()\n",
    "U, Sigma, VT = sparse_linalg.eigen.svds(A=X, which='LM', k=100, solver='arpack')\n",
    "end_time = timer()\n",
    "duration_sec = end_time - start_time\n",
    "print(f\"SVD computed in {duration_sec/60:.1f} minutes.\")\n",
    "\n",
    "# svds doesn't abide by scipy.linalg.svd/randomized_svd conventions, so reverse its outputs.\n",
    "Sigma = Sigma[::-1]\n",
    "U, VT = svd_flip(U[:, ::-1], VT[::-1])"
   ]
  },
  {
   "cell_type": "code",
   "execution_count": 5,
   "id": "a31748b4-fbbb-473a-834b-90f06c12e52b",
   "metadata": {},
   "outputs": [
    {
     "data": {
      "text/plain": [
       "(8192, 100)"
      ]
     },
     "execution_count": 5,
     "metadata": {},
     "output_type": "execute_result"
    }
   ],
   "source": [
    "U.shape"
   ]
  },
  {
   "cell_type": "code",
   "execution_count": 6,
   "id": "13952993-cc11-48fe-9d03-1880b193881d",
   "metadata": {},
   "outputs": [
    {
     "data": {
      "text/plain": [
       "(100,)"
      ]
     },
     "execution_count": 6,
     "metadata": {},
     "output_type": "execute_result"
    }
   ],
   "source": [
    "Sigma.shape"
   ]
  },
  {
   "cell_type": "code",
   "execution_count": 7,
   "id": "42034bdc-4cd4-4306-a79e-16f127c1a171",
   "metadata": {},
   "outputs": [
    {
     "data": {
      "text/plain": [
       "(100, 28102)"
      ]
     },
     "execution_count": 7,
     "metadata": {},
     "output_type": "execute_result"
    }
   ],
   "source": [
    "VT.shape"
   ]
  },
  {
   "cell_type": "code",
   "execution_count": 8,
   "id": "04c28c27-4cfa-4921-8422-86f1d70fdf59",
   "metadata": {},
   "outputs": [],
   "source": [
    "X_transformed = np.dot(U, np.dot(np.diag(Sigma), VT))"
   ]
  },
  {
   "cell_type": "code",
   "execution_count": 9,
   "id": "67a60928-fa3e-4758-b8b0-8e1864ebc9f9",
   "metadata": {},
   "outputs": [
    {
     "data": {
      "text/plain": [
       "(8192, 28102)"
      ]
     },
     "execution_count": 9,
     "metadata": {},
     "output_type": "execute_result"
    }
   ],
   "source": [
    "X_transformed.shape"
   ]
  },
  {
   "cell_type": "code",
   "execution_count": null,
   "id": "3f4e4735-d065-42eb-a328-32135ae924d6",
   "metadata": {},
   "outputs": [],
   "source": []
  }
 ],
 "metadata": {
  "kernelspec": {
   "display_name": "Python 3 (ipykernel)",
   "language": "python",
   "name": "python3"
  },
  "language_info": {
   "codemirror_mode": {
    "name": "ipython",
    "version": 3
   },
   "file_extension": ".py",
   "mimetype": "text/x-python",
   "name": "python",
   "nbconvert_exporter": "python",
   "pygments_lexer": "ipython3",
   "version": "3.8.8"
  }
 },
 "nbformat": 4,
 "nbformat_minor": 5
}

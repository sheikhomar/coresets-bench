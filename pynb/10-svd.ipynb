{
 "cells": [
  {
   "cell_type": "code",
   "execution_count": 1,
   "id": "121cf3cc-2db8-4c83-b3e6-d4e9970612bc",
   "metadata": {},
   "outputs": [],
   "source": [
    "import sys\n",
    "sys.path.append('../xrun')"
   ]
  },
  {
   "cell_type": "code",
   "execution_count": 2,
   "id": "f729014f-94a4-496e-b0ca-91aafd0bf8f5",
   "metadata": {},
   "outputs": [],
   "source": [
    "import fractions\n",
    "\n",
    "import numpy as np\n",
    "\n",
    "from scipy import linalg\n",
    "\n",
    "from xrun.data.loader import load_dataset"
   ]
  },
  {
   "cell_type": "code",
   "execution_count": 3,
   "id": "e809005b-a25d-43c5-b9bf-672a80b97f8c",
   "metadata": {},
   "outputs": [],
   "source": [
    "np.set_printoptions(linewidth=100, precision=2)"
   ]
  },
  {
   "cell_type": "code",
   "execution_count": 4,
   "id": "8f99efce-a47f-4c48-9b90-4326512a567c",
   "metadata": {},
   "outputs": [
    {
     "name": "stdout",
     "output_type": "stream",
     "text": [
      "Loading Covertype dataset from ../data/input/covtype.data.gz...\n",
      "Loaded in 17.40 secs\n"
     ]
    }
   ],
   "source": [
    "X = load_dataset(input_path=\"../data/input/covtype.data.gz\")"
   ]
  },
  {
   "cell_type": "code",
   "execution_count": 5,
   "id": "07dfd914-bba8-4c98-bbd5-c9e09671ad20",
   "metadata": {},
   "outputs": [
    {
     "data": {
      "text/plain": [
       "(581012, 54)"
      ]
     },
     "execution_count": 5,
     "metadata": {},
     "output_type": "execute_result"
    }
   ],
   "source": [
    "X.shape"
   ]
  },
  {
   "cell_type": "code",
   "execution_count": 6,
   "id": "9256267e-c04a-4b77-a6e8-4b1b0ccbed82",
   "metadata": {},
   "outputs": [],
   "source": [
    "# X = np.random.normal(size=(10000, 50))"
   ]
  },
  {
   "cell_type": "code",
   "execution_count": 7,
   "id": "fe6f6730-e869-4591-ab76-221d2ef8902c",
   "metadata": {},
   "outputs": [],
   "source": [
    "U, s, V = linalg.svd(\n",
    "    a=X,\n",
    "    full_matrices=False,\n",
    "    overwrite_a=True,\n",
    "    lapack_driver='gesdd'\n",
    ")"
   ]
  },
  {
   "cell_type": "code",
   "execution_count": 8,
   "id": "3a5d9811-595f-4cb1-bdf4-088236c23d98",
   "metadata": {},
   "outputs": [],
   "source": [
    "X_transformed = np.dot(U, np.dot(np.diag(s), V))"
   ]
  },
  {
   "cell_type": "code",
   "execution_count": 9,
   "id": "aa1a3fa4-2207-4469-b4fb-aa2d1ce5ceba",
   "metadata": {},
   "outputs": [
    {
     "data": {
      "text/plain": [
       "True"
      ]
     },
     "execution_count": 9,
     "metadata": {},
     "output_type": "execute_result"
    }
   ],
   "source": [
    "np.allclose(X_transformed, X)"
   ]
  },
  {
   "cell_type": "code",
   "execution_count": 10,
   "id": "c62d5cf9-e56d-4c90-ae78-2975d5e67cd3",
   "metadata": {},
   "outputs": [
    {
     "data": {
      "text/plain": [
       "array([3422820.08,  900318.41,  807853.37,  158910.23,   88463.34,   34524.51,   25426.43,\n",
       "         24159.06,    5419.45,    3562.62,       0.  ,       0.  ,       0.  ,       0.  ,\n",
       "             0.  ,       0.  ,       0.  ,       0.  ,       0.  ,       0.  ,       0.  ,\n",
       "             0.  ,       0.  ,       0.  ,       0.  ,       0.  ,       0.  ,       0.  ,\n",
       "             0.  ,       0.  ,       0.  ,       0.  ,       0.  ,       0.  ,       0.  ,\n",
       "             0.  ,       0.  ,       0.  ,       0.  ,       0.  ,       0.  ,       0.  ,\n",
       "             0.  ,       0.  ,       0.  ,       0.  ,       0.  ,       0.  ,       0.  ,\n",
       "             0.  ,       0.  ,       0.  ,       0.  ,       0.  ])"
      ]
     },
     "execution_count": 10,
     "metadata": {},
     "output_type": "execute_result"
    }
   ],
   "source": [
    "target_dim = 10\n",
    "s[target_dim:] = 0\n",
    "s"
   ]
  },
  {
   "cell_type": "code",
   "execution_count": 11,
   "id": "49b41157-dc33-4402-ae9e-2f3b9aa1b8bd",
   "metadata": {},
   "outputs": [],
   "source": [
    "X_transformed2 = np.dot(U, np.dot(np.diag(s), V))"
   ]
  },
  {
   "cell_type": "code",
   "execution_count": 12,
   "id": "bcc6b408-7b9f-4433-a19d-32f6646bc18c",
   "metadata": {},
   "outputs": [
    {
     "data": {
      "text/plain": [
       "array([[ 2.60e+03,  5.10e+01,  3.00e+00, ..., -4.35e-02, -5.27e-02, -2.64e-02],\n",
       "       [ 2.59e+03,  5.60e+01,  2.00e+00, ..., -4.04e-02, -5.26e-02, -2.73e-02],\n",
       "       [ 2.80e+03,  1.39e+02,  9.00e+00, ..., -2.51e-02, -2.23e-02, -7.33e-04],\n",
       "       ...,\n",
       "       [ 2.39e+03,  1.59e+02,  1.70e+01, ..., -4.99e-02, -5.28e-02, -5.54e-02],\n",
       "       [ 2.38e+03,  1.70e+02,  1.50e+01, ..., -4.85e-02, -5.86e-02, -5.75e-02],\n",
       "       [ 2.38e+03,  1.65e+02,  1.30e+01, ..., -4.45e-02, -6.04e-02, -5.54e-02]])"
      ]
     },
     "execution_count": 12,
     "metadata": {},
     "output_type": "execute_result"
    }
   ],
   "source": [
    "X_transformed2"
   ]
  },
  {
   "cell_type": "code",
   "execution_count": 13,
   "id": "1d57cd77-88ec-4534-8caf-d5e104e87035",
   "metadata": {},
   "outputs": [
    {
     "data": {
      "text/plain": [
       "(581012, 54)"
      ]
     },
     "execution_count": 13,
     "metadata": {},
     "output_type": "execute_result"
    }
   ],
   "source": [
    "X_transformed2.shape"
   ]
  },
  {
   "cell_type": "code",
   "execution_count": 14,
   "id": "a6a1967a-677a-469f-914c-b009aebf7027",
   "metadata": {},
   "outputs": [
    {
     "data": {
      "text/plain": [
       "False"
      ]
     },
     "execution_count": 14,
     "metadata": {},
     "output_type": "execute_result"
    }
   ],
   "source": [
    "np.allclose(X_transformed2, X)"
   ]
  },
  {
   "cell_type": "code",
   "execution_count": null,
   "id": "ad12ac89-015a-4970-b4e3-579e9a1658ac",
   "metadata": {},
   "outputs": [],
   "source": []
  }
 ],
 "metadata": {
  "kernelspec": {
   "display_name": "Python 3 (ipykernel)",
   "language": "python",
   "name": "python3"
  },
  "language_info": {
   "codemirror_mode": {
    "name": "ipython",
    "version": 3
   },
   "file_extension": ".py",
   "mimetype": "text/x-python",
   "name": "python",
   "nbconvert_exporter": "python",
   "pygments_lexer": "ipython3",
   "version": "3.8.8"
  }
 },
 "nbformat": 4,
 "nbformat_minor": 5
}

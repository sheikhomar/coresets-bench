{
 "cells": [
  {
   "cell_type": "code",
   "execution_count": 3,
   "id": "3ee331f3-48ec-43db-9fb2-1d641df266b0",
   "metadata": {},
   "outputs": [],
   "source": [
    "import numpy as np"
   ]
  },
  {
   "cell_type": "code",
   "execution_count": 8,
   "id": "45042c9a-3e89-47e5-8061-746e2cface11",
   "metadata": {},
   "outputs": [],
   "source": [
    "d = 50\n",
    "epsilon = 0.1"
   ]
  },
  {
   "cell_type": "code",
   "execution_count": 9,
   "id": "f8c8b6b9-aeb5-4a6a-89cc-d1672d31502c",
   "metadata": {},
   "outputs": [
    {
     "data": {
      "text/plain": [
       "12499.999999999998"
      ]
     },
     "execution_count": 9,
     "metadata": {},
     "output_type": "execute_result"
    }
   ],
   "source": [
    "cw_k = (d**2) / (20 * epsilon**2)\n",
    "int(pow(2, np.ceil(np.log(cw_k) / np.log(2))))\n",
    "# np.format_float_scientific(cw_k, precision=2)\n",
    "cw_k"
   ]
  },
  {
   "cell_type": "code",
   "execution_count": 10,
   "id": "f11239cc-52fe-4e66-9941-2705bca041b8",
   "metadata": {},
   "outputs": [
    {
     "data": {
      "text/plain": [
       "16384"
      ]
     },
     "execution_count": 10,
     "metadata": {},
     "output_type": "execute_result"
    }
   ],
   "source": [
    "cw_k_next_power_of_2 = int(pow(2, np.ceil(np.log(cw_k) / np.log(2))))\n",
    "cw_k_next_power_of_2"
   ]
  },
  {
   "cell_type": "code",
   "execution_count": 7,
   "id": "ec9e0a92-d26c-4b85-889e-871423a7bdaa",
   "metadata": {},
   "outputs": [
    {
     "data": {
      "text/plain": [
       "28671887.40964055"
      ]
     },
     "execution_count": 7,
     "metadata": {},
     "output_type": "execute_result"
    }
   ],
   "source": [
    "rad_k = (d * np.log(d)) / (epsilon**2)\n",
    "rad_k\n",
    "## np.format_float_scientific(rad_k, precision=2)"
   ]
  },
  {
   "cell_type": "code",
   "execution_count": null,
   "id": "e69d50e9-70ee-421c-9ba2-2e894472860d",
   "metadata": {},
   "outputs": [],
   "source": []
  }
 ],
 "metadata": {
  "kernelspec": {
   "display_name": "Python 3 (ipykernel)",
   "language": "python",
   "name": "python3"
  },
  "language_info": {
   "codemirror_mode": {
    "name": "ipython",
    "version": 3
   },
   "file_extension": ".py",
   "mimetype": "text/x-python",
   "name": "python",
   "nbconvert_exporter": "python",
   "pygments_lexer": "ipython3",
   "version": "3.8.8"
  }
 },
 "nbformat": 4,
 "nbformat_minor": 5
}

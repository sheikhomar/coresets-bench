{
 "cells": [
  {
   "cell_type": "code",
   "execution_count": 1,
   "id": "d7087802-b288-4c50-b5c7-7ce78dc8da19",
   "metadata": {},
   "outputs": [],
   "source": [
    "from pathlib import Path\n",
    "import os\n",
    "import numpy as np"
   ]
  },
  {
   "cell_type": "code",
   "execution_count": 2,
   "id": "8ab5e901-73e5-41ed-8de5-fbe86549b770",
   "metadata": {},
   "outputs": [],
   "source": [
    "parent_path = Path('../data/results/census')"
   ]
  },
  {
   "cell_type": "code",
   "execution_count": 3,
   "id": "f111384c-c4d7-417c-a6c2-9880c243b152",
   "metadata": {},
   "outputs": [],
   "source": [
    "algorithms = ['group-sampling', 'sensitivity-sampling', 'bico']"
   ]
  },
  {
   "cell_type": "code",
   "execution_count": 4,
   "id": "78f52b8e-49a6-4b35-a89a-ae6b505bc14d",
   "metadata": {},
   "outputs": [],
   "source": [
    "k = 20"
   ]
  },
  {
   "cell_type": "code",
   "execution_count": 5,
   "id": "7e2d9152-aa3f-4e07-a0cb-ae1c21522d35",
   "metadata": {},
   "outputs": [],
   "source": [
    "child_dirs = [parent_path / f'{alg}-k{k}-m{k*200}' for alg in algorithms]"
   ]
  },
  {
   "cell_type": "code",
   "execution_count": 6,
   "id": "8f2aff7e-41ca-493b-b41b-5be6d8bfa9ca",
   "metadata": {},
   "outputs": [],
   "source": [
    "child_dir = child_dirs[0]"
   ]
  },
  {
   "cell_type": "code",
   "execution_count": 7,
   "id": "2a1dd37c-055a-4db6-8097-ff1922e9d6e1",
   "metadata": {},
   "outputs": [],
   "source": [
    "output_paths = list(child_dir.glob('**/results.txt.gz'))"
   ]
  },
  {
   "cell_type": "code",
   "execution_count": 8,
   "id": "932b27d0-10cc-4128-a314-c1bde32e81ef",
   "metadata": {},
   "outputs": [
    {
     "data": {
      "text/plain": [
       "16"
      ]
     },
     "execution_count": 8,
     "metadata": {},
     "output_type": "execute_result"
    }
   ],
   "source": [
    "len(output_paths)"
   ]
  },
  {
   "cell_type": "code",
   "execution_count": 9,
   "id": "169e6a3f-f534-4338-a934-fc290548ee7b",
   "metadata": {},
   "outputs": [],
   "source": [
    "output_path = output_paths[0]"
   ]
  },
  {
   "cell_type": "code",
   "execution_count": 10,
   "id": "e96bbc2a-018a-4ab9-9b04-049dd5f4823a",
   "metadata": {},
   "outputs": [
    {
     "data": {
      "text/plain": [
       "PosixPath('../data/results/census/group-sampling-k20-m4000/2021-07-20-03-15-59/results.txt.gz')"
      ]
     },
     "execution_count": 10,
     "metadata": {},
     "output_type": "execute_result"
    }
   ],
   "source": [
    "output_path"
   ]
  },
  {
   "cell_type": "code",
   "execution_count": 11,
   "id": "9c49214d-3865-4871-8540-021e345c64bf",
   "metadata": {},
   "outputs": [],
   "source": [
    "data = np.loadtxt(fname=output_path, dtype=np.double, delimiter=' ', skiprows=1)"
   ]
  },
  {
   "cell_type": "code",
   "execution_count": 12,
   "id": "9afd501b-4720-4e3e-80af-86cc0030282a",
   "metadata": {},
   "outputs": [],
   "source": [
    "weights = data[:,0]\n",
    "data_points = data[:,1:]"
   ]
  },
  {
   "cell_type": "code",
   "execution_count": 13,
   "id": "49d3bf7c-502d-4740-90ef-847bdc0f5eb1",
   "metadata": {},
   "outputs": [
    {
     "data": {
      "text/plain": [
       "(4015, 68)"
      ]
     },
     "execution_count": 13,
     "metadata": {},
     "output_type": "execute_result"
    }
   ],
   "source": [
    "data_points.shape"
   ]
  },
  {
   "cell_type": "code",
   "execution_count": 14,
   "id": "e38c73fa-01cc-45ae-8fa8-120eaba01b71",
   "metadata": {},
   "outputs": [
    {
     "data": {
      "text/plain": [
       "array([4.54467e+00, 1.09115e+00, 1.75967e+00, 1.71505e-03, 1.45964e-02,\n",
       "       2.24047e+00, 3.03195e+00, 1.95948e+00, 2.00000e+00, 8.21857e-02,\n",
       "       5.18729e-02, 1.23789e+00, 7.72549e-02, 3.16539e+00, 3.22970e+00,\n",
       "       9.64124e-02, 1.94964e+00, 1.15112e-01, 1.40789e-02, 3.46684e-01,\n",
       "       3.27079e-02, 8.66396e-03, 4.04959e-02, 4.95258e-02, 6.92444e+00,\n",
       "       4.01891e-02, 1.93900e+00, 2.21774e-03, 8.65941e-01, 3.45191e-02,\n",
       "       1.79918e+00, 3.52240e+00, 1.54379e+00, 1.99585e+00, 2.47700e+00,\n",
       "       7.05980e-04, 1.98562e+00, 1.45964e-02, 1.96546e+00, 1.15716e+00,\n",
       "       1.44479e+00, 3.06224e+00, 4.89887e-01, 9.72108e-03, 0.00000e+00,\n",
       "       1.04587e+00, 1.06080e+00, 0.00000e+00, 3.14508e+00, 2.23952e+01,\n",
       "       1.21976e-04, 2.16176e+00, 1.09207e+00, 1.10984e+00, 4.44398e-02,\n",
       "       4.54104e-01, 1.23676e-02, 7.88406e-03, 2.31754e-03, 3.29649e+00,\n",
       "       9.58506e-02, 1.64231e+00, 1.01816e+00, 9.75797e-01, 1.82187e-02,\n",
       "       1.17438e+01, 1.00024e+00, 2.74582e-01])"
      ]
     },
     "execution_count": 14,
     "metadata": {},
     "output_type": "execute_result"
    }
   ],
   "source": [
    "data_points[0]"
   ]
  },
  {
   "cell_type": "code",
   "execution_count": null,
   "id": "2879285a-b905-4afc-80bd-22279db25c4d",
   "metadata": {},
   "outputs": [],
   "source": []
  }
 ],
 "metadata": {
  "kernelspec": {
   "display_name": "Python 3 (ipykernel)",
   "language": "python",
   "name": "python3"
  },
  "language_info": {
   "codemirror_mode": {
    "name": "ipython",
    "version": 3
   },
   "file_extension": ".py",
   "mimetype": "text/x-python",
   "name": "python",
   "nbconvert_exporter": "python",
   "pygments_lexer": "ipython3",
   "version": "3.8.8"
  }
 },
 "nbformat": 4,
 "nbformat_minor": 5
}

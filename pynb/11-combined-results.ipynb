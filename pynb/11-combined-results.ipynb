{
 "cells": [
  {
   "cell_type": "code",
   "execution_count": 1,
   "id": "107cbafd-44e1-42f7-91ce-323fc7aefa06",
   "metadata": {},
   "outputs": [],
   "source": [
    "import sys\n",
    "sys.path.append('../xrun')"
   ]
  },
  {
   "cell_type": "code",
   "execution_count": 2,
   "id": "e05ac33a-9b50-4d7e-b618-eed9830ac680",
   "metadata": {},
   "outputs": [],
   "source": [
    "import re\n",
    "\n",
    "from pathlib import Path\n",
    "\n",
    "import numpy as np\n",
    "import pandas as pd\n",
    "\n",
    "from IPython.core.display import HTML\n",
    "from sklearn.metrics import pairwise_distances\n",
    "\n",
    "from xrun.data.run_info import RunInfo"
   ]
  },
  {
   "cell_type": "code",
   "execution_count": 3,
   "id": "8b031cb8-40e8-4bad-9099-68276c271e06",
   "metadata": {},
   "outputs": [],
   "source": [
    "def load_cost_from_file(file_path: Path):\n",
    "    if file_path.exists():\n",
    "            with open(file_path, \"r\") as f:\n",
    "                return float(f.read())\n",
    "    else:\n",
    "        print(f\"Warning: {file_path} not found!\")\n",
    "    return None\n",
    "\n",
    "def get_costs(file_paths):\n",
    "    costs = []\n",
    "    for index, run_file_path in enumerate(file_paths):\n",
    "        run_info = RunInfo.load_json(run_file_path)\n",
    "        real_cost = load_cost_from_file(run_file_path.parent / \"real_cost.txt\")\n",
    "        coreset_cost = load_cost_from_file(run_file_path.parent / \"coreset_cost.txt\")\n",
    "        costs.append({\n",
    "            \"dataset\": run_info.dataset,\n",
    "            \"algorithm\": run_info.algorithm,\n",
    "            \"k\": run_info.k,\n",
    "            \"running_time\": int(run_info.duration_secs),\n",
    "            \"real_cost\": real_cost,\n",
    "            \"coreset_cost\": coreset_cost,\n",
    "            \"run_file_path\": str(run_file_path),\n",
    "        })\n",
    "    return pd.DataFrame(costs)\n",
    "\n",
    "def aggregate_costs(df_costs: pd.DataFrame):\n",
    "    df_aggr_costs = df_costs.groupby([\"dataset\", \"algorithm\", \"k\"], as_index=False).agg(\n",
    "        experiment_count=(\"algorithm\", \"count\"),\n",
    "        real_cost_mean=(\"real_cost\", \"mean\"),\n",
    "        real_cost_std=(\"real_cost\", \"std\"),\n",
    "        coreset_cost_mean=(\"coreset_cost\", \"mean\"),\n",
    "        coreset_cost_std=(\"coreset_cost\", \"std\"),\n",
    "        running_time_mean=(\"running_time\", \"mean\"),\n",
    "        running_time_std=(\"running_time\", \"std\"),\n",
    "    )\n",
    "    df_aggr_costs[\"ratio1\"] = df_aggr_costs[\"real_cost_mean\"] / df_aggr_costs[\"coreset_cost_mean\"]\n",
    "    df_aggr_costs[\"ratio2\"] = df_aggr_costs[\"coreset_cost_mean\"] / df_aggr_costs[\"real_cost_mean\"]\n",
    "    df_aggr_costs[\"distortion\"] = df_aggr_costs[[\"ratio1\", \"ratio2\"]].max(axis=1)\n",
    "    df_aggr_costs[\"running_time\"] = pd.to_timedelta(df_aggr_costs.running_time_mean, unit='s')\n",
    "    df_aggr_costs[\"running_time_formatted\"] = df_aggr_costs[\"running_time\"].map(\n",
    "        lambda x: f\"{x.components.hours:02d}h {x.components.minutes:02d}m {x.components.seconds:02d}s\"\n",
    "    )\n",
    "    return df_aggr_costs\n",
    "\n",
    "\n",
    "def display_results_for(df_aggr_costs: pd.DataFrame, dataset_name: str, show_counts: bool=True, show_running_times:bool=True, show_costs: bool=True):\n",
    "    pd.set_option('display.float_format', '{:.2e}'.format)\n",
    "    \n",
    "    display(HTML(f\"<h2 style='border-bottom:solid 1px Black;padding-bottom:5px;'>Results for {dataset_name}</h2>\"))\n",
    "    df_filtered = df_aggr_costs[df_aggr_costs.dataset == dataset_name]\n",
    "    \n",
    "    html_str = \"\"\n",
    "    \n",
    "    if show_counts:\n",
    "        df_counts = pd.pivot_table(df_filtered, values=\"experiment_count\", index=[\"algorithm\"], columns=[\"k\"])\n",
    "        df_counts = df_counts.rename_axis(None, axis=0).rename_axis(None, axis=1)\n",
    "        html_str += f'<div style=\"border:solid 1px White; width:300px;float:left;\">'\n",
    "        html_str += f\"<h4 style='text-align:center;'>Experiment Counts</h4>\"\n",
    "        html_str += df_counts.style.format(precision=0).to_html()\n",
    "        html_str += \"</div>\"\n",
    "    \n",
    "    if show_running_times:\n",
    "        df_run_times = pd.pivot_table(df_filtered, values=\"running_time_formatted\", index=[\"algorithm\"], columns=[\"k\"], aggfunc=lambda x: x)\n",
    "        df_run_times = df_run_times.rename_axis(None, axis=0).rename_axis(None, axis=1)\n",
    "\n",
    "        html_str += f'<div style=\"border:solid 1px White; float:left;\">'\n",
    "        html_str += f\"<h4 style='text-align:center;'>Average Running Times</h4>\"\n",
    "        html_str += df_run_times.to_html()\n",
    "        html_str += \"</div>\"\n",
    "        \n",
    "    display(HTML(html_str))\n",
    "\n",
    "    if show_costs:\n",
    "        df_real_costs = pd.pivot_table(df_filtered, values=\"real_cost_mean\", index=[\"algorithm\"], columns=[\"k\"])\n",
    "        df_real_costs = df_real_costs.rename_axis(None, axis=0).rename_axis(None, axis=1)\n",
    "        \n",
    "        df_coreset_costs = pd.pivot_table(df_filtered, values=\"coreset_cost_mean\", index=[\"algorithm\"], columns=[\"k\"])\n",
    "        df_coreset_costs = df_coreset_costs.rename_axis(None, axis=0).rename_axis(None, axis=1)\n",
    "        \n",
    "        html_str = \"\"\n",
    "        html_str += f'<div style=\"border:solid 1px #eee; float:left;\">'\n",
    "        html_str += f\"<h4 style='text-align:center;'>Real costs</h4>\"\n",
    "        html_str += df_real_costs.to_html()\n",
    "        html_str += \"</div>\"\n",
    "        \n",
    "        html_str += f'<div style=\"border:solid 1px #eee; float:left;\">'\n",
    "        html_str += f\"<h4 style='text-align:center;'>Coreset costs</h4>\"\n",
    "        html_str += df_coreset_costs.to_html()\n",
    "        html_str += \"</div>\"\n",
    "        display(HTML(html_str))\n",
    "    \n",
    "    display(HTML(f'<h4>Distortions</h4>'))\n",
    "    df_distortions = pd.pivot_table(df_filtered, values=\"distortion\", index=[\"algorithm\"], columns=[\"k\"])\n",
    "    df_distortions = df_distortions.rename_axis(None, axis=0).rename_axis(None, axis=1)\n",
    "    display(df_distortions)\n"
   ]
  },
  {
   "cell_type": "code",
   "execution_count": 4,
   "id": "74a656af-33ce-4b43-b21e-0110dc292e41",
   "metadata": {},
   "outputs": [],
   "source": [
    "data_results_dir = Path(\"../data/odin-results/\")\n",
    "run_files = list(data_results_dir.glob(\"**/*.json\"))"
   ]
  },
  {
   "cell_type": "code",
   "execution_count": 5,
   "id": "77d466f5-829b-4630-a69a-a440f74bf044",
   "metadata": {},
   "outputs": [],
   "source": [
    "run_files.extend(list(Path(\"../data/cary-results/hardinstanceb1\").glob(\"**/*.json\")))\n",
    "run_files.extend(list(Path(\"../data/cary-results/hardinstanceb2\").glob(\"**/*.json\")))"
   ]
  },
  {
   "cell_type": "code",
   "execution_count": 6,
   "id": "092218ed-9263-4ac3-9967-e0c4df41f88c",
   "metadata": {},
   "outputs": [
    {
     "data": {
      "text/plain": [
       "2186"
      ]
     },
     "execution_count": 6,
     "metadata": {},
     "output_type": "execute_result"
    }
   ],
   "source": [
    "len(run_files)"
   ]
  },
  {
   "cell_type": "code",
   "execution_count": 7,
   "id": "aeadc0d5-3298-4011-b5dc-d7d892e83e7e",
   "metadata": {},
   "outputs": [
    {
     "name": "stdout",
     "output_type": "stream",
     "text": [
      "Warning: ../data/odin-results/covertypelowd/basic-clustering-k10-m2000/2021-08-11-14-20-32/real_cost.txt not found!\n",
      "Warning: ../data/odin-results/covertypelowd/basic-clustering-k10-m2000/2021-08-11-14-20-32/coreset_cost.txt not found!\n"
     ]
    }
   ],
   "source": [
    "df_cost_data = get_costs(run_files)"
   ]
  },
  {
   "cell_type": "code",
   "execution_count": 8,
   "id": "7498d786-964c-42f9-bb92-06c23049d3e7",
   "metadata": {},
   "outputs": [],
   "source": [
    "df_aggr_costs = aggregate_costs(df_cost_data)"
   ]
  },
  {
   "cell_type": "code",
   "execution_count": 9,
   "id": "284d7106-502b-4add-8303-107582643e77",
   "metadata": {},
   "outputs": [
    {
     "data": {
      "text/html": [
       "<h2 style='border-bottom:solid 1px Black;padding-bottom:5px;'>Results for census</h2>"
      ],
      "text/plain": [
       "<IPython.core.display.HTML object>"
      ]
     },
     "metadata": {},
     "output_type": "display_data"
    },
    {
     "data": {
      "text/html": [
       "<div style=\"border:solid 1px White; width:300px;float:left;\"><h4 style='text-align:center;'>Experiment Counts</h4><style type=\"text/css\">\n",
       "</style>\n",
       "<table id=\"T_e8942_\">\n",
       "  <thead>\n",
       "    <tr>\n",
       "      <th class=\"blank level0\" >&nbsp;</th>\n",
       "      <th class=\"col_heading level0 col0\" >10</th>\n",
       "      <th class=\"col_heading level0 col1\" >20</th>\n",
       "      <th class=\"col_heading level0 col2\" >30</th>\n",
       "      <th class=\"col_heading level0 col3\" >40</th>\n",
       "      <th class=\"col_heading level0 col4\" >50</th>\n",
       "    </tr>\n",
       "  </thead>\n",
       "  <tbody>\n",
       "    <tr>\n",
       "      <th id=\"T_e8942_level0_row0\" class=\"row_heading level0 row0\" >basic-clustering</th>\n",
       "      <td id=\"T_e8942_row0_col0\" class=\"data row0 col0\" >7</td>\n",
       "      <td id=\"T_e8942_row0_col1\" class=\"data row0 col1\" >6</td>\n",
       "      <td id=\"T_e8942_row0_col2\" class=\"data row0 col2\" >5</td>\n",
       "      <td id=\"T_e8942_row0_col3\" class=\"data row0 col3\" >5</td>\n",
       "      <td id=\"T_e8942_row0_col4\" class=\"data row0 col4\" >4</td>\n",
       "    </tr>\n",
       "    <tr>\n",
       "      <th id=\"T_e8942_level0_row1\" class=\"row_heading level0 row1\" >bico</th>\n",
       "      <td id=\"T_e8942_row1_col0\" class=\"data row1 col0\" >20</td>\n",
       "      <td id=\"T_e8942_row1_col1\" class=\"data row1 col1\" >20</td>\n",
       "      <td id=\"T_e8942_row1_col2\" class=\"data row1 col2\" >20</td>\n",
       "      <td id=\"T_e8942_row1_col3\" class=\"data row1 col3\" >20</td>\n",
       "      <td id=\"T_e8942_row1_col4\" class=\"data row1 col4\" >20</td>\n",
       "    </tr>\n",
       "    <tr>\n",
       "      <th id=\"T_e8942_level0_row2\" class=\"row_heading level0 row2\" >group-sampling</th>\n",
       "      <td id=\"T_e8942_row2_col0\" class=\"data row2 col0\" >20</td>\n",
       "      <td id=\"T_e8942_row2_col1\" class=\"data row2 col1\" >20</td>\n",
       "      <td id=\"T_e8942_row2_col2\" class=\"data row2 col2\" >21</td>\n",
       "      <td id=\"T_e8942_row2_col3\" class=\"data row2 col3\" >21</td>\n",
       "      <td id=\"T_e8942_row2_col4\" class=\"data row2 col4\" >22</td>\n",
       "    </tr>\n",
       "    <tr>\n",
       "      <th id=\"T_e8942_level0_row3\" class=\"row_heading level0 row3\" >sensitivity-sampling</th>\n",
       "      <td id=\"T_e8942_row3_col0\" class=\"data row3 col0\" >20</td>\n",
       "      <td id=\"T_e8942_row3_col1\" class=\"data row3 col1\" >21</td>\n",
       "      <td id=\"T_e8942_row3_col2\" class=\"data row3 col2\" >22</td>\n",
       "      <td id=\"T_e8942_row3_col3\" class=\"data row3 col3\" >22</td>\n",
       "      <td id=\"T_e8942_row3_col4\" class=\"data row3 col4\" >22</td>\n",
       "    </tr>\n",
       "  </tbody>\n",
       "</table>\n",
       "</div>"
      ],
      "text/plain": [
       "<IPython.core.display.HTML object>"
      ]
     },
     "metadata": {},
     "output_type": "display_data"
    },
    {
     "data": {
      "text/html": [
       "<h4>Distortions</h4>"
      ],
      "text/plain": [
       "<IPython.core.display.HTML object>"
      ]
     },
     "metadata": {},
     "output_type": "display_data"
    },
    {
     "data": {
      "text/html": [
       "<div>\n",
       "<style scoped>\n",
       "    .dataframe tbody tr th:only-of-type {\n",
       "        vertical-align: middle;\n",
       "    }\n",
       "\n",
       "    .dataframe tbody tr th {\n",
       "        vertical-align: top;\n",
       "    }\n",
       "\n",
       "    .dataframe thead th {\n",
       "        text-align: right;\n",
       "    }\n",
       "</style>\n",
       "<table border=\"1\" class=\"dataframe\">\n",
       "  <thead>\n",
       "    <tr style=\"text-align: right;\">\n",
       "      <th></th>\n",
       "      <th>10</th>\n",
       "      <th>20</th>\n",
       "      <th>30</th>\n",
       "      <th>40</th>\n",
       "      <th>50</th>\n",
       "    </tr>\n",
       "  </thead>\n",
       "  <tbody>\n",
       "    <tr>\n",
       "      <th>basic-clustering</th>\n",
       "      <td>1.23e+00</td>\n",
       "      <td>1.25e+00</td>\n",
       "      <td>1.27e+00</td>\n",
       "      <td>1.28e+00</td>\n",
       "      <td>1.29e+00</td>\n",
       "    </tr>\n",
       "    <tr>\n",
       "      <th>bico</th>\n",
       "      <td>1.66e+00</td>\n",
       "      <td>1.73e+00</td>\n",
       "      <td>1.76e+00</td>\n",
       "      <td>1.83e+00</td>\n",
       "      <td>1.87e+00</td>\n",
       "    </tr>\n",
       "    <tr>\n",
       "      <th>group-sampling</th>\n",
       "      <td>1.02e+00</td>\n",
       "      <td>1.02e+00</td>\n",
       "      <td>1.02e+00</td>\n",
       "      <td>1.02e+00</td>\n",
       "      <td>1.02e+00</td>\n",
       "    </tr>\n",
       "    <tr>\n",
       "      <th>sensitivity-sampling</th>\n",
       "      <td>1.01e+00</td>\n",
       "      <td>1.01e+00</td>\n",
       "      <td>1.01e+00</td>\n",
       "      <td>1.00e+00</td>\n",
       "      <td>1.00e+00</td>\n",
       "    </tr>\n",
       "  </tbody>\n",
       "</table>\n",
       "</div>"
      ],
      "text/plain": [
       "                           10       20       30       40       50\n",
       "basic-clustering     1.23e+00 1.25e+00 1.27e+00 1.28e+00 1.29e+00\n",
       "bico                 1.66e+00 1.73e+00 1.76e+00 1.83e+00 1.87e+00\n",
       "group-sampling       1.02e+00 1.02e+00 1.02e+00 1.02e+00 1.02e+00\n",
       "sensitivity-sampling 1.01e+00 1.01e+00 1.01e+00 1.00e+00 1.00e+00"
      ]
     },
     "metadata": {},
     "output_type": "display_data"
    },
    {
     "data": {
      "text/html": [
       "<h2 style='border-bottom:solid 1px Black;padding-bottom:5px;'>Results for censuslowd</h2>"
      ],
      "text/plain": [
       "<IPython.core.display.HTML object>"
      ]
     },
     "metadata": {},
     "output_type": "display_data"
    },
    {
     "data": {
      "text/html": [
       "<div style=\"border:solid 1px White; width:300px;float:left;\"><h4 style='text-align:center;'>Experiment Counts</h4><style type=\"text/css\">\n",
       "</style>\n",
       "<table id=\"T_709bd_\">\n",
       "  <thead>\n",
       "    <tr>\n",
       "      <th class=\"blank level0\" >&nbsp;</th>\n",
       "      <th class=\"col_heading level0 col0\" >10</th>\n",
       "      <th class=\"col_heading level0 col1\" >20</th>\n",
       "      <th class=\"col_heading level0 col2\" >30</th>\n",
       "      <th class=\"col_heading level0 col3\" >40</th>\n",
       "      <th class=\"col_heading level0 col4\" >50</th>\n",
       "    </tr>\n",
       "  </thead>\n",
       "  <tbody>\n",
       "    <tr>\n",
       "      <th id=\"T_709bd_level0_row0\" class=\"row_heading level0 row0\" >basic-clustering</th>\n",
       "      <td id=\"T_709bd_row0_col0\" class=\"data row0 col0\" >7</td>\n",
       "      <td id=\"T_709bd_row0_col1\" class=\"data row0 col1\" >6</td>\n",
       "      <td id=\"T_709bd_row0_col2\" class=\"data row0 col2\" >5</td>\n",
       "      <td id=\"T_709bd_row0_col3\" class=\"data row0 col3\" >5</td>\n",
       "      <td id=\"T_709bd_row0_col4\" class=\"data row0 col4\" >4</td>\n",
       "    </tr>\n",
       "    <tr>\n",
       "      <th id=\"T_709bd_level0_row1\" class=\"row_heading level0 row1\" >bico</th>\n",
       "      <td id=\"T_709bd_row1_col0\" class=\"data row1 col0\" >20</td>\n",
       "      <td id=\"T_709bd_row1_col1\" class=\"data row1 col1\" >20</td>\n",
       "      <td id=\"T_709bd_row1_col2\" class=\"data row1 col2\" >20</td>\n",
       "      <td id=\"T_709bd_row1_col3\" class=\"data row1 col3\" >20</td>\n",
       "      <td id=\"T_709bd_row1_col4\" class=\"data row1 col4\" >20</td>\n",
       "    </tr>\n",
       "    <tr>\n",
       "      <th id=\"T_709bd_level0_row2\" class=\"row_heading level0 row2\" >group-sampling</th>\n",
       "      <td id=\"T_709bd_row2_col0\" class=\"data row2 col0\" >20</td>\n",
       "      <td id=\"T_709bd_row2_col1\" class=\"data row2 col1\" >20</td>\n",
       "      <td id=\"T_709bd_row2_col2\" class=\"data row2 col2\" >20</td>\n",
       "      <td id=\"T_709bd_row2_col3\" class=\"data row2 col3\" >20</td>\n",
       "      <td id=\"T_709bd_row2_col4\" class=\"data row2 col4\" >20</td>\n",
       "    </tr>\n",
       "    <tr>\n",
       "      <th id=\"T_709bd_level0_row3\" class=\"row_heading level0 row3\" >sensitivity-sampling</th>\n",
       "      <td id=\"T_709bd_row3_col0\" class=\"data row3 col0\" >20</td>\n",
       "      <td id=\"T_709bd_row3_col1\" class=\"data row3 col1\" >20</td>\n",
       "      <td id=\"T_709bd_row3_col2\" class=\"data row3 col2\" >20</td>\n",
       "      <td id=\"T_709bd_row3_col3\" class=\"data row3 col3\" >20</td>\n",
       "      <td id=\"T_709bd_row3_col4\" class=\"data row3 col4\" >20</td>\n",
       "    </tr>\n",
       "  </tbody>\n",
       "</table>\n",
       "</div>"
      ],
      "text/plain": [
       "<IPython.core.display.HTML object>"
      ]
     },
     "metadata": {},
     "output_type": "display_data"
    },
    {
     "data": {
      "text/html": [
       "<h4>Distortions</h4>"
      ],
      "text/plain": [
       "<IPython.core.display.HTML object>"
      ]
     },
     "metadata": {},
     "output_type": "display_data"
    },
    {
     "data": {
      "text/html": [
       "<div>\n",
       "<style scoped>\n",
       "    .dataframe tbody tr th:only-of-type {\n",
       "        vertical-align: middle;\n",
       "    }\n",
       "\n",
       "    .dataframe tbody tr th {\n",
       "        vertical-align: top;\n",
       "    }\n",
       "\n",
       "    .dataframe thead th {\n",
       "        text-align: right;\n",
       "    }\n",
       "</style>\n",
       "<table border=\"1\" class=\"dataframe\">\n",
       "  <thead>\n",
       "    <tr style=\"text-align: right;\">\n",
       "      <th></th>\n",
       "      <th>10</th>\n",
       "      <th>20</th>\n",
       "      <th>30</th>\n",
       "      <th>40</th>\n",
       "      <th>50</th>\n",
       "    </tr>\n",
       "  </thead>\n",
       "  <tbody>\n",
       "    <tr>\n",
       "      <th>basic-clustering</th>\n",
       "      <td>1.05e+00</td>\n",
       "      <td>1.14e+00</td>\n",
       "      <td>1.21e+00</td>\n",
       "      <td>1.26e+00</td>\n",
       "      <td>1.29e+00</td>\n",
       "    </tr>\n",
       "    <tr>\n",
       "      <th>bico</th>\n",
       "      <td>1.18e+00</td>\n",
       "      <td>1.44e+00</td>\n",
       "      <td>1.63e+00</td>\n",
       "      <td>1.79e+00</td>\n",
       "      <td>1.84e+00</td>\n",
       "    </tr>\n",
       "    <tr>\n",
       "      <th>group-sampling</th>\n",
       "      <td>1.01e+00</td>\n",
       "      <td>1.02e+00</td>\n",
       "      <td>1.02e+00</td>\n",
       "      <td>1.02e+00</td>\n",
       "      <td>1.02e+00</td>\n",
       "    </tr>\n",
       "    <tr>\n",
       "      <th>sensitivity-sampling</th>\n",
       "      <td>1.01e+00</td>\n",
       "      <td>1.01e+00</td>\n",
       "      <td>1.00e+00</td>\n",
       "      <td>1.00e+00</td>\n",
       "      <td>1.00e+00</td>\n",
       "    </tr>\n",
       "  </tbody>\n",
       "</table>\n",
       "</div>"
      ],
      "text/plain": [
       "                           10       20       30       40       50\n",
       "basic-clustering     1.05e+00 1.14e+00 1.21e+00 1.26e+00 1.29e+00\n",
       "bico                 1.18e+00 1.44e+00 1.63e+00 1.79e+00 1.84e+00\n",
       "group-sampling       1.01e+00 1.02e+00 1.02e+00 1.02e+00 1.02e+00\n",
       "sensitivity-sampling 1.01e+00 1.01e+00 1.00e+00 1.00e+00 1.00e+00"
      ]
     },
     "metadata": {},
     "output_type": "display_data"
    },
    {
     "data": {
      "text/html": [
       "<h2 style='border-bottom:solid 1px Black;padding-bottom:5px;'>Results for covertype</h2>"
      ],
      "text/plain": [
       "<IPython.core.display.HTML object>"
      ]
     },
     "metadata": {},
     "output_type": "display_data"
    },
    {
     "data": {
      "text/html": [
       "<div style=\"border:solid 1px White; width:300px;float:left;\"><h4 style='text-align:center;'>Experiment Counts</h4><style type=\"text/css\">\n",
       "</style>\n",
       "<table id=\"T_390b9_\">\n",
       "  <thead>\n",
       "    <tr>\n",
       "      <th class=\"blank level0\" >&nbsp;</th>\n",
       "      <th class=\"col_heading level0 col0\" >10</th>\n",
       "      <th class=\"col_heading level0 col1\" >20</th>\n",
       "      <th class=\"col_heading level0 col2\" >30</th>\n",
       "      <th class=\"col_heading level0 col3\" >40</th>\n",
       "      <th class=\"col_heading level0 col4\" >50</th>\n",
       "    </tr>\n",
       "  </thead>\n",
       "  <tbody>\n",
       "    <tr>\n",
       "      <th id=\"T_390b9_level0_row0\" class=\"row_heading level0 row0\" >basic-clustering</th>\n",
       "      <td id=\"T_390b9_row0_col0\" class=\"data row0 col0\" >7</td>\n",
       "      <td id=\"T_390b9_row0_col1\" class=\"data row0 col1\" >7</td>\n",
       "      <td id=\"T_390b9_row0_col2\" class=\"data row0 col2\" >6</td>\n",
       "      <td id=\"T_390b9_row0_col3\" class=\"data row0 col3\" >6</td>\n",
       "      <td id=\"T_390b9_row0_col4\" class=\"data row0 col4\" >6</td>\n",
       "    </tr>\n",
       "    <tr>\n",
       "      <th id=\"T_390b9_level0_row1\" class=\"row_heading level0 row1\" >bico</th>\n",
       "      <td id=\"T_390b9_row1_col0\" class=\"data row1 col0\" >20</td>\n",
       "      <td id=\"T_390b9_row1_col1\" class=\"data row1 col1\" >20</td>\n",
       "      <td id=\"T_390b9_row1_col2\" class=\"data row1 col2\" >20</td>\n",
       "      <td id=\"T_390b9_row1_col3\" class=\"data row1 col3\" >20</td>\n",
       "      <td id=\"T_390b9_row1_col4\" class=\"data row1 col4\" >20</td>\n",
       "    </tr>\n",
       "    <tr>\n",
       "      <th id=\"T_390b9_level0_row2\" class=\"row_heading level0 row2\" >group-sampling</th>\n",
       "      <td id=\"T_390b9_row2_col0\" class=\"data row2 col0\" >20</td>\n",
       "      <td id=\"T_390b9_row2_col1\" class=\"data row2 col1\" >20</td>\n",
       "      <td id=\"T_390b9_row2_col2\" class=\"data row2 col2\" >20</td>\n",
       "      <td id=\"T_390b9_row2_col3\" class=\"data row2 col3\" >20</td>\n",
       "      <td id=\"T_390b9_row2_col4\" class=\"data row2 col4\" >20</td>\n",
       "    </tr>\n",
       "    <tr>\n",
       "      <th id=\"T_390b9_level0_row3\" class=\"row_heading level0 row3\" >sensitivity-sampling</th>\n",
       "      <td id=\"T_390b9_row3_col0\" class=\"data row3 col0\" >20</td>\n",
       "      <td id=\"T_390b9_row3_col1\" class=\"data row3 col1\" >20</td>\n",
       "      <td id=\"T_390b9_row3_col2\" class=\"data row3 col2\" >20</td>\n",
       "      <td id=\"T_390b9_row3_col3\" class=\"data row3 col3\" >20</td>\n",
       "      <td id=\"T_390b9_row3_col4\" class=\"data row3 col4\" >20</td>\n",
       "    </tr>\n",
       "  </tbody>\n",
       "</table>\n",
       "</div>"
      ],
      "text/plain": [
       "<IPython.core.display.HTML object>"
      ]
     },
     "metadata": {},
     "output_type": "display_data"
    },
    {
     "data": {
      "text/html": [
       "<h4>Distortions</h4>"
      ],
      "text/plain": [
       "<IPython.core.display.HTML object>"
      ]
     },
     "metadata": {},
     "output_type": "display_data"
    },
    {
     "data": {
      "text/html": [
       "<div>\n",
       "<style scoped>\n",
       "    .dataframe tbody tr th:only-of-type {\n",
       "        vertical-align: middle;\n",
       "    }\n",
       "\n",
       "    .dataframe tbody tr th {\n",
       "        vertical-align: top;\n",
       "    }\n",
       "\n",
       "    .dataframe thead th {\n",
       "        text-align: right;\n",
       "    }\n",
       "</style>\n",
       "<table border=\"1\" class=\"dataframe\">\n",
       "  <thead>\n",
       "    <tr style=\"text-align: right;\">\n",
       "      <th></th>\n",
       "      <th>10</th>\n",
       "      <th>20</th>\n",
       "      <th>30</th>\n",
       "      <th>40</th>\n",
       "      <th>50</th>\n",
       "    </tr>\n",
       "  </thead>\n",
       "  <tbody>\n",
       "    <tr>\n",
       "      <th>basic-clustering</th>\n",
       "      <td>1.04e+00</td>\n",
       "      <td>1.04e+00</td>\n",
       "      <td>1.04e+00</td>\n",
       "      <td>1.04e+00</td>\n",
       "      <td>1.04e+00</td>\n",
       "    </tr>\n",
       "    <tr>\n",
       "      <th>bico</th>\n",
       "      <td>1.10e+00</td>\n",
       "      <td>1.11e+00</td>\n",
       "      <td>1.10e+00</td>\n",
       "      <td>1.09e+00</td>\n",
       "      <td>1.07e+00</td>\n",
       "    </tr>\n",
       "    <tr>\n",
       "      <th>group-sampling</th>\n",
       "      <td>1.02e+00</td>\n",
       "      <td>1.02e+00</td>\n",
       "      <td>1.02e+00</td>\n",
       "      <td>1.02e+00</td>\n",
       "      <td>1.03e+00</td>\n",
       "    </tr>\n",
       "    <tr>\n",
       "      <th>sensitivity-sampling</th>\n",
       "      <td>1.00e+00</td>\n",
       "      <td>1.00e+00</td>\n",
       "      <td>1.00e+00</td>\n",
       "      <td>1.00e+00</td>\n",
       "      <td>1.00e+00</td>\n",
       "    </tr>\n",
       "  </tbody>\n",
       "</table>\n",
       "</div>"
      ],
      "text/plain": [
       "                           10       20       30       40       50\n",
       "basic-clustering     1.04e+00 1.04e+00 1.04e+00 1.04e+00 1.04e+00\n",
       "bico                 1.10e+00 1.11e+00 1.10e+00 1.09e+00 1.07e+00\n",
       "group-sampling       1.02e+00 1.02e+00 1.02e+00 1.02e+00 1.03e+00\n",
       "sensitivity-sampling 1.00e+00 1.00e+00 1.00e+00 1.00e+00 1.00e+00"
      ]
     },
     "metadata": {},
     "output_type": "display_data"
    },
    {
     "data": {
      "text/html": [
       "<h2 style='border-bottom:solid 1px Black;padding-bottom:5px;'>Results for covertypelowd</h2>"
      ],
      "text/plain": [
       "<IPython.core.display.HTML object>"
      ]
     },
     "metadata": {},
     "output_type": "display_data"
    },
    {
     "data": {
      "text/html": [
       "<div style=\"border:solid 1px White; width:300px;float:left;\"><h4 style='text-align:center;'>Experiment Counts</h4><style type=\"text/css\">\n",
       "</style>\n",
       "<table id=\"T_a0ff1_\">\n",
       "  <thead>\n",
       "    <tr>\n",
       "      <th class=\"blank level0\" >&nbsp;</th>\n",
       "      <th class=\"col_heading level0 col0\" >10</th>\n",
       "      <th class=\"col_heading level0 col1\" >20</th>\n",
       "      <th class=\"col_heading level0 col2\" >30</th>\n",
       "      <th class=\"col_heading level0 col3\" >40</th>\n",
       "      <th class=\"col_heading level0 col4\" >50</th>\n",
       "    </tr>\n",
       "  </thead>\n",
       "  <tbody>\n",
       "    <tr>\n",
       "      <th id=\"T_a0ff1_level0_row0\" class=\"row_heading level0 row0\" >basic-clustering</th>\n",
       "      <td id=\"T_a0ff1_row0_col0\" class=\"data row0 col0\" >7</td>\n",
       "      <td id=\"T_a0ff1_row0_col1\" class=\"data row0 col1\" >6</td>\n",
       "      <td id=\"T_a0ff1_row0_col2\" class=\"data row0 col2\" >6</td>\n",
       "      <td id=\"T_a0ff1_row0_col3\" class=\"data row0 col3\" >6</td>\n",
       "      <td id=\"T_a0ff1_row0_col4\" class=\"data row0 col4\" >6</td>\n",
       "    </tr>\n",
       "    <tr>\n",
       "      <th id=\"T_a0ff1_level0_row1\" class=\"row_heading level0 row1\" >bico</th>\n",
       "      <td id=\"T_a0ff1_row1_col0\" class=\"data row1 col0\" >10</td>\n",
       "      <td id=\"T_a0ff1_row1_col1\" class=\"data row1 col1\" >10</td>\n",
       "      <td id=\"T_a0ff1_row1_col2\" class=\"data row1 col2\" >18</td>\n",
       "      <td id=\"T_a0ff1_row1_col3\" class=\"data row1 col3\" >20</td>\n",
       "      <td id=\"T_a0ff1_row1_col4\" class=\"data row1 col4\" >20</td>\n",
       "    </tr>\n",
       "    <tr>\n",
       "      <th id=\"T_a0ff1_level0_row2\" class=\"row_heading level0 row2\" >group-sampling</th>\n",
       "      <td id=\"T_a0ff1_row2_col0\" class=\"data row2 col0\" >20</td>\n",
       "      <td id=\"T_a0ff1_row2_col1\" class=\"data row2 col1\" >20</td>\n",
       "      <td id=\"T_a0ff1_row2_col2\" class=\"data row2 col2\" >20</td>\n",
       "      <td id=\"T_a0ff1_row2_col3\" class=\"data row2 col3\" >20</td>\n",
       "      <td id=\"T_a0ff1_row2_col4\" class=\"data row2 col4\" >20</td>\n",
       "    </tr>\n",
       "    <tr>\n",
       "      <th id=\"T_a0ff1_level0_row3\" class=\"row_heading level0 row3\" >sensitivity-sampling</th>\n",
       "      <td id=\"T_a0ff1_row3_col0\" class=\"data row3 col0\" >20</td>\n",
       "      <td id=\"T_a0ff1_row3_col1\" class=\"data row3 col1\" >20</td>\n",
       "      <td id=\"T_a0ff1_row3_col2\" class=\"data row3 col2\" >20</td>\n",
       "      <td id=\"T_a0ff1_row3_col3\" class=\"data row3 col3\" >20</td>\n",
       "      <td id=\"T_a0ff1_row3_col4\" class=\"data row3 col4\" >20</td>\n",
       "    </tr>\n",
       "  </tbody>\n",
       "</table>\n",
       "</div>"
      ],
      "text/plain": [
       "<IPython.core.display.HTML object>"
      ]
     },
     "metadata": {},
     "output_type": "display_data"
    },
    {
     "data": {
      "text/html": [
       "<h4>Distortions</h4>"
      ],
      "text/plain": [
       "<IPython.core.display.HTML object>"
      ]
     },
     "metadata": {},
     "output_type": "display_data"
    },
    {
     "data": {
      "text/html": [
       "<div>\n",
       "<style scoped>\n",
       "    .dataframe tbody tr th:only-of-type {\n",
       "        vertical-align: middle;\n",
       "    }\n",
       "\n",
       "    .dataframe tbody tr th {\n",
       "        vertical-align: top;\n",
       "    }\n",
       "\n",
       "    .dataframe thead th {\n",
       "        text-align: right;\n",
       "    }\n",
       "</style>\n",
       "<table border=\"1\" class=\"dataframe\">\n",
       "  <thead>\n",
       "    <tr style=\"text-align: right;\">\n",
       "      <th></th>\n",
       "      <th>10</th>\n",
       "      <th>20</th>\n",
       "      <th>30</th>\n",
       "      <th>40</th>\n",
       "      <th>50</th>\n",
       "    </tr>\n",
       "  </thead>\n",
       "  <tbody>\n",
       "    <tr>\n",
       "      <th>basic-clustering</th>\n",
       "      <td>1.04e+00</td>\n",
       "      <td>1.04e+00</td>\n",
       "      <td>1.04e+00</td>\n",
       "      <td>1.04e+00</td>\n",
       "      <td>1.04e+00</td>\n",
       "    </tr>\n",
       "    <tr>\n",
       "      <th>bico</th>\n",
       "      <td>1.10e+00</td>\n",
       "      <td>1.11e+00</td>\n",
       "      <td>1.10e+00</td>\n",
       "      <td>1.09e+00</td>\n",
       "      <td>1.07e+00</td>\n",
       "    </tr>\n",
       "    <tr>\n",
       "      <th>group-sampling</th>\n",
       "      <td>1.02e+00</td>\n",
       "      <td>1.02e+00</td>\n",
       "      <td>1.02e+00</td>\n",
       "      <td>1.02e+00</td>\n",
       "      <td>1.03e+00</td>\n",
       "    </tr>\n",
       "    <tr>\n",
       "      <th>sensitivity-sampling</th>\n",
       "      <td>1.01e+00</td>\n",
       "      <td>1.01e+00</td>\n",
       "      <td>1.00e+00</td>\n",
       "      <td>1.00e+00</td>\n",
       "      <td>1.00e+00</td>\n",
       "    </tr>\n",
       "  </tbody>\n",
       "</table>\n",
       "</div>"
      ],
      "text/plain": [
       "                           10       20       30       40       50\n",
       "basic-clustering     1.04e+00 1.04e+00 1.04e+00 1.04e+00 1.04e+00\n",
       "bico                 1.10e+00 1.11e+00 1.10e+00 1.09e+00 1.07e+00\n",
       "group-sampling       1.02e+00 1.02e+00 1.02e+00 1.02e+00 1.03e+00\n",
       "sensitivity-sampling 1.01e+00 1.01e+00 1.00e+00 1.00e+00 1.00e+00"
      ]
     },
     "metadata": {},
     "output_type": "display_data"
    },
    {
     "data": {
      "text/html": [
       "<h2 style='border-bottom:solid 1px Black;padding-bottom:5px;'>Results for enron</h2>"
      ],
      "text/plain": [
       "<IPython.core.display.HTML object>"
      ]
     },
     "metadata": {},
     "output_type": "display_data"
    },
    {
     "data": {
      "text/html": [
       "<div style=\"border:solid 1px White; width:300px;float:left;\"><h4 style='text-align:center;'>Experiment Counts</h4><style type=\"text/css\">\n",
       "</style>\n",
       "<table id=\"T_274ef_\">\n",
       "  <thead>\n",
       "    <tr>\n",
       "      <th class=\"blank level0\" >&nbsp;</th>\n",
       "      <th class=\"col_heading level0 col0\" >20</th>\n",
       "      <th class=\"col_heading level0 col1\" >30</th>\n",
       "      <th class=\"col_heading level0 col2\" >40</th>\n",
       "      <th class=\"col_heading level0 col3\" >50</th>\n",
       "    </tr>\n",
       "  </thead>\n",
       "  <tbody>\n",
       "    <tr>\n",
       "      <th id=\"T_274ef_level0_row0\" class=\"row_heading level0 row0\" >basic-clustering</th>\n",
       "      <td id=\"T_274ef_row0_col0\" class=\"data row0 col0\" >2</td>\n",
       "      <td id=\"T_274ef_row0_col1\" class=\"data row0 col1\" >4</td>\n",
       "      <td id=\"T_274ef_row0_col2\" class=\"data row0 col2\" >4</td>\n",
       "      <td id=\"T_274ef_row0_col3\" class=\"data row0 col3\" >4</td>\n",
       "    </tr>\n",
       "  </tbody>\n",
       "</table>\n",
       "</div>"
      ],
      "text/plain": [
       "<IPython.core.display.HTML object>"
      ]
     },
     "metadata": {},
     "output_type": "display_data"
    },
    {
     "data": {
      "text/html": [
       "<h4>Distortions</h4>"
      ],
      "text/plain": [
       "<IPython.core.display.HTML object>"
      ]
     },
     "metadata": {},
     "output_type": "display_data"
    },
    {
     "data": {
      "text/html": [
       "<div>\n",
       "<style scoped>\n",
       "    .dataframe tbody tr th:only-of-type {\n",
       "        vertical-align: middle;\n",
       "    }\n",
       "\n",
       "    .dataframe tbody tr th {\n",
       "        vertical-align: top;\n",
       "    }\n",
       "\n",
       "    .dataframe thead th {\n",
       "        text-align: right;\n",
       "    }\n",
       "</style>\n",
       "<table border=\"1\" class=\"dataframe\">\n",
       "  <thead>\n",
       "    <tr style=\"text-align: right;\">\n",
       "      <th></th>\n",
       "      <th>20</th>\n",
       "      <th>30</th>\n",
       "      <th>40</th>\n",
       "      <th>50</th>\n",
       "    </tr>\n",
       "  </thead>\n",
       "  <tbody>\n",
       "    <tr>\n",
       "      <th>basic-clustering</th>\n",
       "      <td>1.19e+00</td>\n",
       "      <td>1.13e+00</td>\n",
       "      <td>1.09e+00</td>\n",
       "      <td>1.07e+00</td>\n",
       "    </tr>\n",
       "  </tbody>\n",
       "</table>\n",
       "</div>"
      ],
      "text/plain": [
       "                       20       30       40       50\n",
       "basic-clustering 1.19e+00 1.13e+00 1.09e+00 1.07e+00"
      ]
     },
     "metadata": {},
     "output_type": "display_data"
    },
    {
     "data": {
      "text/html": [
       "<h2 style='border-bottom:solid 1px Black;padding-bottom:5px;'>Results for hardinstanceb1</h2>"
      ],
      "text/plain": [
       "<IPython.core.display.HTML object>"
      ]
     },
     "metadata": {},
     "output_type": "display_data"
    },
    {
     "data": {
      "text/html": [
       "<div style=\"border:solid 1px White; width:300px;float:left;\"><h4 style='text-align:center;'>Experiment Counts</h4><style type=\"text/css\">\n",
       "</style>\n",
       "<table id=\"T_e366b_\">\n",
       "  <thead>\n",
       "    <tr>\n",
       "      <th class=\"blank level0\" >&nbsp;</th>\n",
       "      <th class=\"col_heading level0 col0\" >10</th>\n",
       "      <th class=\"col_heading level0 col1\" >20</th>\n",
       "      <th class=\"col_heading level0 col2\" >30</th>\n",
       "      <th class=\"col_heading level0 col3\" >40</th>\n",
       "      <th class=\"col_heading level0 col4\" >50</th>\n",
       "    </tr>\n",
       "  </thead>\n",
       "  <tbody>\n",
       "    <tr>\n",
       "      <th id=\"T_e366b_level0_row0\" class=\"row_heading level0 row0\" >bico</th>\n",
       "      <td id=\"T_e366b_row0_col0\" class=\"data row0 col0\" >20</td>\n",
       "      <td id=\"T_e366b_row0_col1\" class=\"data row0 col1\" >20</td>\n",
       "      <td id=\"T_e366b_row0_col2\" class=\"data row0 col2\" >20</td>\n",
       "      <td id=\"T_e366b_row0_col3\" class=\"data row0 col3\" >20</td>\n",
       "      <td id=\"T_e366b_row0_col4\" class=\"data row0 col4\" >20</td>\n",
       "    </tr>\n",
       "    <tr>\n",
       "      <th id=\"T_e366b_level0_row1\" class=\"row_heading level0 row1\" >group-sampling</th>\n",
       "      <td id=\"T_e366b_row1_col0\" class=\"data row1 col0\" >20</td>\n",
       "      <td id=\"T_e366b_row1_col1\" class=\"data row1 col1\" >20</td>\n",
       "      <td id=\"T_e366b_row1_col2\" class=\"data row1 col2\" >20</td>\n",
       "      <td id=\"T_e366b_row1_col3\" class=\"data row1 col3\" >20</td>\n",
       "      <td id=\"T_e366b_row1_col4\" class=\"data row1 col4\" >4</td>\n",
       "    </tr>\n",
       "    <tr>\n",
       "      <th id=\"T_e366b_level0_row2\" class=\"row_heading level0 row2\" >sensitivity-sampling</th>\n",
       "      <td id=\"T_e366b_row2_col0\" class=\"data row2 col0\" >20</td>\n",
       "      <td id=\"T_e366b_row2_col1\" class=\"data row2 col1\" >19</td>\n",
       "      <td id=\"T_e366b_row2_col2\" class=\"data row2 col2\" >20</td>\n",
       "      <td id=\"T_e366b_row2_col3\" class=\"data row2 col3\" >20</td>\n",
       "      <td id=\"T_e366b_row2_col4\" class=\"data row2 col4\" >4</td>\n",
       "    </tr>\n",
       "  </tbody>\n",
       "</table>\n",
       "</div>"
      ],
      "text/plain": [
       "<IPython.core.display.HTML object>"
      ]
     },
     "metadata": {},
     "output_type": "display_data"
    },
    {
     "data": {
      "text/html": [
       "<h4>Distortions</h4>"
      ],
      "text/plain": [
       "<IPython.core.display.HTML object>"
      ]
     },
     "metadata": {},
     "output_type": "display_data"
    },
    {
     "data": {
      "text/html": [
       "<div>\n",
       "<style scoped>\n",
       "    .dataframe tbody tr th:only-of-type {\n",
       "        vertical-align: middle;\n",
       "    }\n",
       "\n",
       "    .dataframe tbody tr th {\n",
       "        vertical-align: top;\n",
       "    }\n",
       "\n",
       "    .dataframe thead th {\n",
       "        text-align: right;\n",
       "    }\n",
       "</style>\n",
       "<table border=\"1\" class=\"dataframe\">\n",
       "  <thead>\n",
       "    <tr style=\"text-align: right;\">\n",
       "      <th></th>\n",
       "      <th>10</th>\n",
       "      <th>20</th>\n",
       "      <th>30</th>\n",
       "      <th>40</th>\n",
       "      <th>50</th>\n",
       "    </tr>\n",
       "  </thead>\n",
       "  <tbody>\n",
       "    <tr>\n",
       "      <th>bico</th>\n",
       "      <td>3.90e+00</td>\n",
       "      <td>3.77e+00</td>\n",
       "      <td>3.34e+00</td>\n",
       "      <td>4.01e+00</td>\n",
       "      <td>4.31e+00</td>\n",
       "    </tr>\n",
       "    <tr>\n",
       "      <th>group-sampling</th>\n",
       "      <td>1.01e+00</td>\n",
       "      <td>1.01e+00</td>\n",
       "      <td>1.01e+00</td>\n",
       "      <td>1.01e+00</td>\n",
       "      <td>1.01e+00</td>\n",
       "    </tr>\n",
       "    <tr>\n",
       "      <th>sensitivity-sampling</th>\n",
       "      <td>1.00e+00</td>\n",
       "      <td>1.01e+00</td>\n",
       "      <td>1.00e+00</td>\n",
       "      <td>1.00e+00</td>\n",
       "      <td>1.01e+00</td>\n",
       "    </tr>\n",
       "  </tbody>\n",
       "</table>\n",
       "</div>"
      ],
      "text/plain": [
       "                           10       20       30       40       50\n",
       "bico                 3.90e+00 3.77e+00 3.34e+00 4.01e+00 4.31e+00\n",
       "group-sampling       1.01e+00 1.01e+00 1.01e+00 1.01e+00 1.01e+00\n",
       "sensitivity-sampling 1.00e+00 1.01e+00 1.00e+00 1.00e+00 1.01e+00"
      ]
     },
     "metadata": {},
     "output_type": "display_data"
    },
    {
     "data": {
      "text/html": [
       "<h2 style='border-bottom:solid 1px Black;padding-bottom:5px;'>Results for hardinstanceb2</h2>"
      ],
      "text/plain": [
       "<IPython.core.display.HTML object>"
      ]
     },
     "metadata": {},
     "output_type": "display_data"
    },
    {
     "data": {
      "text/html": [
       "<div style=\"border:solid 1px White; width:300px;float:left;\"><h4 style='text-align:center;'>Experiment Counts</h4><style type=\"text/css\">\n",
       "</style>\n",
       "<table id=\"T_ed607_\">\n",
       "  <thead>\n",
       "    <tr>\n",
       "      <th class=\"blank level0\" >&nbsp;</th>\n",
       "      <th class=\"col_heading level0 col0\" >10</th>\n",
       "      <th class=\"col_heading level0 col1\" >20</th>\n",
       "      <th class=\"col_heading level0 col2\" >30</th>\n",
       "      <th class=\"col_heading level0 col3\" >40</th>\n",
       "      <th class=\"col_heading level0 col4\" >50</th>\n",
       "    </tr>\n",
       "  </thead>\n",
       "  <tbody>\n",
       "    <tr>\n",
       "      <th id=\"T_ed607_level0_row0\" class=\"row_heading level0 row0\" >bico</th>\n",
       "      <td id=\"T_ed607_row0_col0\" class=\"data row0 col0\" >20</td>\n",
       "      <td id=\"T_ed607_row0_col1\" class=\"data row0 col1\" >20</td>\n",
       "      <td id=\"T_ed607_row0_col2\" class=\"data row0 col2\" >20</td>\n",
       "      <td id=\"T_ed607_row0_col3\" class=\"data row0 col3\" >20</td>\n",
       "      <td id=\"T_ed607_row0_col4\" class=\"data row0 col4\" >20</td>\n",
       "    </tr>\n",
       "    <tr>\n",
       "      <th id=\"T_ed607_level0_row1\" class=\"row_heading level0 row1\" >group-sampling</th>\n",
       "      <td id=\"T_ed607_row1_col0\" class=\"data row1 col0\" >20</td>\n",
       "      <td id=\"T_ed607_row1_col1\" class=\"data row1 col1\" >20</td>\n",
       "      <td id=\"T_ed607_row1_col2\" class=\"data row1 col2\" >20</td>\n",
       "      <td id=\"T_ed607_row1_col3\" class=\"data row1 col3\" >20</td>\n",
       "      <td id=\"T_ed607_row1_col4\" class=\"data row1 col4\" >9</td>\n",
       "    </tr>\n",
       "    <tr>\n",
       "      <th id=\"T_ed607_level0_row2\" class=\"row_heading level0 row2\" >sensitivity-sampling</th>\n",
       "      <td id=\"T_ed607_row2_col0\" class=\"data row2 col0\" >20</td>\n",
       "      <td id=\"T_ed607_row2_col1\" class=\"data row2 col1\" >20</td>\n",
       "      <td id=\"T_ed607_row2_col2\" class=\"data row2 col2\" >20</td>\n",
       "      <td id=\"T_ed607_row2_col3\" class=\"data row2 col3\" >20</td>\n",
       "      <td id=\"T_ed607_row2_col4\" class=\"data row2 col4\" >2</td>\n",
       "    </tr>\n",
       "  </tbody>\n",
       "</table>\n",
       "</div>"
      ],
      "text/plain": [
       "<IPython.core.display.HTML object>"
      ]
     },
     "metadata": {},
     "output_type": "display_data"
    },
    {
     "data": {
      "text/html": [
       "<h4>Distortions</h4>"
      ],
      "text/plain": [
       "<IPython.core.display.HTML object>"
      ]
     },
     "metadata": {},
     "output_type": "display_data"
    },
    {
     "data": {
      "text/html": [
       "<div>\n",
       "<style scoped>\n",
       "    .dataframe tbody tr th:only-of-type {\n",
       "        vertical-align: middle;\n",
       "    }\n",
       "\n",
       "    .dataframe tbody tr th {\n",
       "        vertical-align: top;\n",
       "    }\n",
       "\n",
       "    .dataframe thead th {\n",
       "        text-align: right;\n",
       "    }\n",
       "</style>\n",
       "<table border=\"1\" class=\"dataframe\">\n",
       "  <thead>\n",
       "    <tr style=\"text-align: right;\">\n",
       "      <th></th>\n",
       "      <th>10</th>\n",
       "      <th>20</th>\n",
       "      <th>30</th>\n",
       "      <th>40</th>\n",
       "      <th>50</th>\n",
       "    </tr>\n",
       "  </thead>\n",
       "  <tbody>\n",
       "    <tr>\n",
       "      <th>bico</th>\n",
       "      <td>1.10e+00</td>\n",
       "      <td>1.29e+00</td>\n",
       "      <td>1.25e+00</td>\n",
       "      <td>1.24e+00</td>\n",
       "      <td>1.23e+00</td>\n",
       "    </tr>\n",
       "    <tr>\n",
       "      <th>group-sampling</th>\n",
       "      <td>1.01e+00</td>\n",
       "      <td>1.01e+00</td>\n",
       "      <td>1.01e+00</td>\n",
       "      <td>1.01e+00</td>\n",
       "      <td>1.01e+00</td>\n",
       "    </tr>\n",
       "    <tr>\n",
       "      <th>sensitivity-sampling</th>\n",
       "      <td>1.00e+00</td>\n",
       "      <td>1.00e+00</td>\n",
       "      <td>1.00e+00</td>\n",
       "      <td>1.00e+00</td>\n",
       "      <td>1.00e+00</td>\n",
       "    </tr>\n",
       "  </tbody>\n",
       "</table>\n",
       "</div>"
      ],
      "text/plain": [
       "                           10       20       30       40       50\n",
       "bico                 1.10e+00 1.29e+00 1.25e+00 1.24e+00 1.23e+00\n",
       "group-sampling       1.01e+00 1.01e+00 1.01e+00 1.01e+00 1.01e+00\n",
       "sensitivity-sampling 1.00e+00 1.00e+00 1.00e+00 1.00e+00 1.00e+00"
      ]
     },
     "metadata": {},
     "output_type": "display_data"
    },
    {
     "data": {
      "text/html": [
       "<h2 style='border-bottom:solid 1px Black;padding-bottom:5px;'>Results for tower</h2>"
      ],
      "text/plain": [
       "<IPython.core.display.HTML object>"
      ]
     },
     "metadata": {},
     "output_type": "display_data"
    },
    {
     "data": {
      "text/html": [
       "<div style=\"border:solid 1px White; width:300px;float:left;\"><h4 style='text-align:center;'>Experiment Counts</h4><style type=\"text/css\">\n",
       "</style>\n",
       "<table id=\"T_0ba81_\">\n",
       "  <thead>\n",
       "    <tr>\n",
       "      <th class=\"blank level0\" >&nbsp;</th>\n",
       "      <th class=\"col_heading level0 col0\" >20</th>\n",
       "      <th class=\"col_heading level0 col1\" >40</th>\n",
       "      <th class=\"col_heading level0 col2\" >60</th>\n",
       "      <th class=\"col_heading level0 col3\" >80</th>\n",
       "      <th class=\"col_heading level0 col4\" >100</th>\n",
       "    </tr>\n",
       "  </thead>\n",
       "  <tbody>\n",
       "    <tr>\n",
       "      <th id=\"T_0ba81_level0_row0\" class=\"row_heading level0 row0\" >basic-clustering</th>\n",
       "      <td id=\"T_0ba81_row0_col0\" class=\"data row0 col0\" >6</td>\n",
       "      <td id=\"T_0ba81_row0_col1\" class=\"data row0 col1\" >6</td>\n",
       "      <td id=\"T_0ba81_row0_col2\" class=\"data row0 col2\" >6</td>\n",
       "      <td id=\"T_0ba81_row0_col3\" class=\"data row0 col3\" >5</td>\n",
       "      <td id=\"T_0ba81_row0_col4\" class=\"data row0 col4\" >5</td>\n",
       "    </tr>\n",
       "    <tr>\n",
       "      <th id=\"T_0ba81_level0_row1\" class=\"row_heading level0 row1\" >bico</th>\n",
       "      <td id=\"T_0ba81_row1_col0\" class=\"data row1 col0\" >20</td>\n",
       "      <td id=\"T_0ba81_row1_col1\" class=\"data row1 col1\" >20</td>\n",
       "      <td id=\"T_0ba81_row1_col2\" class=\"data row1 col2\" >20</td>\n",
       "      <td id=\"T_0ba81_row1_col3\" class=\"data row1 col3\" >20</td>\n",
       "      <td id=\"T_0ba81_row1_col4\" class=\"data row1 col4\" >20</td>\n",
       "    </tr>\n",
       "    <tr>\n",
       "      <th id=\"T_0ba81_level0_row2\" class=\"row_heading level0 row2\" >group-sampling</th>\n",
       "      <td id=\"T_0ba81_row2_col0\" class=\"data row2 col0\" >20</td>\n",
       "      <td id=\"T_0ba81_row2_col1\" class=\"data row2 col1\" >20</td>\n",
       "      <td id=\"T_0ba81_row2_col2\" class=\"data row2 col2\" >20</td>\n",
       "      <td id=\"T_0ba81_row2_col3\" class=\"data row2 col3\" >20</td>\n",
       "      <td id=\"T_0ba81_row2_col4\" class=\"data row2 col4\" >20</td>\n",
       "    </tr>\n",
       "    <tr>\n",
       "      <th id=\"T_0ba81_level0_row3\" class=\"row_heading level0 row3\" >sensitivity-sampling</th>\n",
       "      <td id=\"T_0ba81_row3_col0\" class=\"data row3 col0\" >20</td>\n",
       "      <td id=\"T_0ba81_row3_col1\" class=\"data row3 col1\" >20</td>\n",
       "      <td id=\"T_0ba81_row3_col2\" class=\"data row3 col2\" >20</td>\n",
       "      <td id=\"T_0ba81_row3_col3\" class=\"data row3 col3\" >20</td>\n",
       "      <td id=\"T_0ba81_row3_col4\" class=\"data row3 col4\" >20</td>\n",
       "    </tr>\n",
       "  </tbody>\n",
       "</table>\n",
       "</div>"
      ],
      "text/plain": [
       "<IPython.core.display.HTML object>"
      ]
     },
     "metadata": {},
     "output_type": "display_data"
    },
    {
     "data": {
      "text/html": [
       "<h4>Distortions</h4>"
      ],
      "text/plain": [
       "<IPython.core.display.HTML object>"
      ]
     },
     "metadata": {},
     "output_type": "display_data"
    },
    {
     "data": {
      "text/html": [
       "<div>\n",
       "<style scoped>\n",
       "    .dataframe tbody tr th:only-of-type {\n",
       "        vertical-align: middle;\n",
       "    }\n",
       "\n",
       "    .dataframe tbody tr th {\n",
       "        vertical-align: top;\n",
       "    }\n",
       "\n",
       "    .dataframe thead th {\n",
       "        text-align: right;\n",
       "    }\n",
       "</style>\n",
       "<table border=\"1\" class=\"dataframe\">\n",
       "  <thead>\n",
       "    <tr style=\"text-align: right;\">\n",
       "      <th></th>\n",
       "      <th>20</th>\n",
       "      <th>40</th>\n",
       "      <th>60</th>\n",
       "      <th>80</th>\n",
       "      <th>100</th>\n",
       "    </tr>\n",
       "  </thead>\n",
       "  <tbody>\n",
       "    <tr>\n",
       "      <th>basic-clustering</th>\n",
       "      <td>1.02e+00</td>\n",
       "      <td>1.02e+00</td>\n",
       "      <td>1.01e+00</td>\n",
       "      <td>1.01e+00</td>\n",
       "      <td>1.01e+00</td>\n",
       "    </tr>\n",
       "    <tr>\n",
       "      <th>bico</th>\n",
       "      <td>1.06e+00</td>\n",
       "      <td>1.06e+00</td>\n",
       "      <td>1.06e+00</td>\n",
       "      <td>1.05e+00</td>\n",
       "      <td>1.04e+00</td>\n",
       "    </tr>\n",
       "    <tr>\n",
       "      <th>group-sampling</th>\n",
       "      <td>1.02e+00</td>\n",
       "      <td>1.02e+00</td>\n",
       "      <td>1.03e+00</td>\n",
       "      <td>1.03e+00</td>\n",
       "      <td>1.03e+00</td>\n",
       "    </tr>\n",
       "    <tr>\n",
       "      <th>sensitivity-sampling</th>\n",
       "      <td>1.01e+00</td>\n",
       "      <td>1.01e+00</td>\n",
       "      <td>1.01e+00</td>\n",
       "      <td>1.01e+00</td>\n",
       "      <td>1.00e+00</td>\n",
       "    </tr>\n",
       "  </tbody>\n",
       "</table>\n",
       "</div>"
      ],
      "text/plain": [
       "                          20       40       60       80       100\n",
       "basic-clustering     1.02e+00 1.02e+00 1.01e+00 1.01e+00 1.01e+00\n",
       "bico                 1.06e+00 1.06e+00 1.06e+00 1.05e+00 1.04e+00\n",
       "group-sampling       1.02e+00 1.02e+00 1.03e+00 1.03e+00 1.03e+00\n",
       "sensitivity-sampling 1.01e+00 1.01e+00 1.01e+00 1.01e+00 1.00e+00"
      ]
     },
     "metadata": {},
     "output_type": "display_data"
    }
   ],
   "source": [
    "for dataset_name in df_aggr_costs.dataset.unique():\n",
    "    display_results_for(df_aggr_costs, dataset_name=dataset_name, show_counts=True, show_running_times=False, show_costs=False)"
   ]
  },
  {
   "cell_type": "code",
   "execution_count": null,
   "id": "f7dd50b6-f9f6-49dc-93c4-21c4858615c0",
   "metadata": {},
   "outputs": [],
   "source": []
  }
 ],
 "metadata": {
  "kernelspec": {
   "display_name": "Python 3 (ipykernel)",
   "language": "python",
   "name": "python3"
  },
  "language_info": {
   "codemirror_mode": {
    "name": "ipython",
    "version": 3
   },
   "file_extension": ".py",
   "mimetype": "text/x-python",
   "name": "python",
   "nbconvert_exporter": "python",
   "pygments_lexer": "ipython3",
   "version": "3.8.8"
  }
 },
 "nbformat": 4,
 "nbformat_minor": 5
}

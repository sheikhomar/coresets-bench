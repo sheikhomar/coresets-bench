{
 "cells": [
  {
   "cell_type": "code",
   "execution_count": 1,
   "id": "b7f48d50",
   "metadata": {},
   "outputs": [],
   "source": [
    "import re\n",
    "\n",
    "from pathlib import Path\n",
    "\n",
    "import numpy as np\n",
    "import pandas as pd\n",
    "\n",
    "\n",
    "from IPython.core.display import HTML\n",
    "from sklearn.metrics import pairwise_distances"
   ]
  },
  {
   "cell_type": "code",
   "execution_count": 8,
   "id": "7f9ebd6d",
   "metadata": {},
   "outputs": [],
   "source": [
    "def get_costs(file_paths):\n",
    "    costs = []\n",
    "    for index, cost_path in enumerate(file_paths):\n",
    "        dataset, algorithm, k = re.findall(r\"/.+/(.+)/(.+)-k(\\d+)-\", str(cost_path))[0]\n",
    "        with open(cost_path, \"r\") as f:\n",
    "            weighted_cost = float(f.read())\n",
    "        costs.append({\n",
    "            \"dataset\": dataset,\n",
    "            \"algorithm\": algorithm,\n",
    "            \"k\": k,\n",
    "            \"cost\": weighted_cost,\n",
    "            \"file_path\": str(cost_path)\n",
    "        })\n",
    "    return pd.DataFrame(costs)\n",
    "\n",
    "def display_distortion_table(dataset: str):\n",
    "    data_results_dir = Path(f\"../data/results/experiments/{dataset}/\")\n",
    "    \n",
    "    # Real costs\n",
    "    real_cost_paths = list(data_results_dir.glob(\"**/real_cost.txt\"))\n",
    "    df_real_costs = get_costs(real_cost_paths)\n",
    "    df_aggr_real_costs = df_real_costs.groupby([\"dataset\", \"algorithm\", \"k\"], as_index=False).agg(\n",
    "        real_cost_count=(\"cost\", \"count\"),\n",
    "        real_cost_mean=(\"cost\", \"mean\"),\n",
    "        real_cost_std=(\"cost\", \"std\")\n",
    "    )\n",
    "    df_aggr_real_costs['k'] = df_aggr_real_costs['k'].astype(int)\n",
    "    \n",
    "    # Coreset costs\n",
    "    coreset_cost_paths = list(data_results_dir.glob(\"**/coreset_cost.txt\"))\n",
    "    df_coreset_costs = get_costs(coreset_cost_paths)\n",
    "    df_aggr_coreset_costs = df_coreset_costs.groupby([\"dataset\", \"algorithm\", \"k\"], as_index=False).agg(\n",
    "        coreset_cost_count=(\"cost\", \"count\"),\n",
    "        coreset_cost_mean=(\"cost\", \"mean\"),\n",
    "        coreset_cost_std=(\"cost\", \"std\")\n",
    "    )\n",
    "    df_aggr_coreset_costs['k'] = df_aggr_coreset_costs['k'].astype(int)\n",
    "    \n",
    "    df_coreset = pd.pivot_table(df_aggr_coreset_costs, values=\"coreset_cost_mean\", index=[\"algorithm\"], columns=[\"k\"])\n",
    "    df_real = pd.pivot_table(df_aggr_real_costs, values=\"real_cost_mean\", index=[\"algorithm\"], columns=[\"k\"])\n",
    "    df_distortions = df_real / df_coreset\n",
    "    display(df_distortions.style.format(precision=4, thousands=\",\"))\n",
    "    # display(HTML(f\"<strong>Number of experiments</strong>\"))\n",
    "    # df_real_cost_count = pd.pivot_table(df_aggr_real_costs, values=\"real_cost_count\", index=[\"algorithm\"], columns=[\"k\"])\n",
    "    # display(df_real_cost_count)"
   ]
  },
  {
   "cell_type": "code",
   "execution_count": 9,
   "id": "999b0073",
   "metadata": {},
   "outputs": [
    {
     "data": {
      "text/html": [
       "<h3>Distortion for census</h3>"
      ],
      "text/plain": [
       "<IPython.core.display.HTML object>"
      ]
     },
     "metadata": {},
     "output_type": "display_data"
    },
    {
     "data": {
      "text/html": [
       "<style type=\"text/css\">\n",
       "</style>\n",
       "<table id=\"T_59ef7_\">\n",
       "  <thead>\n",
       "    <tr>\n",
       "      <th class=\"index_name level0\" >k</th>\n",
       "      <th class=\"col_heading level0 col0\" >10</th>\n",
       "      <th class=\"col_heading level0 col1\" >20</th>\n",
       "      <th class=\"col_heading level0 col2\" >30</th>\n",
       "      <th class=\"col_heading level0 col3\" >40</th>\n",
       "      <th class=\"col_heading level0 col4\" >50</th>\n",
       "    </tr>\n",
       "    <tr>\n",
       "      <th class=\"index_name level0\" >algorithm</th>\n",
       "      <th class=\"blank col0\" >&nbsp;</th>\n",
       "      <th class=\"blank col1\" >&nbsp;</th>\n",
       "      <th class=\"blank col2\" >&nbsp;</th>\n",
       "      <th class=\"blank col3\" >&nbsp;</th>\n",
       "      <th class=\"blank col4\" >&nbsp;</th>\n",
       "    </tr>\n",
       "  </thead>\n",
       "  <tbody>\n",
       "    <tr>\n",
       "      <th id=\"T_59ef7_level0_row0\" class=\"row_heading level0 row0\" >bico</th>\n",
       "      <td id=\"T_59ef7_row0_col0\" class=\"data row0 col0\" >1.6473</td>\n",
       "      <td id=\"T_59ef7_row0_col1\" class=\"data row0 col1\" >1.6884</td>\n",
       "      <td id=\"T_59ef7_row0_col2\" class=\"data row0 col2\" >1.7507</td>\n",
       "      <td id=\"T_59ef7_row0_col3\" class=\"data row0 col3\" >1.8183</td>\n",
       "      <td id=\"T_59ef7_row0_col4\" class=\"data row0 col4\" >1.8563</td>\n",
       "    </tr>\n",
       "    <tr>\n",
       "      <th id=\"T_59ef7_level0_row1\" class=\"row_heading level0 row1\" >group-sampling</th>\n",
       "      <td id=\"T_59ef7_row1_col0\" class=\"data row1 col0\" >1.0334</td>\n",
       "      <td id=\"T_59ef7_row1_col1\" class=\"data row1 col1\" >1.0338</td>\n",
       "      <td id=\"T_59ef7_row1_col2\" class=\"data row1 col2\" >1.0300</td>\n",
       "      <td id=\"T_59ef7_row1_col3\" class=\"data row1 col3\" >1.0296</td>\n",
       "      <td id=\"T_59ef7_row1_col4\" class=\"data row1 col4\" >1.0308</td>\n",
       "    </tr>\n",
       "    <tr>\n",
       "      <th id=\"T_59ef7_level0_row2\" class=\"row_heading level0 row2\" >sensitivity-sampling</th>\n",
       "      <td id=\"T_59ef7_row2_col0\" class=\"data row2 col0\" >1.0054</td>\n",
       "      <td id=\"T_59ef7_row2_col1\" class=\"data row2 col1\" >1.0040</td>\n",
       "      <td id=\"T_59ef7_row2_col2\" class=\"data row2 col2\" >1.0051</td>\n",
       "      <td id=\"T_59ef7_row2_col3\" class=\"data row2 col3\" >1.0065</td>\n",
       "      <td id=\"T_59ef7_row2_col4\" class=\"data row2 col4\" >1.0062</td>\n",
       "    </tr>\n",
       "  </tbody>\n",
       "</table>\n"
      ],
      "text/plain": [
       "<pandas.io.formats.style.Styler at 0x7fc0d76a85b0>"
      ]
     },
     "metadata": {},
     "output_type": "display_data"
    },
    {
     "data": {
      "text/html": [
       "<strong>Number of experiments</strong>"
      ],
      "text/plain": [
       "<IPython.core.display.HTML object>"
      ]
     },
     "metadata": {},
     "output_type": "display_data"
    },
    {
     "data": {
      "text/html": [
       "<div>\n",
       "<style scoped>\n",
       "    .dataframe tbody tr th:only-of-type {\n",
       "        vertical-align: middle;\n",
       "    }\n",
       "\n",
       "    .dataframe tbody tr th {\n",
       "        vertical-align: top;\n",
       "    }\n",
       "\n",
       "    .dataframe thead th {\n",
       "        text-align: right;\n",
       "    }\n",
       "</style>\n",
       "<table border=\"1\" class=\"dataframe\">\n",
       "  <thead>\n",
       "    <tr style=\"text-align: right;\">\n",
       "      <th>k</th>\n",
       "      <th>10</th>\n",
       "      <th>20</th>\n",
       "      <th>30</th>\n",
       "      <th>40</th>\n",
       "      <th>50</th>\n",
       "    </tr>\n",
       "    <tr>\n",
       "      <th>algorithm</th>\n",
       "      <th></th>\n",
       "      <th></th>\n",
       "      <th></th>\n",
       "      <th></th>\n",
       "      <th></th>\n",
       "    </tr>\n",
       "  </thead>\n",
       "  <tbody>\n",
       "    <tr>\n",
       "      <th>bico</th>\n",
       "      <td>20</td>\n",
       "      <td>20</td>\n",
       "      <td>20</td>\n",
       "      <td>20</td>\n",
       "      <td>20</td>\n",
       "    </tr>\n",
       "    <tr>\n",
       "      <th>group-sampling</th>\n",
       "      <td>20</td>\n",
       "      <td>20</td>\n",
       "      <td>20</td>\n",
       "      <td>20</td>\n",
       "      <td>20</td>\n",
       "    </tr>\n",
       "    <tr>\n",
       "      <th>sensitivity-sampling</th>\n",
       "      <td>20</td>\n",
       "      <td>20</td>\n",
       "      <td>20</td>\n",
       "      <td>20</td>\n",
       "      <td>20</td>\n",
       "    </tr>\n",
       "  </tbody>\n",
       "</table>\n",
       "</div>"
      ],
      "text/plain": [
       "k                     10  20  30  40  50\n",
       "algorithm                               \n",
       "bico                  20  20  20  20  20\n",
       "group-sampling        20  20  20  20  20\n",
       "sensitivity-sampling  20  20  20  20  20"
      ]
     },
     "metadata": {},
     "output_type": "display_data"
    },
    {
     "data": {
      "text/html": [
       "<h3>Distortion for covertype</h3>"
      ],
      "text/plain": [
       "<IPython.core.display.HTML object>"
      ]
     },
     "metadata": {},
     "output_type": "display_data"
    },
    {
     "data": {
      "text/html": [
       "<style type=\"text/css\">\n",
       "</style>\n",
       "<table id=\"T_e9485_\">\n",
       "  <thead>\n",
       "    <tr>\n",
       "      <th class=\"index_name level0\" >k</th>\n",
       "      <th class=\"col_heading level0 col0\" >10</th>\n",
       "      <th class=\"col_heading level0 col1\" >20</th>\n",
       "      <th class=\"col_heading level0 col2\" >30</th>\n",
       "      <th class=\"col_heading level0 col3\" >40</th>\n",
       "      <th class=\"col_heading level0 col4\" >50</th>\n",
       "    </tr>\n",
       "    <tr>\n",
       "      <th class=\"index_name level0\" >algorithm</th>\n",
       "      <th class=\"blank col0\" >&nbsp;</th>\n",
       "      <th class=\"blank col1\" >&nbsp;</th>\n",
       "      <th class=\"blank col2\" >&nbsp;</th>\n",
       "      <th class=\"blank col3\" >&nbsp;</th>\n",
       "      <th class=\"blank col4\" >&nbsp;</th>\n",
       "    </tr>\n",
       "  </thead>\n",
       "  <tbody>\n",
       "    <tr>\n",
       "      <th id=\"T_e9485_level0_row0\" class=\"row_heading level0 row0\" >bico</th>\n",
       "      <td id=\"T_e9485_row0_col0\" class=\"data row0 col0\" >1.1041</td>\n",
       "      <td id=\"T_e9485_row0_col1\" class=\"data row0 col1\" >1.1116</td>\n",
       "      <td id=\"T_e9485_row0_col2\" class=\"data row0 col2\" >1.1020</td>\n",
       "      <td id=\"T_e9485_row0_col3\" class=\"data row0 col3\" >1.0886</td>\n",
       "      <td id=\"T_e9485_row0_col4\" class=\"data row0 col4\" >1.0736</td>\n",
       "    </tr>\n",
       "    <tr>\n",
       "      <th id=\"T_e9485_level0_row1\" class=\"row_heading level0 row1\" >group-sampling</th>\n",
       "      <td id=\"T_e9485_row1_col0\" class=\"data row1 col0\" >1.0472</td>\n",
       "      <td id=\"T_e9485_row1_col1\" class=\"data row1 col1\" >1.0391</td>\n",
       "      <td id=\"T_e9485_row1_col2\" class=\"data row1 col2\" >1.0375</td>\n",
       "      <td id=\"T_e9485_row1_col3\" class=\"data row1 col3\" >1.0398</td>\n",
       "      <td id=\"T_e9485_row1_col4\" class=\"data row1 col4\" >1.0384</td>\n",
       "    </tr>\n",
       "    <tr>\n",
       "      <th id=\"T_e9485_level0_row2\" class=\"row_heading level0 row2\" >sensitivity-sampling</th>\n",
       "      <td id=\"T_e9485_row2_col0\" class=\"data row2 col0\" >1.0207</td>\n",
       "      <td id=\"T_e9485_row2_col1\" class=\"data row2 col1\" >1.0194</td>\n",
       "      <td id=\"T_e9485_row2_col2\" class=\"data row2 col2\" >1.0184</td>\n",
       "      <td id=\"T_e9485_row2_col3\" class=\"data row2 col3\" >1.0202</td>\n",
       "      <td id=\"T_e9485_row2_col4\" class=\"data row2 col4\" >1.0189</td>\n",
       "    </tr>\n",
       "  </tbody>\n",
       "</table>\n"
      ],
      "text/plain": [
       "<pandas.io.formats.style.Styler at 0x7fc0d76a8df0>"
      ]
     },
     "metadata": {},
     "output_type": "display_data"
    },
    {
     "data": {
      "text/html": [
       "<strong>Number of experiments</strong>"
      ],
      "text/plain": [
       "<IPython.core.display.HTML object>"
      ]
     },
     "metadata": {},
     "output_type": "display_data"
    },
    {
     "data": {
      "text/html": [
       "<div>\n",
       "<style scoped>\n",
       "    .dataframe tbody tr th:only-of-type {\n",
       "        vertical-align: middle;\n",
       "    }\n",
       "\n",
       "    .dataframe tbody tr th {\n",
       "        vertical-align: top;\n",
       "    }\n",
       "\n",
       "    .dataframe thead th {\n",
       "        text-align: right;\n",
       "    }\n",
       "</style>\n",
       "<table border=\"1\" class=\"dataframe\">\n",
       "  <thead>\n",
       "    <tr style=\"text-align: right;\">\n",
       "      <th>k</th>\n",
       "      <th>10</th>\n",
       "      <th>20</th>\n",
       "      <th>30</th>\n",
       "      <th>40</th>\n",
       "      <th>50</th>\n",
       "    </tr>\n",
       "    <tr>\n",
       "      <th>algorithm</th>\n",
       "      <th></th>\n",
       "      <th></th>\n",
       "      <th></th>\n",
       "      <th></th>\n",
       "      <th></th>\n",
       "    </tr>\n",
       "  </thead>\n",
       "  <tbody>\n",
       "    <tr>\n",
       "      <th>bico</th>\n",
       "      <td>20</td>\n",
       "      <td>20</td>\n",
       "      <td>20</td>\n",
       "      <td>20</td>\n",
       "      <td>20</td>\n",
       "    </tr>\n",
       "    <tr>\n",
       "      <th>group-sampling</th>\n",
       "      <td>20</td>\n",
       "      <td>20</td>\n",
       "      <td>20</td>\n",
       "      <td>20</td>\n",
       "      <td>20</td>\n",
       "    </tr>\n",
       "    <tr>\n",
       "      <th>sensitivity-sampling</th>\n",
       "      <td>20</td>\n",
       "      <td>20</td>\n",
       "      <td>20</td>\n",
       "      <td>20</td>\n",
       "      <td>20</td>\n",
       "    </tr>\n",
       "  </tbody>\n",
       "</table>\n",
       "</div>"
      ],
      "text/plain": [
       "k                     10  20  30  40  50\n",
       "algorithm                               \n",
       "bico                  20  20  20  20  20\n",
       "group-sampling        20  20  20  20  20\n",
       "sensitivity-sampling  20  20  20  20  20"
      ]
     },
     "metadata": {},
     "output_type": "display_data"
    },
    {
     "data": {
      "text/html": [
       "<h3>Distortion for tower</h3>"
      ],
      "text/plain": [
       "<IPython.core.display.HTML object>"
      ]
     },
     "metadata": {},
     "output_type": "display_data"
    },
    {
     "data": {
      "text/html": [
       "<style type=\"text/css\">\n",
       "</style>\n",
       "<table id=\"T_71460_\">\n",
       "  <thead>\n",
       "    <tr>\n",
       "      <th class=\"index_name level0\" >k</th>\n",
       "      <th class=\"col_heading level0 col0\" >20</th>\n",
       "      <th class=\"col_heading level0 col1\" >40</th>\n",
       "      <th class=\"col_heading level0 col2\" >60</th>\n",
       "      <th class=\"col_heading level0 col3\" >80</th>\n",
       "      <th class=\"col_heading level0 col4\" >100</th>\n",
       "    </tr>\n",
       "    <tr>\n",
       "      <th class=\"index_name level0\" >algorithm</th>\n",
       "      <th class=\"blank col0\" >&nbsp;</th>\n",
       "      <th class=\"blank col1\" >&nbsp;</th>\n",
       "      <th class=\"blank col2\" >&nbsp;</th>\n",
       "      <th class=\"blank col3\" >&nbsp;</th>\n",
       "      <th class=\"blank col4\" >&nbsp;</th>\n",
       "    </tr>\n",
       "  </thead>\n",
       "  <tbody>\n",
       "    <tr>\n",
       "      <th id=\"T_71460_level0_row0\" class=\"row_heading level0 row0\" >bico</th>\n",
       "      <td id=\"T_71460_row0_col0\" class=\"data row0 col0\" >1.0626</td>\n",
       "      <td id=\"T_71460_row0_col1\" class=\"data row0 col1\" >1.0635</td>\n",
       "      <td id=\"T_71460_row0_col2\" class=\"data row0 col2\" >1.0576</td>\n",
       "      <td id=\"T_71460_row0_col3\" class=\"data row0 col3\" >1.0502</td>\n",
       "      <td id=\"T_71460_row0_col4\" class=\"data row0 col4\" >1.0422</td>\n",
       "    </tr>\n",
       "    <tr>\n",
       "      <th id=\"T_71460_level0_row1\" class=\"row_heading level0 row1\" >group-sampling</th>\n",
       "      <td id=\"T_71460_row1_col0\" class=\"data row1 col0\" >1.0395</td>\n",
       "      <td id=\"T_71460_row1_col1\" class=\"data row1 col1\" >1.0416</td>\n",
       "      <td id=\"T_71460_row1_col2\" class=\"data row1 col2\" >1.0449</td>\n",
       "      <td id=\"T_71460_row1_col3\" class=\"data row1 col3\" >1.0448</td>\n",
       "      <td id=\"T_71460_row1_col4\" class=\"data row1 col4\" >1.0463</td>\n",
       "    </tr>\n",
       "    <tr>\n",
       "      <th id=\"T_71460_level0_row2\" class=\"row_heading level0 row2\" >sensitivity-sampling</th>\n",
       "      <td id=\"T_71460_row2_col0\" class=\"data row2 col0\" >1.0186</td>\n",
       "      <td id=\"T_71460_row2_col1\" class=\"data row2 col1\" >1.0169</td>\n",
       "      <td id=\"T_71460_row2_col2\" class=\"data row2 col2\" >1.0202</td>\n",
       "      <td id=\"T_71460_row2_col3\" class=\"data row2 col3\" >1.0174</td>\n",
       "      <td id=\"T_71460_row2_col4\" class=\"data row2 col4\" >1.0182</td>\n",
       "    </tr>\n",
       "  </tbody>\n",
       "</table>\n"
      ],
      "text/plain": [
       "<pandas.io.formats.style.Styler at 0x7fc0d76a85e0>"
      ]
     },
     "metadata": {},
     "output_type": "display_data"
    },
    {
     "data": {
      "text/html": [
       "<strong>Number of experiments</strong>"
      ],
      "text/plain": [
       "<IPython.core.display.HTML object>"
      ]
     },
     "metadata": {},
     "output_type": "display_data"
    },
    {
     "data": {
      "text/html": [
       "<div>\n",
       "<style scoped>\n",
       "    .dataframe tbody tr th:only-of-type {\n",
       "        vertical-align: middle;\n",
       "    }\n",
       "\n",
       "    .dataframe tbody tr th {\n",
       "        vertical-align: top;\n",
       "    }\n",
       "\n",
       "    .dataframe thead th {\n",
       "        text-align: right;\n",
       "    }\n",
       "</style>\n",
       "<table border=\"1\" class=\"dataframe\">\n",
       "  <thead>\n",
       "    <tr style=\"text-align: right;\">\n",
       "      <th>k</th>\n",
       "      <th>20</th>\n",
       "      <th>40</th>\n",
       "      <th>60</th>\n",
       "      <th>80</th>\n",
       "      <th>100</th>\n",
       "    </tr>\n",
       "    <tr>\n",
       "      <th>algorithm</th>\n",
       "      <th></th>\n",
       "      <th></th>\n",
       "      <th></th>\n",
       "      <th></th>\n",
       "      <th></th>\n",
       "    </tr>\n",
       "  </thead>\n",
       "  <tbody>\n",
       "    <tr>\n",
       "      <th>bico</th>\n",
       "      <td>19</td>\n",
       "      <td>19</td>\n",
       "      <td>19</td>\n",
       "      <td>19</td>\n",
       "      <td>19</td>\n",
       "    </tr>\n",
       "    <tr>\n",
       "      <th>group-sampling</th>\n",
       "      <td>20</td>\n",
       "      <td>20</td>\n",
       "      <td>20</td>\n",
       "      <td>20</td>\n",
       "      <td>20</td>\n",
       "    </tr>\n",
       "    <tr>\n",
       "      <th>sensitivity-sampling</th>\n",
       "      <td>20</td>\n",
       "      <td>20</td>\n",
       "      <td>20</td>\n",
       "      <td>20</td>\n",
       "      <td>20</td>\n",
       "    </tr>\n",
       "  </tbody>\n",
       "</table>\n",
       "</div>"
      ],
      "text/plain": [
       "k                     20   40   60   80   100\n",
       "algorithm                                    \n",
       "bico                   19   19   19   19   19\n",
       "group-sampling         20   20   20   20   20\n",
       "sensitivity-sampling   20   20   20   20   20"
      ]
     },
     "metadata": {},
     "output_type": "display_data"
    }
   ],
   "source": [
    "for dataset in [\"census\", \"covertype\", \"tower\"]:\n",
    "    display(HTML(f\"<h3>Distortion for {dataset}</h3>\"))\n",
    "    display_distortion_table(dataset)"
   ]
  },
  {
   "cell_type": "code",
   "execution_count": null,
   "id": "5919acbf",
   "metadata": {},
   "outputs": [],
   "source": []
  }
 ],
 "metadata": {
  "kernelspec": {
   "display_name": "Python 3 (ipykernel)",
   "language": "python",
   "name": "python3"
  },
  "language_info": {
   "codemirror_mode": {
    "name": "ipython",
    "version": 3
   },
   "file_extension": ".py",
   "mimetype": "text/x-python",
   "name": "python",
   "nbconvert_exporter": "python",
   "pygments_lexer": "ipython3",
   "version": "3.8.8"
  }
 },
 "nbformat": 4,
 "nbformat_minor": 5
}

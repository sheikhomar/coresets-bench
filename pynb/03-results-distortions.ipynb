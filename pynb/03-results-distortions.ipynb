{
 "cells": [
  {
   "cell_type": "code",
   "execution_count": 1,
   "source": [
    "import re\n",
    "\n",
    "from pathlib import Path\n",
    "\n",
    "import numpy as np\n",
    "import pandas as pd\n",
    "\n",
    "\n",
    "from IPython.core.display import HTML\n",
    "from sklearn.metrics import pairwise_distances"
   ],
   "outputs": [],
   "metadata": {}
  },
  {
   "cell_type": "code",
   "execution_count": 2,
   "source": [
    "def get_costs(file_paths):\n",
    "    costs = []\n",
    "    for index, cost_path in enumerate(file_paths):\n",
    "        dataset, algorithm, k = re.findall(r\"/.+/(.+)/(.+)-k(\\d+)-\", str(cost_path))[0]\n",
    "        with open(cost_path, \"r\") as f:\n",
    "            weighted_cost = float(f.read())\n",
    "        costs.append({\n",
    "            \"dataset\": dataset,\n",
    "            \"algorithm\": algorithm,\n",
    "            \"k\": k,\n",
    "            \"cost\": weighted_cost,\n",
    "            \"file_path\": str(cost_path)\n",
    "        })\n",
    "    return pd.DataFrame(costs)\n",
    "\n",
    "def display_distortion_table(dataset: str):\n",
    "    data_results_dir = Path(f\"../data/results/{dataset}/\")\n",
    "    \n",
    "    # Real costs\n",
    "    real_cost_paths = list(data_results_dir.glob(\"**/real_cost.txt\"))\n",
    "    df_real_costs = get_costs(real_cost_paths)\n",
    "    df_aggr_real_costs = df_real_costs.groupby([\"dataset\", \"algorithm\", \"k\"], as_index=False).agg(\n",
    "        real_cost_count=(\"cost\", \"count\"),\n",
    "        real_cost_mean=(\"cost\", \"mean\"),\n",
    "        real_cost_std=(\"cost\", \"std\")\n",
    "    )\n",
    "    df_aggr_real_costs['k'] = df_aggr_real_costs['k'].astype(int)\n",
    "    \n",
    "    # Coreset costs\n",
    "    coreset_cost_paths = list(data_results_dir.glob(\"**/coreset_cost.txt\"))\n",
    "    df_coreset_costs = get_costs(coreset_cost_paths)\n",
    "    df_aggr_coreset_costs = df_coreset_costs.groupby([\"dataset\", \"algorithm\", \"k\"], as_index=False).agg(\n",
    "        coreset_cost_count=(\"cost\", \"count\"),\n",
    "        coreset_cost_mean=(\"cost\", \"mean\"),\n",
    "        coreset_cost_std=(\"cost\", \"std\")\n",
    "    )\n",
    "    df_aggr_coreset_costs['k'] = df_aggr_coreset_costs['k'].astype(int)\n",
    "    \n",
    "    df_coreset = pd.pivot_table(df_aggr_coreset_costs, values=\"coreset_cost_mean\", index=[\"algorithm\"], columns=[\"k\"])\n",
    "    df_real = pd.pivot_table(df_aggr_real_costs, values=\"real_cost_mean\", index=[\"algorithm\"], columns=[\"k\"])\n",
    "    df_distortions = df_real / df_coreset\n",
    "    display(df_distortions.style.format(precision=4, thousands=\",\"))"
   ],
   "outputs": [],
   "metadata": {}
  },
  {
   "cell_type": "code",
   "execution_count": 3,
   "source": [
    "for dataset in [\"census\", \"covertype\", \"tower\"]:\n",
    "    display(HTML(f\"<h3>Distortion for {dataset}</h3>\"))\n",
    "    display_distortion_table(dataset)"
   ],
   "outputs": [
    {
     "output_type": "display_data",
     "data": {
      "text/plain": [
       "<IPython.core.display.HTML object>"
      ],
      "text/html": [
       "<h3>Distortion for census</h3>"
      ]
     },
     "metadata": {}
    },
    {
     "output_type": "display_data",
     "data": {
      "text/plain": [
       "<pandas.io.formats.style.Styler at 0x7f9a5fea6f40>"
      ],
      "text/html": [
       "<style type=\"text/css\">\n",
       "</style>\n",
       "<table id=\"T_f61de_\">\n",
       "  <thead>\n",
       "    <tr>\n",
       "      <th class=\"index_name level0\" >k</th>\n",
       "      <th class=\"col_heading level0 col0\" >10</th>\n",
       "      <th class=\"col_heading level0 col1\" >20</th>\n",
       "      <th class=\"col_heading level0 col2\" >30</th>\n",
       "      <th class=\"col_heading level0 col3\" >40</th>\n",
       "      <th class=\"col_heading level0 col4\" >50</th>\n",
       "    </tr>\n",
       "    <tr>\n",
       "      <th class=\"index_name level0\" >algorithm</th>\n",
       "      <th class=\"blank col0\" >&nbsp;</th>\n",
       "      <th class=\"blank col1\" >&nbsp;</th>\n",
       "      <th class=\"blank col2\" >&nbsp;</th>\n",
       "      <th class=\"blank col3\" >&nbsp;</th>\n",
       "      <th class=\"blank col4\" >&nbsp;</th>\n",
       "    </tr>\n",
       "  </thead>\n",
       "  <tbody>\n",
       "    <tr>\n",
       "      <th id=\"T_f61de_level0_row0\" class=\"row_heading level0 row0\" >bico</th>\n",
       "      <td id=\"T_f61de_row0_col0\" class=\"data row0 col0\" >1.6467</td>\n",
       "      <td id=\"T_f61de_row0_col1\" class=\"data row0 col1\" >1.6874</td>\n",
       "      <td id=\"T_f61de_row0_col2\" class=\"data row0 col2\" >1.7308</td>\n",
       "      <td id=\"T_f61de_row0_col3\" class=\"data row0 col3\" >1.8347</td>\n",
       "      <td id=\"T_f61de_row0_col4\" class=\"data row0 col4\" >1.8496</td>\n",
       "    </tr>\n",
       "    <tr>\n",
       "      <th id=\"T_f61de_level0_row1\" class=\"row_heading level0 row1\" >group-sampling</th>\n",
       "      <td id=\"T_f61de_row1_col0\" class=\"data row1 col0\" >1.0322</td>\n",
       "      <td id=\"T_f61de_row1_col1\" class=\"data row1 col1\" >1.0315</td>\n",
       "      <td id=\"T_f61de_row1_col2\" class=\"data row1 col2\" >1.0300</td>\n",
       "      <td id=\"T_f61de_row1_col3\" class=\"data row1 col3\" >1.0289</td>\n",
       "      <td id=\"T_f61de_row1_col4\" class=\"data row1 col4\" >1.0316</td>\n",
       "    </tr>\n",
       "    <tr>\n",
       "      <th id=\"T_f61de_level0_row2\" class=\"row_heading level0 row2\" >sensitivity-sampling</th>\n",
       "      <td id=\"T_f61de_row2_col0\" class=\"data row2 col0\" >1.0083</td>\n",
       "      <td id=\"T_f61de_row2_col1\" class=\"data row2 col1\" >1.0054</td>\n",
       "      <td id=\"T_f61de_row2_col2\" class=\"data row2 col2\" >1.0028</td>\n",
       "      <td id=\"T_f61de_row2_col3\" class=\"data row2 col3\" >1.0066</td>\n",
       "      <td id=\"T_f61de_row2_col4\" class=\"data row2 col4\" >1.0059</td>\n",
       "    </tr>\n",
       "  </tbody>\n",
       "</table>\n"
      ]
     },
     "metadata": {}
    },
    {
     "output_type": "display_data",
     "data": {
      "text/plain": [
       "<IPython.core.display.HTML object>"
      ],
      "text/html": [
       "<h3>Distortion for covertype</h3>"
      ]
     },
     "metadata": {}
    },
    {
     "output_type": "display_data",
     "data": {
      "text/plain": [
       "<pandas.io.formats.style.Styler at 0x7f9a5ce10eb0>"
      ],
      "text/html": [
       "<style type=\"text/css\">\n",
       "</style>\n",
       "<table id=\"T_068d0_\">\n",
       "  <thead>\n",
       "    <tr>\n",
       "      <th class=\"index_name level0\" >k</th>\n",
       "      <th class=\"col_heading level0 col0\" >10</th>\n",
       "      <th class=\"col_heading level0 col1\" >20</th>\n",
       "      <th class=\"col_heading level0 col2\" >30</th>\n",
       "      <th class=\"col_heading level0 col3\" >40</th>\n",
       "      <th class=\"col_heading level0 col4\" >50</th>\n",
       "    </tr>\n",
       "    <tr>\n",
       "      <th class=\"index_name level0\" >algorithm</th>\n",
       "      <th class=\"blank col0\" >&nbsp;</th>\n",
       "      <th class=\"blank col1\" >&nbsp;</th>\n",
       "      <th class=\"blank col2\" >&nbsp;</th>\n",
       "      <th class=\"blank col3\" >&nbsp;</th>\n",
       "      <th class=\"blank col4\" >&nbsp;</th>\n",
       "    </tr>\n",
       "  </thead>\n",
       "  <tbody>\n",
       "    <tr>\n",
       "      <th id=\"T_068d0_level0_row0\" class=\"row_heading level0 row0\" >bico</th>\n",
       "      <td id=\"T_068d0_row0_col0\" class=\"data row0 col0\" >1.1035</td>\n",
       "      <td id=\"T_068d0_row0_col1\" class=\"data row0 col1\" >1.1119</td>\n",
       "      <td id=\"T_068d0_row0_col2\" class=\"data row0 col2\" >1.1026</td>\n",
       "      <td id=\"T_068d0_row0_col3\" class=\"data row0 col3\" >1.0886</td>\n",
       "      <td id=\"T_068d0_row0_col4\" class=\"data row0 col4\" >1.0733</td>\n",
       "    </tr>\n",
       "    <tr>\n",
       "      <th id=\"T_068d0_level0_row1\" class=\"row_heading level0 row1\" >group-sampling</th>\n",
       "      <td id=\"T_068d0_row1_col0\" class=\"data row1 col0\" >1.0484</td>\n",
       "      <td id=\"T_068d0_row1_col1\" class=\"data row1 col1\" >1.0418</td>\n",
       "      <td id=\"T_068d0_row1_col2\" class=\"data row1 col2\" >1.0394</td>\n",
       "      <td id=\"T_068d0_row1_col3\" class=\"data row1 col3\" >1.0406</td>\n",
       "      <td id=\"T_068d0_row1_col4\" class=\"data row1 col4\" >1.0391</td>\n",
       "    </tr>\n",
       "    <tr>\n",
       "      <th id=\"T_068d0_level0_row2\" class=\"row_heading level0 row2\" >sensitivity-sampling</th>\n",
       "      <td id=\"T_068d0_row2_col0\" class=\"data row2 col0\" >1.0225</td>\n",
       "      <td id=\"T_068d0_row2_col1\" class=\"data row2 col1\" >1.0199</td>\n",
       "      <td id=\"T_068d0_row2_col2\" class=\"data row2 col2\" >1.0199</td>\n",
       "      <td id=\"T_068d0_row2_col3\" class=\"data row2 col3\" >1.0195</td>\n",
       "      <td id=\"T_068d0_row2_col4\" class=\"data row2 col4\" >1.0180</td>\n",
       "    </tr>\n",
       "  </tbody>\n",
       "</table>\n"
      ]
     },
     "metadata": {}
    },
    {
     "output_type": "display_data",
     "data": {
      "text/plain": [
       "<IPython.core.display.HTML object>"
      ],
      "text/html": [
       "<h3>Distortion for tower</h3>"
      ]
     },
     "metadata": {}
    },
    {
     "output_type": "display_data",
     "data": {
      "text/plain": [
       "<pandas.io.formats.style.Styler at 0x7f9a5ff1fdf0>"
      ],
      "text/html": [
       "<style type=\"text/css\">\n",
       "</style>\n",
       "<table id=\"T_2bcfa_\">\n",
       "  <thead>\n",
       "    <tr>\n",
       "      <th class=\"index_name level0\" >k</th>\n",
       "      <th class=\"col_heading level0 col0\" >20</th>\n",
       "      <th class=\"col_heading level0 col1\" >40</th>\n",
       "      <th class=\"col_heading level0 col2\" >60</th>\n",
       "      <th class=\"col_heading level0 col3\" >80</th>\n",
       "      <th class=\"col_heading level0 col4\" >100</th>\n",
       "    </tr>\n",
       "    <tr>\n",
       "      <th class=\"index_name level0\" >algorithm</th>\n",
       "      <th class=\"blank col0\" >&nbsp;</th>\n",
       "      <th class=\"blank col1\" >&nbsp;</th>\n",
       "      <th class=\"blank col2\" >&nbsp;</th>\n",
       "      <th class=\"blank col3\" >&nbsp;</th>\n",
       "      <th class=\"blank col4\" >&nbsp;</th>\n",
       "    </tr>\n",
       "  </thead>\n",
       "  <tbody>\n",
       "    <tr>\n",
       "      <th id=\"T_2bcfa_level0_row0\" class=\"row_heading level0 row0\" >bico</th>\n",
       "      <td id=\"T_2bcfa_row0_col0\" class=\"data row0 col0\" >1.0630</td>\n",
       "      <td id=\"T_2bcfa_row0_col1\" class=\"data row0 col1\" >1.0635</td>\n",
       "      <td id=\"T_2bcfa_row0_col2\" class=\"data row0 col2\" >1.0575</td>\n",
       "      <td id=\"T_2bcfa_row0_col3\" class=\"data row0 col3\" >1.0506</td>\n",
       "      <td id=\"T_2bcfa_row0_col4\" class=\"data row0 col4\" >1.0425</td>\n",
       "    </tr>\n",
       "    <tr>\n",
       "      <th id=\"T_2bcfa_level0_row1\" class=\"row_heading level0 row1\" >group-sampling</th>\n",
       "      <td id=\"T_2bcfa_row1_col0\" class=\"data row1 col0\" >1.0389</td>\n",
       "      <td id=\"T_2bcfa_row1_col1\" class=\"data row1 col1\" >1.0423</td>\n",
       "      <td id=\"T_2bcfa_row1_col2\" class=\"data row1 col2\" >1.0446</td>\n",
       "      <td id=\"T_2bcfa_row1_col3\" class=\"data row1 col3\" >1.0456</td>\n",
       "      <td id=\"T_2bcfa_row1_col4\" class=\"data row1 col4\" >1.0472</td>\n",
       "    </tr>\n",
       "    <tr>\n",
       "      <th id=\"T_2bcfa_level0_row2\" class=\"row_heading level0 row2\" >sensitivity-sampling</th>\n",
       "      <td id=\"T_2bcfa_row2_col0\" class=\"data row2 col0\" >1.0208</td>\n",
       "      <td id=\"T_2bcfa_row2_col1\" class=\"data row2 col1\" >1.0198</td>\n",
       "      <td id=\"T_2bcfa_row2_col2\" class=\"data row2 col2\" >1.0198</td>\n",
       "      <td id=\"T_2bcfa_row2_col3\" class=\"data row2 col3\" >1.0195</td>\n",
       "      <td id=\"T_2bcfa_row2_col4\" class=\"data row2 col4\" >1.0193</td>\n",
       "    </tr>\n",
       "  </tbody>\n",
       "</table>\n"
      ]
     },
     "metadata": {}
    }
   ],
   "metadata": {}
  },
  {
   "cell_type": "code",
   "execution_count": null,
   "source": [],
   "outputs": [],
   "metadata": {}
  }
 ],
 "metadata": {
  "kernelspec": {
   "display_name": "Python 3 (ipykernel)",
   "language": "python",
   "name": "python3"
  },
  "language_info": {
   "codemirror_mode": {
    "name": "ipython",
    "version": 3
   },
   "file_extension": ".py",
   "mimetype": "text/x-python",
   "name": "python",
   "nbconvert_exporter": "python",
   "pygments_lexer": "ipython3",
   "version": "3.8.8"
  }
 },
 "nbformat": 4,
 "nbformat_minor": 5
}
{
 "cells": [
  {
   "cell_type": "code",
   "execution_count": 1,
   "id": "9eeb585d-56e6-4f05-9543-632961c18f6c",
   "metadata": {},
   "outputs": [],
   "source": [
    "import sys\n",
    "sys.path.append('../xrun')"
   ]
  },
  {
   "cell_type": "code",
   "execution_count": 27,
   "id": "52aa976d-ab11-4fcc-bfda-e94e1a218c5c",
   "metadata": {},
   "outputs": [],
   "source": [
    "import re\n",
    "\n",
    "from pathlib import Path\n",
    "\n",
    "import numpy as np\n",
    "import pandas as pd\n",
    "import seaborn as sns\n",
    "import matplotlib.pyplot as plt\n",
    "\n",
    "sns.set(style=\"whitegrid\")\n",
    "\n",
    "from IPython.core.display import HTML\n",
    "from sklearn.metrics import pairwise_distances\n",
    "\n",
    "from xrun.data.run_info import RunInfo\n",
    "from xrun.data.loader import load_dataset"
   ]
  },
  {
   "cell_type": "code",
   "execution_count": 46,
   "id": "3b61e736-7003-469e-adfc-8b93453374ca",
   "metadata": {},
   "outputs": [],
   "source": [
    "data_results_dir = Path(\"../data/odin-results/hardinstanceb1/\")\n",
    "run_files = list(data_results_dir.glob(\"**/*.json\"))\n",
    "run_files = list(Path(\"../data/cary-results/hardinstanceb1\").glob(\"**/*.json\"))"
   ]
  },
  {
   "cell_type": "code",
   "execution_count": 47,
   "id": "bb965c6f-eeb7-48b6-b359-d8ad48478f00",
   "metadata": {},
   "outputs": [
    {
     "data": {
      "text/plain": [
       "[PosixPath('../data/cary-results/hardinstanceb1/group-sampling-k20-m4000/2021-08-07-09-40-10/000-hardinstanceb1-group-sampling-k20-m4000.json'),\n",
       " PosixPath('../data/cary-results/hardinstanceb1/group-sampling-k20-m4000/2021-08-09-09-10-26/011-hardinstanceb1-group-sampling-k20-m4000.json'),\n",
       " PosixPath('../data/cary-results/hardinstanceb1/group-sampling-k20-m4000/2021-08-10-16-40-01/019-hardinstanceb1-group-sampling-k20-m4000.json'),\n",
       " PosixPath('../data/cary-results/hardinstanceb1/group-sampling-k20-m4000/2021-08-10-08-55-35/017-hardinstanceb1-group-sampling-k20-m4000.json'),\n",
       " PosixPath('../data/cary-results/hardinstanceb1/group-sampling-k20-m4000/2021-08-09-01-18-11/009-hardinstanceb1-group-sampling-k20-m4000.json'),\n",
       " PosixPath('../data/cary-results/hardinstanceb1/group-sampling-k20-m4000/2021-08-09-21-55-19/014-hardinstanceb1-group-sampling-k20-m4000.json'),\n",
       " PosixPath('../data/cary-results/hardinstanceb1/group-sampling-k20-m4000/2021-08-08-21-03-03/008-hardinstanceb1-group-sampling-k20-m4000.json'),\n",
       " PosixPath('../data/cary-results/hardinstanceb1/group-sampling-k20-m4000/2021-08-10-22-11-44/006-hardinstanceb1-group-sampling-k20-m4000.json'),\n",
       " PosixPath('../data/cary-results/hardinstanceb1/group-sampling-k20-m4000/2021-08-08-03-09-36/004-hardinstanceb1-group-sampling-k20-m4000.json'),\n",
       " PosixPath('../data/cary-results/hardinstanceb1/group-sampling-k20-m4000/2021-08-07-23-18-22/003-hardinstanceb1-group-sampling-k20-m4000.json'),\n",
       " PosixPath('../data/cary-results/hardinstanceb1/group-sampling-k20-m4000/2021-08-07-15-04-18/001-hardinstanceb1-group-sampling-k20-m4000.json'),\n",
       " PosixPath('../data/cary-results/hardinstanceb1/group-sampling-k20-m4000/2021-08-10-05-06-52/016-hardinstanceb1-group-sampling-k20-m4000.json'),\n",
       " PosixPath('../data/cary-results/hardinstanceb1/group-sampling-k20-m4000/2021-08-10-01-31-32/015-hardinstanceb1-group-sampling-k20-m4000.json'),\n",
       " PosixPath('../data/cary-results/hardinstanceb1/group-sampling-k20-m4000/2021-08-08-09-07-14/005-hardinstanceb1-group-sampling-k20-m4000.json'),\n",
       " PosixPath('../data/cary-results/hardinstanceb1/group-sampling-k20-m4000/2021-08-10-13-00-47/018-hardinstanceb1-group-sampling-k20-m4000.json'),\n",
       " PosixPath('../data/cary-results/hardinstanceb1/group-sampling-k20-m4000/2021-08-09-05-25-08/010-hardinstanceb1-group-sampling-k20-m4000.json'),\n",
       " PosixPath('../data/cary-results/hardinstanceb1/group-sampling-k20-m4000/2021-08-08-17-18-21/007-hardinstanceb1-group-sampling-k20-m4000.json'),\n",
       " PosixPath('../data/cary-results/hardinstanceb1/group-sampling-k20-m4000/2021-08-09-13-17-41/012-hardinstanceb1-group-sampling-k20-m4000.json'),\n",
       " PosixPath('../data/cary-results/hardinstanceb1/group-sampling-k20-m4000/2021-08-07-18-50-28/002-hardinstanceb1-group-sampling-k20-m4000.json'),\n",
       " PosixPath('../data/cary-results/hardinstanceb1/group-sampling-k20-m4000/2021-08-09-17-30-49/013-hardinstanceb1-group-sampling-k20-m4000.json'),\n",
       " PosixPath('../data/cary-results/hardinstanceb1/group-sampling-k50-m10000/2021-08-08-03-25-15/004-hardinstanceb1-group-sampling-k50-m10000.json'),\n",
       " PosixPath('../data/cary-results/hardinstanceb1/group-sampling-k50-m10000/2021-08-11-22-10-29/003-hardinstanceb1-group-sampling-k50-m10000.json'),\n",
       " PosixPath('../data/cary-results/hardinstanceb1/group-sampling-k50-m10000/2021-08-13-10-19-16/009-hardinstanceb1-group-sampling-k50-m10000.json'),\n",
       " PosixPath('../data/cary-results/hardinstanceb1/group-sampling-k50-m10000/2021-08-12-18-53-58/007-hardinstanceb1-group-sampling-k50-m10000.json'),\n",
       " PosixPath('../data/cary-results/hardinstanceb1/group-sampling-k50-m10000/2021-08-11-11-04-07/001-hardinstanceb1-group-sampling-k50-m10000.json'),\n",
       " PosixPath('../data/cary-results/hardinstanceb1/group-sampling-k50-m10000/2021-08-08-09-17-55/005-hardinstanceb1-group-sampling-k50-m10000.json'),\n",
       " PosixPath('../data/cary-results/hardinstanceb1/group-sampling-k50-m10000/2021-08-13-04-05-27/008-hardinstanceb1-group-sampling-k50-m10000.json'),\n",
       " PosixPath('../data/cary-results/hardinstanceb1/group-sampling-k50-m10000/2021-08-07-09-43-59/000-hardinstanceb1-group-sampling-k50-m10000.json'),\n",
       " PosixPath('../data/cary-results/hardinstanceb1/group-sampling-k50-m10000/2021-08-10-23-54-04/010-hardinstanceb1-group-sampling-k50-m10000.json'),\n",
       " PosixPath('../data/cary-results/hardinstanceb1/group-sampling-k50-m10000/2021-08-17-13-01-58/022-hardinstanceb1-group-sampling-k50-m10000.json'),\n",
       " PosixPath('../data/cary-results/hardinstanceb1/group-sampling-k10-m2000/2021-08-07-09-38-14/000-hardinstanceb1-group-sampling-k10-m2000.json'),\n",
       " PosixPath('../data/cary-results/hardinstanceb1/group-sampling-k10-m2000/2021-08-09-01-12-24/009-hardinstanceb1-group-sampling-k10-m2000.json'),\n",
       " PosixPath('../data/cary-results/hardinstanceb1/group-sampling-k10-m2000/2021-08-09-13-10-21/012-hardinstanceb1-group-sampling-k10-m2000.json'),\n",
       " PosixPath('../data/cary-results/hardinstanceb1/group-sampling-k10-m2000/2021-08-10-01-27-28/015-hardinstanceb1-group-sampling-k10-m2000.json'),\n",
       " PosixPath('../data/cary-results/hardinstanceb1/group-sampling-k10-m2000/2021-08-08-12-59-19/006-hardinstanceb1-group-sampling-k10-m2000.json'),\n",
       " PosixPath('../data/cary-results/hardinstanceb1/group-sampling-k10-m2000/2021-08-07-23-09-31/003-hardinstanceb1-group-sampling-k10-m2000.json'),\n",
       " PosixPath('../data/cary-results/hardinstanceb1/group-sampling-k10-m2000/2021-08-07-18-43-45/002-hardinstanceb1-group-sampling-k10-m2000.json'),\n",
       " PosixPath('../data/cary-results/hardinstanceb1/group-sampling-k10-m2000/2021-08-08-03-05-43/004-hardinstanceb1-group-sampling-k10-m2000.json'),\n",
       " PosixPath('../data/cary-results/hardinstanceb1/group-sampling-k10-m2000/2021-08-10-12-53-26/018-hardinstanceb1-group-sampling-k10-m2000.json'),\n",
       " PosixPath('../data/cary-results/hardinstanceb1/group-sampling-k10-m2000/2021-08-08-17-17-47/007-hardinstanceb1-group-sampling-k10-m2000.json'),\n",
       " PosixPath('../data/cary-results/hardinstanceb1/group-sampling-k10-m2000/2021-08-08-09-06-20/005-hardinstanceb1-group-sampling-k10-m2000.json'),\n",
       " PosixPath('../data/cary-results/hardinstanceb1/group-sampling-k10-m2000/2021-08-07-15-04-16/001-hardinstanceb1-group-sampling-k10-m2000.json'),\n",
       " PosixPath('../data/cary-results/hardinstanceb1/group-sampling-k10-m2000/2021-08-09-21-48-56/014-hardinstanceb1-group-sampling-k10-m2000.json'),\n",
       " PosixPath('../data/cary-results/hardinstanceb1/group-sampling-k10-m2000/2021-08-09-05-13-33/010-hardinstanceb1-group-sampling-k10-m2000.json'),\n",
       " PosixPath('../data/cary-results/hardinstanceb1/group-sampling-k10-m2000/2021-08-10-16-35-29/019-hardinstanceb1-group-sampling-k10-m2000.json'),\n",
       " PosixPath('../data/cary-results/hardinstanceb1/group-sampling-k10-m2000/2021-08-10-05-00-09/016-hardinstanceb1-group-sampling-k10-m2000.json'),\n",
       " PosixPath('../data/cary-results/hardinstanceb1/group-sampling-k10-m2000/2021-08-09-17-25-01/013-hardinstanceb1-group-sampling-k10-m2000.json'),\n",
       " PosixPath('../data/cary-results/hardinstanceb1/group-sampling-k10-m2000/2021-08-09-09-10-16/011-hardinstanceb1-group-sampling-k10-m2000.json'),\n",
       " PosixPath('../data/cary-results/hardinstanceb1/group-sampling-k10-m2000/2021-08-08-20-56-38/008-hardinstanceb1-group-sampling-k10-m2000.json'),\n",
       " PosixPath('../data/cary-results/hardinstanceb1/group-sampling-k10-m2000/2021-08-10-08-52-20/017-hardinstanceb1-group-sampling-k10-m2000.json'),\n",
       " PosixPath('../data/cary-results/hardinstanceb1/bico-k10-m2000/2021-08-07-22-56-40/003-hardinstanceb1-bico-k10-m2000.json'),\n",
       " PosixPath('../data/cary-results/hardinstanceb1/bico-k10-m2000/2021-08-07-15-01-25/002-hardinstanceb1-bico-k10-m2000.json'),\n",
       " PosixPath('../data/cary-results/hardinstanceb1/bico-k10-m2000/2021-08-08-09-03-25/005-hardinstanceb1-bico-k10-m2000.json'),\n",
       " PosixPath('../data/cary-results/hardinstanceb1/bico-k10-m2000/2021-08-10-16-29-34/019-hardinstanceb1-bico-k10-m2000.json'),\n",
       " PosixPath('../data/cary-results/hardinstanceb1/bico-k10-m2000/2021-08-09-21-38-33/014-hardinstanceb1-bico-k10-m2000.json'),\n",
       " PosixPath('../data/cary-results/hardinstanceb1/bico-k10-m2000/2021-08-10-08-46-29/017-hardinstanceb1-bico-k10-m2000.json'),\n",
       " PosixPath('../data/cary-results/hardinstanceb1/bico-k10-m2000/2021-08-09-17-18-32/013-hardinstanceb1-bico-k10-m2000.json'),\n",
       " PosixPath('../data/cary-results/hardinstanceb1/bico-k10-m2000/2021-08-08-09-03-29/007-hardinstanceb1-bico-k10-m2000.json'),\n",
       " PosixPath('../data/cary-results/hardinstanceb1/bico-k10-m2000/2021-08-08-09-03-27/006-hardinstanceb1-bico-k10-m2000.json'),\n",
       " PosixPath('../data/cary-results/hardinstanceb1/bico-k10-m2000/2021-08-10-01-17-51/015-hardinstanceb1-bico-k10-m2000.json'),\n",
       " PosixPath('../data/cary-results/hardinstanceb1/bico-k10-m2000/2021-08-10-12-40-13/018-hardinstanceb1-bico-k10-m2000.json'),\n",
       " PosixPath('../data/cary-results/hardinstanceb1/bico-k10-m2000/2021-08-09-12-57-29/012-hardinstanceb1-bico-k10-m2000.json'),\n",
       " PosixPath('../data/cary-results/hardinstanceb1/bico-k10-m2000/2021-08-10-04-47-20/016-hardinstanceb1-bico-k10-m2000.json'),\n",
       " PosixPath('../data/cary-results/hardinstanceb1/bico-k10-m2000/2021-08-09-08-54-36/011-hardinstanceb1-bico-k10-m2000.json'),\n",
       " PosixPath('../data/cary-results/hardinstanceb1/bico-k10-m2000/2021-08-09-05-01-20/010-hardinstanceb1-bico-k10-m2000.json'),\n",
       " PosixPath('../data/cary-results/hardinstanceb1/bico-k10-m2000/2021-08-07-09-37-24/000-hardinstanceb1-bico-k10-m2000.json'),\n",
       " PosixPath('../data/cary-results/hardinstanceb1/bico-k10-m2000/2021-08-08-02-57-14/004-hardinstanceb1-bico-k10-m2000.json'),\n",
       " PosixPath('../data/cary-results/hardinstanceb1/bico-k10-m2000/2021-08-07-15-01-23/001-hardinstanceb1-bico-k10-m2000.json'),\n",
       " PosixPath('../data/cary-results/hardinstanceb1/bico-k10-m2000/2021-08-09-01-00-23/009-hardinstanceb1-bico-k10-m2000.json'),\n",
       " PosixPath('../data/cary-results/hardinstanceb1/bico-k10-m2000/2021-08-08-09-03-39/008-hardinstanceb1-bico-k10-m2000.json'),\n",
       " PosixPath('../data/cary-results/hardinstanceb1/sensitivity-sampling-k20-m4000/2021-08-09-22-36-04/014-hardinstanceb1-sensitivity-sampling-k20-m4000.json'),\n",
       " PosixPath('../data/cary-results/hardinstanceb1/sensitivity-sampling-k20-m4000/2021-08-08-03-44-15/004-hardinstanceb1-sensitivity-sampling-k20-m4000.json'),\n",
       " PosixPath('../data/cary-results/hardinstanceb1/sensitivity-sampling-k20-m4000/2021-08-08-18-06-41/007-hardinstanceb1-sensitivity-sampling-k20-m4000.json'),\n",
       " PosixPath('../data/cary-results/hardinstanceb1/sensitivity-sampling-k20-m4000/2021-08-10-17-30-38/019-hardinstanceb1-sensitivity-sampling-k20-m4000.json'),\n",
       " PosixPath('../data/cary-results/hardinstanceb1/sensitivity-sampling-k20-m4000/2021-08-09-02-31-55/009-hardinstanceb1-sensitivity-sampling-k20-m4000.json'),\n",
       " PosixPath('../data/cary-results/hardinstanceb1/sensitivity-sampling-k20-m4000/2021-08-08-09-41-07/005-hardinstanceb1-sensitivity-sampling-k20-m4000.json'),\n",
       " PosixPath('../data/cary-results/hardinstanceb1/sensitivity-sampling-k20-m4000/2021-08-10-09-39-21/017-hardinstanceb1-sensitivity-sampling-k20-m4000.json'),\n",
       " PosixPath('../data/cary-results/hardinstanceb1/sensitivity-sampling-k20-m4000/2021-08-09-14-25-53/012-hardinstanceb1-sensitivity-sampling-k20-m4000.json'),\n",
       " PosixPath('../data/cary-results/hardinstanceb1/sensitivity-sampling-k20-m4000/2021-08-07-15-44-43/001-hardinstanceb1-sensitivity-sampling-k20-m4000.json'),\n",
       " PosixPath('../data/cary-results/hardinstanceb1/sensitivity-sampling-k20-m4000/2021-08-09-10-00-42/011-hardinstanceb1-sensitivity-sampling-k20-m4000.json'),\n",
       " PosixPath('../data/cary-results/hardinstanceb1/sensitivity-sampling-k20-m4000/2021-08-07-20-16-01/002-hardinstanceb1-sensitivity-sampling-k20-m4000.json'),\n",
       " PosixPath('../data/cary-results/hardinstanceb1/sensitivity-sampling-k20-m4000/2021-08-09-18-10-21/013-hardinstanceb1-sensitivity-sampling-k20-m4000.json'),\n",
       " PosixPath('../data/cary-results/hardinstanceb1/sensitivity-sampling-k20-m4000/2021-08-11-03-45-56/018-hardinstanceb1-sensitivity-sampling-k20-m4000.json'),\n",
       " PosixPath('../data/cary-results/hardinstanceb1/sensitivity-sampling-k20-m4000/2021-08-08-00-00-53/003-hardinstanceb1-sensitivity-sampling-k20-m4000.json'),\n",
       " PosixPath('../data/cary-results/hardinstanceb1/sensitivity-sampling-k20-m4000/2021-08-10-02-15-10/015-hardinstanceb1-sensitivity-sampling-k20-m4000.json'),\n",
       " PosixPath('../data/cary-results/hardinstanceb1/sensitivity-sampling-k20-m4000/2021-08-10-23-58-33/010-hardinstanceb1-sensitivity-sampling-k20-m4000.json'),\n",
       " PosixPath('../data/cary-results/hardinstanceb1/sensitivity-sampling-k20-m4000/2021-08-13-06-10-04/008-hardinstanceb1-sensitivity-sampling-k20-m4000.json'),\n",
       " PosixPath('../data/cary-results/hardinstanceb1/sensitivity-sampling-k20-m4000/2021-08-07-10-12-57/000-hardinstanceb1-sensitivity-sampling-k20-m4000.json'),\n",
       " PosixPath('../data/cary-results/hardinstanceb1/sensitivity-sampling-k20-m4000/2021-08-10-06-12-56/016-hardinstanceb1-sensitivity-sampling-k20-m4000.json'),\n",
       " PosixPath('../data/cary-results/hardinstanceb1/sensitivity-sampling-k20-m4000/2021-08-08-13-56-06/006-hardinstanceb1-sensitivity-sampling-k20-m4000.json'),\n",
       " PosixPath('../data/cary-results/hardinstanceb1/bico-k30-m6000/2021-08-09-21-41-33/014-hardinstanceb1-bico-k30-m6000.json'),\n",
       " PosixPath('../data/cary-results/hardinstanceb1/bico-k30-m6000/2021-08-09-08-57-31/011-hardinstanceb1-bico-k30-m6000.json'),\n",
       " PosixPath('../data/cary-results/hardinstanceb1/bico-k30-m6000/2021-08-09-01-02-47/009-hardinstanceb1-bico-k30-m6000.json'),\n",
       " PosixPath('../data/cary-results/hardinstanceb1/bico-k30-m6000/2021-08-08-20-47-03/008-hardinstanceb1-bico-k30-m6000.json'),\n",
       " PosixPath('../data/cary-results/hardinstanceb1/bico-k30-m6000/2021-08-09-05-04-12/010-hardinstanceb1-bico-k30-m6000.json'),\n",
       " PosixPath('../data/cary-results/hardinstanceb1/bico-k30-m6000/2021-08-09-13-00-26/012-hardinstanceb1-bico-k30-m6000.json'),\n",
       " PosixPath('../data/cary-results/hardinstanceb1/bico-k30-m6000/2021-08-10-01-20-49/015-hardinstanceb1-bico-k30-m6000.json'),\n",
       " PosixPath('../data/cary-results/hardinstanceb1/bico-k30-m6000/2021-08-10-12-43-13/018-hardinstanceb1-bico-k30-m6000.json'),\n",
       " PosixPath('../data/cary-results/hardinstanceb1/bico-k30-m6000/2021-08-10-08-48-24/017-hardinstanceb1-bico-k30-m6000.json'),\n",
       " PosixPath('../data/cary-results/hardinstanceb1/bico-k30-m6000/2021-08-07-09-37-28/000-hardinstanceb1-bico-k30-m6000.json'),\n",
       " PosixPath('../data/cary-results/hardinstanceb1/bico-k30-m6000/2021-08-07-22-59-32/003-hardinstanceb1-bico-k30-m6000.json'),\n",
       " PosixPath('../data/cary-results/hardinstanceb1/bico-k30-m6000/2021-08-08-03-00-35/004-hardinstanceb1-bico-k30-m6000.json'),\n",
       " PosixPath('../data/cary-results/hardinstanceb1/bico-k30-m6000/2021-08-10-16-32-35/019-hardinstanceb1-bico-k30-m6000.json'),\n",
       " PosixPath('../data/cary-results/hardinstanceb1/bico-k30-m6000/2021-08-07-15-01-37/001-hardinstanceb1-bico-k30-m6000.json'),\n",
       " PosixPath('../data/cary-results/hardinstanceb1/bico-k30-m6000/2021-08-08-17-06-42/007-hardinstanceb1-bico-k30-m6000.json'),\n",
       " PosixPath('../data/cary-results/hardinstanceb1/bico-k30-m6000/2021-08-10-04-50-08/016-hardinstanceb1-bico-k30-m6000.json'),\n",
       " PosixPath('../data/cary-results/hardinstanceb1/bico-k30-m6000/2021-08-08-12-49-35/006-hardinstanceb1-bico-k30-m6000.json'),\n",
       " PosixPath('../data/cary-results/hardinstanceb1/bico-k30-m6000/2021-08-09-17-21-29/013-hardinstanceb1-bico-k30-m6000.json'),\n",
       " PosixPath('../data/cary-results/hardinstanceb1/bico-k30-m6000/2021-08-07-18-34-03/002-hardinstanceb1-bico-k30-m6000.json'),\n",
       " PosixPath('../data/cary-results/hardinstanceb1/bico-k30-m6000/2021-08-08-09-04-04/005-hardinstanceb1-bico-k30-m6000.json'),\n",
       " PosixPath('../data/cary-results/hardinstanceb1/bico-k50-m10000/2021-08-09-01-06-24/009-hardinstanceb1-bico-k50-m10000.json'),\n",
       " PosixPath('../data/cary-results/hardinstanceb1/bico-k50-m10000/2021-08-08-12-53-03/006-hardinstanceb1-bico-k50-m10000.json'),\n",
       " PosixPath('../data/cary-results/hardinstanceb1/bico-k50-m10000/2021-08-07-23-02-55/003-hardinstanceb1-bico-k50-m10000.json'),\n",
       " PosixPath('../data/cary-results/hardinstanceb1/bico-k50-m10000/2021-08-10-08-49-10/017-hardinstanceb1-bico-k50-m10000.json'),\n",
       " PosixPath('../data/cary-results/hardinstanceb1/bico-k50-m10000/2021-08-08-03-03-59/004-hardinstanceb1-bico-k50-m10000.json'),\n",
       " PosixPath('../data/cary-results/hardinstanceb1/bico-k50-m10000/2021-08-09-13-03-40/012-hardinstanceb1-bico-k50-m10000.json'),\n",
       " PosixPath('../data/cary-results/hardinstanceb1/bico-k50-m10000/2021-08-10-16-33-23/019-hardinstanceb1-bico-k50-m10000.json'),\n",
       " PosixPath('../data/cary-results/hardinstanceb1/bico-k50-m10000/2021-08-10-01-24-42/015-hardinstanceb1-bico-k50-m10000.json'),\n",
       " PosixPath('../data/cary-results/hardinstanceb1/bico-k50-m10000/2021-08-07-09-37-50/000-hardinstanceb1-bico-k50-m10000.json'),\n",
       " PosixPath('../data/cary-results/hardinstanceb1/bico-k50-m10000/2021-08-08-09-06-10/005-hardinstanceb1-bico-k50-m10000.json'),\n",
       " PosixPath('../data/cary-results/hardinstanceb1/bico-k50-m10000/2021-08-07-18-37-15/002-hardinstanceb1-bico-k50-m10000.json'),\n",
       " PosixPath('../data/cary-results/hardinstanceb1/bico-k50-m10000/2021-08-07-15-02-25/001-hardinstanceb1-bico-k50-m10000.json'),\n",
       " PosixPath('../data/cary-results/hardinstanceb1/bico-k50-m10000/2021-08-08-17-10-11/007-hardinstanceb1-bico-k50-m10000.json'),\n",
       " PosixPath('../data/cary-results/hardinstanceb1/bico-k50-m10000/2021-08-09-09-00-35/011-hardinstanceb1-bico-k50-m10000.json'),\n",
       " PosixPath('../data/cary-results/hardinstanceb1/bico-k50-m10000/2021-08-10-04-53-25/016-hardinstanceb1-bico-k50-m10000.json'),\n",
       " PosixPath('../data/cary-results/hardinstanceb1/bico-k50-m10000/2021-08-09-21-45-14/014-hardinstanceb1-bico-k50-m10000.json'),\n",
       " PosixPath('../data/cary-results/hardinstanceb1/bico-k50-m10000/2021-08-09-17-24-07/013-hardinstanceb1-bico-k50-m10000.json'),\n",
       " PosixPath('../data/cary-results/hardinstanceb1/bico-k50-m10000/2021-08-08-20-50-28/008-hardinstanceb1-bico-k50-m10000.json'),\n",
       " PosixPath('../data/cary-results/hardinstanceb1/bico-k50-m10000/2021-08-09-05-07-35/010-hardinstanceb1-bico-k50-m10000.json'),\n",
       " PosixPath('../data/cary-results/hardinstanceb1/bico-k50-m10000/2021-08-10-12-46-46/018-hardinstanceb1-bico-k50-m10000.json'),\n",
       " PosixPath('../data/cary-results/hardinstanceb1/group-sampling-k40-m8000/2021-08-10-05-27-20/016-hardinstanceb1-group-sampling-k40-m8000.json'),\n",
       " PosixPath('../data/cary-results/hardinstanceb1/group-sampling-k40-m8000/2021-08-09-13-43-43/012-hardinstanceb1-group-sampling-k40-m8000.json'),\n",
       " PosixPath('../data/cary-results/hardinstanceb1/group-sampling-k40-m8000/2021-08-08-17-35-35/007-hardinstanceb1-group-sampling-k40-m8000.json'),\n",
       " PosixPath('../data/cary-results/hardinstanceb1/group-sampling-k40-m8000/2021-08-10-01-55-22/015-hardinstanceb1-group-sampling-k40-m8000.json'),\n",
       " PosixPath('../data/cary-results/hardinstanceb1/group-sampling-k40-m8000/2021-08-10-13-43-31/018-hardinstanceb1-group-sampling-k40-m8000.json'),\n",
       " PosixPath('../data/cary-results/hardinstanceb1/group-sampling-k40-m8000/2021-08-08-03-12-46/004-hardinstanceb1-group-sampling-k40-m8000.json'),\n",
       " PosixPath('../data/cary-results/hardinstanceb1/group-sampling-k40-m8000/2021-08-08-13-19-13/006-hardinstanceb1-group-sampling-k40-m8000.json'),\n",
       " PosixPath('../data/cary-results/hardinstanceb1/group-sampling-k40-m8000/2021-08-09-17-48-23/013-hardinstanceb1-group-sampling-k40-m8000.json'),\n",
       " PosixPath('../data/cary-results/hardinstanceb1/group-sampling-k40-m8000/2021-08-09-05-31-09/010-hardinstanceb1-group-sampling-k40-m8000.json'),\n",
       " PosixPath('../data/cary-results/hardinstanceb1/group-sampling-k40-m8000/2021-08-07-23-26-13/003-hardinstanceb1-group-sampling-k40-m8000.json'),\n",
       " PosixPath('../data/cary-results/hardinstanceb1/group-sampling-k40-m8000/2021-08-07-15-09-06/001-hardinstanceb1-group-sampling-k40-m8000.json'),\n",
       " PosixPath('../data/cary-results/hardinstanceb1/group-sampling-k40-m8000/2021-08-07-19-16-14/002-hardinstanceb1-group-sampling-k40-m8000.json'),\n",
       " PosixPath('../data/cary-results/hardinstanceb1/group-sampling-k40-m8000/2021-08-08-21-24-06/008-hardinstanceb1-group-sampling-k40-m8000.json'),\n",
       " PosixPath('../data/cary-results/hardinstanceb1/group-sampling-k40-m8000/2021-08-09-22-08-56/014-hardinstanceb1-group-sampling-k40-m8000.json'),\n",
       " PosixPath('../data/cary-results/hardinstanceb1/group-sampling-k40-m8000/2021-08-08-09-14-37/005-hardinstanceb1-group-sampling-k40-m8000.json'),\n",
       " PosixPath('../data/cary-results/hardinstanceb1/group-sampling-k40-m8000/2021-08-09-01-51-38/009-hardinstanceb1-group-sampling-k40-m8000.json'),\n",
       " PosixPath('../data/cary-results/hardinstanceb1/group-sampling-k40-m8000/2021-08-10-09-14-56/017-hardinstanceb1-group-sampling-k40-m8000.json'),\n",
       " PosixPath('../data/cary-results/hardinstanceb1/group-sampling-k40-m8000/2021-08-10-16-49-06/019-hardinstanceb1-group-sampling-k40-m8000.json'),\n",
       " PosixPath('../data/cary-results/hardinstanceb1/group-sampling-k40-m8000/2021-08-09-09-20-03/011-hardinstanceb1-group-sampling-k40-m8000.json'),\n",
       " PosixPath('../data/cary-results/hardinstanceb1/group-sampling-k40-m8000/2021-08-07-09-43-25/000-hardinstanceb1-group-sampling-k40-m8000.json'),\n",
       " PosixPath('../data/cary-results/hardinstanceb1/bico-k40-m8000/2021-08-08-12-50-21/006-hardinstanceb1-bico-k40-m8000.json'),\n",
       " PosixPath('../data/cary-results/hardinstanceb1/bico-k40-m8000/2021-08-07-09-37-30/000-hardinstanceb1-bico-k40-m8000.json'),\n",
       " PosixPath('../data/cary-results/hardinstanceb1/bico-k40-m8000/2021-08-09-01-03-34/009-hardinstanceb1-bico-k40-m8000.json'),\n",
       " PosixPath('../data/cary-results/hardinstanceb1/bico-k40-m8000/2021-08-09-17-22-15/013-hardinstanceb1-bico-k40-m8000.json'),\n",
       " PosixPath('../data/cary-results/hardinstanceb1/bico-k40-m8000/2021-08-09-21-42-22/014-hardinstanceb1-bico-k40-m8000.json'),\n",
       " PosixPath('../data/cary-results/hardinstanceb1/bico-k40-m8000/2021-08-10-04-50-48/016-hardinstanceb1-bico-k40-m8000.json'),\n",
       " PosixPath('../data/cary-results/hardinstanceb1/bico-k40-m8000/2021-08-08-20-47-49/008-hardinstanceb1-bico-k40-m8000.json'),\n",
       " PosixPath('../data/cary-results/hardinstanceb1/bico-k40-m8000/2021-08-07-23-00-18/003-hardinstanceb1-bico-k40-m8000.json'),\n",
       " PosixPath('../data/cary-results/hardinstanceb1/bico-k40-m8000/2021-08-08-09-04-48/005-hardinstanceb1-bico-k40-m8000.json'),\n",
       " PosixPath('../data/cary-results/hardinstanceb1/bico-k40-m8000/2021-08-07-18-34-47/002-hardinstanceb1-bico-k40-m8000.json'),\n",
       " PosixPath('../data/cary-results/hardinstanceb1/bico-k40-m8000/2021-08-10-01-21-35/015-hardinstanceb1-bico-k40-m8000.json'),\n",
       " PosixPath('../data/cary-results/hardinstanceb1/bico-k40-m8000/2021-08-10-08-49-08/017-hardinstanceb1-bico-k40-m8000.json'),\n",
       " PosixPath('../data/cary-results/hardinstanceb1/bico-k40-m8000/2021-08-09-05-04-56/010-hardinstanceb1-bico-k40-m8000.json'),\n",
       " PosixPath('../data/cary-results/hardinstanceb1/bico-k40-m8000/2021-08-09-08-58-17/011-hardinstanceb1-bico-k40-m8000.json'),\n",
       " PosixPath('../data/cary-results/hardinstanceb1/bico-k40-m8000/2021-08-09-13-01-12/012-hardinstanceb1-bico-k40-m8000.json'),\n",
       " PosixPath('../data/cary-results/hardinstanceb1/bico-k40-m8000/2021-08-08-03-01-21/004-hardinstanceb1-bico-k40-m8000.json'),\n",
       " PosixPath('../data/cary-results/hardinstanceb1/bico-k40-m8000/2021-08-08-17-07-28/007-hardinstanceb1-bico-k40-m8000.json'),\n",
       " PosixPath('../data/cary-results/hardinstanceb1/bico-k40-m8000/2021-08-10-16-32-37/019-hardinstanceb1-bico-k40-m8000.json'),\n",
       " PosixPath('../data/cary-results/hardinstanceb1/bico-k40-m8000/2021-08-10-12-43-57/018-hardinstanceb1-bico-k40-m8000.json'),\n",
       " PosixPath('../data/cary-results/hardinstanceb1/bico-k40-m8000/2021-08-07-15-01-47/001-hardinstanceb1-bico-k40-m8000.json'),\n",
       " PosixPath('../data/cary-results/hardinstanceb1/sensitivity-sampling-k40-m8000/2021-08-10-14-03-11/018-hardinstanceb1-sensitivity-sampling-k40-m8000.json'),\n",
       " PosixPath('../data/cary-results/hardinstanceb1/sensitivity-sampling-k40-m8000/2021-08-08-18-28-57/007-hardinstanceb1-sensitivity-sampling-k40-m8000.json'),\n",
       " PosixPath('../data/cary-results/hardinstanceb1/sensitivity-sampling-k40-m8000/2021-08-08-22-03-46/008-hardinstanceb1-sensitivity-sampling-k40-m8000.json'),\n",
       " PosixPath('../data/cary-results/hardinstanceb1/sensitivity-sampling-k40-m8000/2021-08-10-02-36-16/015-hardinstanceb1-sensitivity-sampling-k40-m8000.json'),\n",
       " PosixPath('../data/cary-results/hardinstanceb1/sensitivity-sampling-k40-m8000/2021-08-07-20-32-08/002-hardinstanceb1-sensitivity-sampling-k40-m8000.json'),\n",
       " PosixPath('../data/cary-results/hardinstanceb1/sensitivity-sampling-k40-m8000/2021-08-10-10-02-55/017-hardinstanceb1-sensitivity-sampling-k40-m8000.json'),\n",
       " PosixPath('../data/cary-results/hardinstanceb1/sensitivity-sampling-k40-m8000/2021-08-09-14-46-39/012-hardinstanceb1-sensitivity-sampling-k40-m8000.json'),\n",
       " PosixPath('../data/cary-results/hardinstanceb1/sensitivity-sampling-k40-m8000/2021-08-08-14-18-34/006-hardinstanceb1-sensitivity-sampling-k40-m8000.json'),\n",
       " PosixPath('../data/cary-results/hardinstanceb1/sensitivity-sampling-k40-m8000/2021-08-07-10-53-42/000-hardinstanceb1-sensitivity-sampling-k40-m8000.json'),\n",
       " PosixPath('../data/cary-results/hardinstanceb1/sensitivity-sampling-k40-m8000/2021-08-08-00-26-08/003-hardinstanceb1-sensitivity-sampling-k40-m8000.json'),\n",
       " PosixPath('../data/cary-results/hardinstanceb1/sensitivity-sampling-k40-m8000/2021-08-10-17-53-00/019-hardinstanceb1-sensitivity-sampling-k40-m8000.json'),\n",
       " PosixPath('../data/cary-results/hardinstanceb1/sensitivity-sampling-k40-m8000/2021-08-10-07-06-18/016-hardinstanceb1-sensitivity-sampling-k40-m8000.json'),\n",
       " PosixPath('../data/cary-results/hardinstanceb1/sensitivity-sampling-k40-m8000/2021-08-09-02-59-46/009-hardinstanceb1-sensitivity-sampling-k40-m8000.json'),\n",
       " PosixPath('../data/cary-results/hardinstanceb1/sensitivity-sampling-k40-m8000/2021-08-09-10-25-36/011-hardinstanceb1-sensitivity-sampling-k40-m8000.json'),\n",
       " PosixPath('../data/cary-results/hardinstanceb1/sensitivity-sampling-k40-m8000/2021-08-09-23-04-31/014-hardinstanceb1-sensitivity-sampling-k40-m8000.json'),\n",
       " PosixPath('../data/cary-results/hardinstanceb1/sensitivity-sampling-k40-m8000/2021-08-08-04-32-05/004-hardinstanceb1-sensitivity-sampling-k40-m8000.json'),\n",
       " PosixPath('../data/cary-results/hardinstanceb1/sensitivity-sampling-k40-m8000/2021-08-09-06-16-53/010-hardinstanceb1-sensitivity-sampling-k40-m8000.json'),\n",
       " PosixPath('../data/cary-results/hardinstanceb1/sensitivity-sampling-k40-m8000/2021-08-07-16-04-31/001-hardinstanceb1-sensitivity-sampling-k40-m8000.json'),\n",
       " PosixPath('../data/cary-results/hardinstanceb1/sensitivity-sampling-k40-m8000/2021-08-08-10-11-35/005-hardinstanceb1-sensitivity-sampling-k40-m8000.json'),\n",
       " PosixPath('../data/cary-results/hardinstanceb1/sensitivity-sampling-k40-m8000/2021-08-09-18-39-59/013-hardinstanceb1-sensitivity-sampling-k40-m8000.json'),\n",
       " PosixPath('../data/cary-results/hardinstanceb1/sensitivity-sampling-k50-m10000/2021-08-09-10-32-09/011-hardinstanceb1-sensitivity-sampling-k50-m10000.json'),\n",
       " PosixPath('../data/cary-results/hardinstanceb1/sensitivity-sampling-k50-m10000/2021-08-12-03-25-50/004-hardinstanceb1-sensitivity-sampling-k50-m10000.json'),\n",
       " PosixPath('../data/cary-results/hardinstanceb1/sensitivity-sampling-k50-m10000/2021-08-12-21-03-21/007-hardinstanceb1-sensitivity-sampling-k50-m10000.json'),\n",
       " PosixPath('../data/cary-results/hardinstanceb1/sensitivity-sampling-k50-m10000/2021-08-12-09-34-14/005-hardinstanceb1-sensitivity-sampling-k50-m10000.json'),\n",
       " PosixPath('../data/cary-results/hardinstanceb1/sensitivity-sampling-k50-m10000/2021-08-08-22-28-28/008-hardinstanceb1-sensitivity-sampling-k50-m10000.json'),\n",
       " PosixPath('../data/cary-results/hardinstanceb1/sensitivity-sampling-k50-m10000/2021-08-13-12-37-52/009-hardinstanceb1-sensitivity-sampling-k50-m10000.json'),\n",
       " PosixPath('../data/cary-results/hardinstanceb1/sensitivity-sampling-k50-m10000/2021-08-11-07-55-23/000-hardinstanceb1-sensitivity-sampling-k50-m10000.json'),\n",
       " PosixPath('../data/cary-results/hardinstanceb1/sensitivity-sampling-k50-m10000/2021-08-11-14-03-46/001-hardinstanceb1-sensitivity-sampling-k50-m10000.json'),\n",
       " PosixPath('../data/cary-results/hardinstanceb1/sensitivity-sampling-k50-m10000/2021-08-07-20-43-31/002-hardinstanceb1-sensitivity-sampling-k50-m10000.json'),\n",
       " PosixPath('../data/cary-results/hardinstanceb1/sensitivity-sampling-k50-m10000/2021-08-10-18-13-00/019-hardinstanceb1-sensitivity-sampling-k50-m10000.json'),\n",
       " PosixPath('../data/cary-results/hardinstanceb1/sensitivity-sampling-k50-m10000/2021-08-12-15-42-14/006-hardinstanceb1-sensitivity-sampling-k50-m10000.json'),\n",
       " PosixPath('../data/cary-results/hardinstanceb1/bico-k20-m4000/2021-08-09-21-38-55/014-hardinstanceb1-bico-k20-m4000.json'),\n",
       " PosixPath('../data/cary-results/hardinstanceb1/bico-k20-m4000/2021-08-10-16-29-56/019-hardinstanceb1-bico-k20-m4000.json'),\n",
       " PosixPath('../data/cary-results/hardinstanceb1/bico-k20-m4000/2021-08-10-01-18-15/015-hardinstanceb1-bico-k20-m4000.json'),\n",
       " PosixPath('../data/cary-results/hardinstanceb1/bico-k20-m4000/2021-08-08-20-44-23/008-hardinstanceb1-bico-k20-m4000.json'),\n",
       " PosixPath('../data/cary-results/hardinstanceb1/bico-k20-m4000/2021-08-07-09-37-26/000-hardinstanceb1-bico-k20-m4000.json'),\n",
       " PosixPath('../data/cary-results/hardinstanceb1/bico-k20-m4000/2021-08-07-18-31-20/002-hardinstanceb1-bico-k20-m4000.json'),\n",
       " PosixPath('../data/cary-results/hardinstanceb1/bico-k20-m4000/2021-08-08-09-03-49/005-hardinstanceb1-bico-k20-m4000.json'),\n",
       " PosixPath('../data/cary-results/hardinstanceb1/bico-k20-m4000/2021-08-07-22-57-02/003-hardinstanceb1-bico-k20-m4000.json'),\n",
       " PosixPath('../data/cary-results/hardinstanceb1/bico-k20-m4000/2021-08-08-09-03-51/006-hardinstanceb1-bico-k20-m4000.json'),\n",
       " PosixPath('../data/cary-results/hardinstanceb1/bico-k20-m4000/2021-08-10-12-40-37/018-hardinstanceb1-bico-k20-m4000.json'),\n",
       " PosixPath('../data/cary-results/hardinstanceb1/bico-k20-m4000/2021-08-09-12-57-47/012-hardinstanceb1-bico-k20-m4000.json'),\n",
       " PosixPath('../data/cary-results/hardinstanceb1/bico-k20-m4000/2021-08-09-01-00-41/009-hardinstanceb1-bico-k20-m4000.json'),\n",
       " PosixPath('../data/cary-results/hardinstanceb1/bico-k20-m4000/2021-08-10-08-46-54/017-hardinstanceb1-bico-k20-m4000.json'),\n",
       " PosixPath('../data/cary-results/hardinstanceb1/bico-k20-m4000/2021-08-09-05-01-42/010-hardinstanceb1-bico-k20-m4000.json'),\n",
       " PosixPath('../data/cary-results/hardinstanceb1/bico-k20-m4000/2021-08-10-04-47-34/016-hardinstanceb1-bico-k20-m4000.json'),\n",
       " PosixPath('../data/cary-results/hardinstanceb1/bico-k20-m4000/2021-08-09-08-55-00/011-hardinstanceb1-bico-k20-m4000.json'),\n",
       " PosixPath('../data/cary-results/hardinstanceb1/bico-k20-m4000/2021-08-08-17-04-00/007-hardinstanceb1-bico-k20-m4000.json'),\n",
       " PosixPath('../data/cary-results/hardinstanceb1/bico-k20-m4000/2021-08-08-02-57-28/004-hardinstanceb1-bico-k20-m4000.json'),\n",
       " PosixPath('../data/cary-results/hardinstanceb1/bico-k20-m4000/2021-08-09-17-18-46/013-hardinstanceb1-bico-k20-m4000.json'),\n",
       " PosixPath('../data/cary-results/hardinstanceb1/bico-k20-m4000/2021-08-07-15-01-27/001-hardinstanceb1-bico-k20-m4000.json'),\n",
       " PosixPath('../data/cary-results/hardinstanceb1/group-sampling-k30-m6000/2021-08-09-05-29-07/010-hardinstanceb1-group-sampling-k30-m6000.json'),\n",
       " PosixPath('../data/cary-results/hardinstanceb1/group-sampling-k30-m6000/2021-08-07-15-08-46/001-hardinstanceb1-group-sampling-k30-m6000.json'),\n",
       " PosixPath('../data/cary-results/hardinstanceb1/group-sampling-k30-m6000/2021-08-09-13-22-54/012-hardinstanceb1-group-sampling-k30-m6000.json'),\n",
       " PosixPath('../data/cary-results/hardinstanceb1/group-sampling-k30-m6000/2021-08-08-09-13-08/005-hardinstanceb1-group-sampling-k30-m6000.json'),\n",
       " PosixPath('../data/cary-results/hardinstanceb1/group-sampling-k30-m6000/2021-08-09-21-55-59/014-hardinstanceb1-group-sampling-k30-m6000.json'),\n",
       " PosixPath('../data/cary-results/hardinstanceb1/group-sampling-k30-m6000/2021-08-10-01-34-30/015-hardinstanceb1-group-sampling-k30-m6000.json'),\n",
       " PosixPath('../data/cary-results/hardinstanceb1/group-sampling-k30-m6000/2021-08-07-18-58-11/002-hardinstanceb1-group-sampling-k30-m6000.json'),\n",
       " PosixPath('../data/cary-results/hardinstanceb1/group-sampling-k30-m6000/2021-08-09-01-30-46/009-hardinstanceb1-group-sampling-k30-m6000.json'),\n",
       " PosixPath('../data/cary-results/hardinstanceb1/group-sampling-k30-m6000/2021-08-10-08-57-13/017-hardinstanceb1-group-sampling-k30-m6000.json'),\n",
       " PosixPath('../data/cary-results/hardinstanceb1/group-sampling-k30-m6000/2021-08-10-05-07-50/016-hardinstanceb1-group-sampling-k30-m6000.json'),\n",
       " PosixPath('../data/cary-results/hardinstanceb1/group-sampling-k30-m6000/2021-08-09-17-32-20/013-hardinstanceb1-group-sampling-k30-m6000.json'),\n",
       " PosixPath('../data/cary-results/hardinstanceb1/group-sampling-k30-m6000/2021-08-10-13-07-02/018-hardinstanceb1-group-sampling-k30-m6000.json'),\n",
       " PosixPath('../data/cary-results/hardinstanceb1/group-sampling-k30-m6000/2021-08-08-17-24-50/007-hardinstanceb1-group-sampling-k30-m6000.json'),\n",
       " PosixPath('../data/cary-results/hardinstanceb1/group-sampling-k30-m6000/2021-08-08-03-10-38/004-hardinstanceb1-group-sampling-k30-m6000.json'),\n",
       " PosixPath('../data/cary-results/hardinstanceb1/group-sampling-k30-m6000/2021-08-10-16-42-48/019-hardinstanceb1-group-sampling-k30-m6000.json'),\n",
       " PosixPath('../data/cary-results/hardinstanceb1/group-sampling-k30-m6000/2021-08-07-09-40-12/000-hardinstanceb1-group-sampling-k30-m6000.json'),\n",
       " PosixPath('../data/cary-results/hardinstanceb1/group-sampling-k30-m6000/2021-08-08-13-12-15/006-hardinstanceb1-group-sampling-k30-m6000.json'),\n",
       " PosixPath('../data/cary-results/hardinstanceb1/group-sampling-k30-m6000/2021-08-09-09-17-16/011-hardinstanceb1-group-sampling-k30-m6000.json'),\n",
       " PosixPath('../data/cary-results/hardinstanceb1/group-sampling-k30-m6000/2021-08-08-21-08-49/008-hardinstanceb1-group-sampling-k30-m6000.json'),\n",
       " PosixPath('../data/cary-results/hardinstanceb1/group-sampling-k30-m6000/2021-08-07-23-23-24/003-hardinstanceb1-group-sampling-k30-m6000.json'),\n",
       " PosixPath('../data/cary-results/hardinstanceb1/sensitivity-sampling-k30-m6000/2021-08-09-18-20-52/013-hardinstanceb1-sensitivity-sampling-k30-m6000.json'),\n",
       " PosixPath('../data/cary-results/hardinstanceb1/sensitivity-sampling-k30-m6000/2021-08-08-18-11-16/007-hardinstanceb1-sensitivity-sampling-k30-m6000.json'),\n",
       " PosixPath('../data/cary-results/hardinstanceb1/sensitivity-sampling-k30-m6000/2021-08-09-10-06-31/011-hardinstanceb1-sensitivity-sampling-k30-m6000.json'),\n",
       " PosixPath('../data/cary-results/hardinstanceb1/sensitivity-sampling-k30-m6000/2021-08-09-06-13-54/010-hardinstanceb1-sensitivity-sampling-k30-m6000.json'),\n",
       " PosixPath('../data/cary-results/hardinstanceb1/sensitivity-sampling-k30-m6000/2021-08-10-02-17-08/015-hardinstanceb1-sensitivity-sampling-k30-m6000.json'),\n",
       " PosixPath('../data/cary-results/hardinstanceb1/sensitivity-sampling-k30-m6000/2021-08-10-06-40-04/016-hardinstanceb1-sensitivity-sampling-k30-m6000.json'),\n",
       " PosixPath('../data/cary-results/hardinstanceb1/sensitivity-sampling-k30-m6000/2021-08-10-17-31-04/019-hardinstanceb1-sensitivity-sampling-k30-m6000.json'),\n",
       " PosixPath('../data/cary-results/hardinstanceb1/sensitivity-sampling-k30-m6000/2021-08-08-00-11-14/003-hardinstanceb1-sensitivity-sampling-k30-m6000.json'),\n",
       " PosixPath('../data/cary-results/hardinstanceb1/sensitivity-sampling-k30-m6000/2021-08-08-13-59-23/006-hardinstanceb1-sensitivity-sampling-k30-m6000.json'),\n",
       " PosixPath('../data/cary-results/hardinstanceb1/sensitivity-sampling-k30-m6000/2021-08-10-09-42-19/017-hardinstanceb1-sensitivity-sampling-k30-m6000.json'),\n",
       " PosixPath('../data/cary-results/hardinstanceb1/sensitivity-sampling-k30-m6000/2021-08-09-02-39-08/009-hardinstanceb1-sensitivity-sampling-k30-m6000.json'),\n",
       " PosixPath('../data/cary-results/hardinstanceb1/sensitivity-sampling-k30-m6000/2021-08-08-22-00-52/008-hardinstanceb1-sensitivity-sampling-k30-m6000.json'),\n",
       " PosixPath('../data/cary-results/hardinstanceb1/sensitivity-sampling-k30-m6000/2021-08-08-09-53-54/005-hardinstanceb1-sensitivity-sampling-k30-m6000.json'),\n",
       " PosixPath('../data/cary-results/hardinstanceb1/sensitivity-sampling-k30-m6000/2021-08-07-15-49-39/001-hardinstanceb1-sensitivity-sampling-k30-m6000.json'),\n",
       " PosixPath('../data/cary-results/hardinstanceb1/sensitivity-sampling-k30-m6000/2021-08-09-22-48-13/014-hardinstanceb1-sensitivity-sampling-k30-m6000.json'),\n",
       " PosixPath('../data/cary-results/hardinstanceb1/sensitivity-sampling-k30-m6000/2021-08-08-04-05-53/004-hardinstanceb1-sensitivity-sampling-k30-m6000.json'),\n",
       " PosixPath('../data/cary-results/hardinstanceb1/sensitivity-sampling-k30-m6000/2021-08-10-13-59-48/018-hardinstanceb1-sensitivity-sampling-k30-m6000.json'),\n",
       " PosixPath('../data/cary-results/hardinstanceb1/sensitivity-sampling-k30-m6000/2021-08-09-14-31-44/012-hardinstanceb1-sensitivity-sampling-k30-m6000.json'),\n",
       " PosixPath('../data/cary-results/hardinstanceb1/sensitivity-sampling-k30-m6000/2021-08-07-10-30-20/000-hardinstanceb1-sensitivity-sampling-k30-m6000.json'),\n",
       " PosixPath('../data/cary-results/hardinstanceb1/sensitivity-sampling-k30-m6000/2021-08-07-20-22-59/002-hardinstanceb1-sensitivity-sampling-k30-m6000.json'),\n",
       " PosixPath('../data/cary-results/hardinstanceb1/sensitivity-sampling-k10-m2000/2021-08-07-20-07-40/002-hardinstanceb1-sensitivity-sampling-k10-m2000.json'),\n",
       " PosixPath('../data/cary-results/hardinstanceb1/sensitivity-sampling-k10-m2000/2021-08-10-02-11-52/015-hardinstanceb1-sensitivity-sampling-k10-m2000.json'),\n",
       " PosixPath('../data/cary-results/hardinstanceb1/sensitivity-sampling-k10-m2000/2021-08-08-13-52-14/006-hardinstanceb1-sensitivity-sampling-k10-m2000.json'),\n",
       " PosixPath('../data/cary-results/hardinstanceb1/sensitivity-sampling-k10-m2000/2021-08-10-06-08-13/016-hardinstanceb1-sensitivity-sampling-k10-m2000.json'),\n",
       " PosixPath('../data/cary-results/hardinstanceb1/sensitivity-sampling-k10-m2000/2021-08-10-09-32-14/017-hardinstanceb1-sensitivity-sampling-k10-m2000.json'),\n",
       " PosixPath('../data/cary-results/hardinstanceb1/sensitivity-sampling-k10-m2000/2021-08-09-09-55-06/011-hardinstanceb1-sensitivity-sampling-k10-m2000.json'),\n",
       " PosixPath('../data/cary-results/hardinstanceb1/sensitivity-sampling-k10-m2000/2021-08-08-03-37-08/004-hardinstanceb1-sensitivity-sampling-k10-m2000.json'),\n",
       " PosixPath('../data/cary-results/hardinstanceb1/sensitivity-sampling-k10-m2000/2021-08-09-06-05-44/010-hardinstanceb1-sensitivity-sampling-k10-m2000.json'),\n",
       " PosixPath('../data/cary-results/hardinstanceb1/sensitivity-sampling-k10-m2000/2021-08-07-23-55-55/003-hardinstanceb1-sensitivity-sampling-k10-m2000.json'),\n",
       " PosixPath('../data/cary-results/hardinstanceb1/sensitivity-sampling-k10-m2000/2021-08-08-21-49-55/008-hardinstanceb1-sensitivity-sampling-k10-m2000.json'),\n",
       " PosixPath('../data/cary-results/hardinstanceb1/sensitivity-sampling-k10-m2000/2021-08-11-04-57-30/019-hardinstanceb1-sensitivity-sampling-k10-m2000.json'),\n",
       " PosixPath('../data/cary-results/hardinstanceb1/sensitivity-sampling-k10-m2000/2021-08-08-09-35-30/005-hardinstanceb1-sensitivity-sampling-k10-m2000.json'),\n",
       " PosixPath('../data/cary-results/hardinstanceb1/sensitivity-sampling-k10-m2000/2021-08-09-22-31-04/014-hardinstanceb1-sensitivity-sampling-k10-m2000.json'),\n",
       " PosixPath('../data/cary-results/hardinstanceb1/sensitivity-sampling-k10-m2000/2021-08-09-02-26-01/009-hardinstanceb1-sensitivity-sampling-k10-m2000.json'),\n",
       " PosixPath('../data/cary-results/hardinstanceb1/sensitivity-sampling-k10-m2000/2021-08-08-18-01-23/007-hardinstanceb1-sensitivity-sampling-k10-m2000.json'),\n",
       " PosixPath('../data/cary-results/hardinstanceb1/sensitivity-sampling-k10-m2000/2021-08-09-18-04-26/013-hardinstanceb1-sensitivity-sampling-k10-m2000.json'),\n",
       " PosixPath('../data/cary-results/hardinstanceb1/sensitivity-sampling-k10-m2000/2021-08-09-14-19-04/012-hardinstanceb1-sensitivity-sampling-k10-m2000.json'),\n",
       " PosixPath('../data/cary-results/hardinstanceb1/sensitivity-sampling-k10-m2000/2021-08-07-10-06-44/000-hardinstanceb1-sensitivity-sampling-k10-m2000.json'),\n",
       " PosixPath('../data/cary-results/hardinstanceb1/sensitivity-sampling-k10-m2000/2021-08-07-15-44-41/001-hardinstanceb1-sensitivity-sampling-k10-m2000.json'),\n",
       " PosixPath('../data/cary-results/hardinstanceb1/sensitivity-sampling-k10-m2000/2021-08-10-13-50-42/018-hardinstanceb1-sensitivity-sampling-k10-m2000.json')]"
      ]
     },
     "execution_count": 47,
     "metadata": {},
     "output_type": "execute_result"
    }
   ],
   "source": [
    "run_files"
   ]
  },
  {
   "cell_type": "code",
   "execution_count": 41,
   "id": "243b1209-126f-401a-94b3-f191c3ebf915",
   "metadata": {},
   "outputs": [],
   "source": [
    "run_info_path = run_files[6]"
   ]
  },
  {
   "cell_type": "code",
   "execution_count": 42,
   "id": "f8e700c1-38a5-4fa0-b7f3-6f18ffb1c626",
   "metadata": {},
   "outputs": [],
   "source": [
    "coreset_file_path = run_info_path.parent / \"results.txt.gz\"\n",
    "centers_file_path = run_info_path.parent / \"centers.txt\""
   ]
  },
  {
   "cell_type": "code",
   "execution_count": 43,
   "id": "877df847-79ea-436c-96ac-19e083e9309e",
   "metadata": {},
   "outputs": [],
   "source": [
    "run_info = RunInfo.load_json(run_info_path)"
   ]
  },
  {
   "cell_type": "code",
   "execution_count": 44,
   "id": "faf2db0a-9dcd-458d-9383-54b4cb5273c4",
   "metadata": {},
   "outputs": [
    {
     "data": {
      "text/plain": [
       "RunInfo(algorithm='basic-clustering', dataset='hardinstanceb1', k=20, m=4000, iteration=6, randomSeed=7145266, output_dir='data/experiments/hardinstanceb1/basic-clustering-k20-m4000/2021-08-14-21-10-14', command='gs/build/gs basic-clustering hardinstanceb1 data/input/benchmark-k20-alpha5-beta1.00.txt.gz 20 4000 7145266 data/experiments/hardinstanceb1/basic-clustering-k20-m4000/2021-08-14-21-10-14', start_time='2021-08-14T21:10:14.893143', end_time='2021-08-15T14:08:27.279512', duration_secs=61092.386369, process_id=-2)"
      ]
     },
     "execution_count": 44,
     "metadata": {},
     "output_type": "execute_result"
    }
   ],
   "source": [
    "run_info"
   ]
  },
  {
   "cell_type": "code",
   "execution_count": 30,
   "id": "f0cfb563-a65f-41d7-9411-1ddbf7fbdc90",
   "metadata": {},
   "outputs": [
    {
     "name": "stdout",
     "output_type": "stream",
     "text": [
      "Loading csv dataset from ../data/input/benchmark-k20-alpha5-beta1.00.txt.gz...\n",
      "Loaded matrix of shape (3200000, 100) in 55.86 secs\n"
     ]
    }
   ],
   "source": [
    "original_data = load_dataset(f\"../{run_info.dataset_path}\")"
   ]
  },
  {
   "cell_type": "code",
   "execution_count": 31,
   "id": "5c929e5f-2a30-4cfd-833c-f3e698a20532",
   "metadata": {},
   "outputs": [
    {
     "data": {
      "text/plain": [
       "array([[ 0.95, -0.05, -0.05, ..., -0.05, -0.05, -0.05],\n",
       "       [ 0.95, -0.05, -0.05, ..., -0.05, -0.05, -0.05],\n",
       "       [ 0.95, -0.05, -0.05, ..., -0.05, -0.05, -0.05],\n",
       "       ...,\n",
       "       [-0.05, -0.05, -0.05, ...,  0.95, -0.05, -0.05],\n",
       "       [-0.05, -0.05, -0.05, ..., -0.05,  0.95, -0.05],\n",
       "       [-0.05, -0.05, -0.05, ..., -0.05, -0.05,  0.95]])"
      ]
     },
     "execution_count": 31,
     "metadata": {},
     "output_type": "execute_result"
    }
   ],
   "source": [
    "original_data"
   ]
  },
  {
   "cell_type": "code",
   "execution_count": 15,
   "id": "20743ce9-1b85-487b-9685-fdd2f8b9db28",
   "metadata": {},
   "outputs": [],
   "source": []
  },
  {
   "cell_type": "code",
   "execution_count": 40,
   "id": "9300721b-5efd-450e-8021-e097c3575b51",
   "metadata": {},
   "outputs": [
    {
     "data": {
      "text/plain": [
       "PosixPath('../data/odin-results/hardinstanceb1/basic-clustering-k20-m4000/2021-08-17-02-09-46/results.txt.gz')"
      ]
     },
     "execution_count": 40,
     "metadata": {},
     "output_type": "execute_result"
    }
   ],
   "source": [
    "coreset_file_path"
   ]
  },
  {
   "cell_type": "code",
   "execution_count": 16,
   "id": "aa17b798-e269-4c4b-a8a7-1674dd8f46b1",
   "metadata": {},
   "outputs": [],
   "source": [
    "coreset = np.loadtxt(fname=coreset_file_path, dtype=np.double, delimiter=' ', skiprows=1)\n",
    "coreset_weights = coreset[:,0]\n",
    "coreset_points = coreset[:,1:]"
   ]
  },
  {
   "cell_type": "code",
   "execution_count": 17,
   "id": "dd1db608-2dc4-4953-a7cc-d8a25e3c7f5c",
   "metadata": {},
   "outputs": [],
   "source": [
    "centers = np.loadtxt(fname=centers_file_path, dtype=np.double, delimiter=' ', skiprows=0)\n",
    "center_weights = centers[:,0] \n",
    "center_points = centers[:,1:]"
   ]
  },
  {
   "cell_type": "code",
   "execution_count": 20,
   "id": "4f4028f3-5be6-4dd7-a35d-f06700bc9337",
   "metadata": {},
   "outputs": [
    {
     "data": {
      "text/plain": [
       "(4000, 100)"
      ]
     },
     "execution_count": 20,
     "metadata": {},
     "output_type": "execute_result"
    }
   ],
   "source": [
    "coreset_points.shape"
   ]
  },
  {
   "cell_type": "code",
   "execution_count": 38,
   "id": "d61d83c5-4994-411c-9595-e70be174b663",
   "metadata": {},
   "outputs": [
    {
     "data": {
      "text/plain": [
       "array([ 0.539377 , -0.0254852, -0.0237828, -0.0254852, -0.0319544,\n",
       "       -0.0275281, -0.0265066, -0.0275281, -0.0316139, -0.038764 ,\n",
       "       -0.0309329, -0.0282091, -0.0258257, -0.0285495, -0.0265066,\n",
       "       -0.0309329, -0.0285495, -0.0265066, -0.029571 , -0.0251447,\n",
       "       -0.029571 , -0.0271876, -0.0285495,  0.553337 , -0.038764 ,\n",
       "       -0.0309329, -0.0285495, -0.0258257, -0.0278686, -0.0268471,\n",
       "       -0.0265066, -0.0391045, -0.0265066, -0.0282091, -0.0299115,\n",
       "       -0.0329758, -0.0261662, -0.0251447, -0.0299115, -0.0248042,\n",
       "       -0.0285495, -0.0329758,  0.598621 , -0.0278686, -0.02889  ,\n",
       "       -0.0282091, -0.0309329, -0.0329758, -0.0278686, -0.0312734,\n",
       "       -0.02889  , -0.0312734, -0.0408069, -0.0333163, -0.0275281,\n",
       "       -0.038764 , -0.0309329, -0.030252 , -0.0282091, -0.0391045,\n",
       "       -0.0244637, -0.0278686, -0.0278686, -0.0363807, -0.0282091,\n",
       "       -0.0271876, -0.0316139, -0.0282091, -0.0265066, -0.0305924,\n",
       "       -0.02889  , -0.0261662, -0.0217399, -0.0275281, -0.0248042,\n",
       "       -0.0265066, -0.0248042, -0.0292305,  0.522693 , -0.0241233,\n",
       "       -0.0268471, -0.038764 , -0.0227613, -0.029571 , -0.0377426,\n",
       "       -0.0278686, -0.0275281, -0.0282091, -0.0241233, -0.0275281,\n",
       "        0.556061 , -0.0292305, -0.0343378, -0.02889  , -0.0282091,\n",
       "       -0.0268471, -0.0339973, -0.0285495, -0.0268471, -0.0282091])"
      ]
     },
     "execution_count": 38,
     "metadata": {},
     "output_type": "execute_result"
    }
   ],
   "source": [
    "coreset_points[100]"
   ]
  },
  {
   "cell_type": "code",
   "execution_count": 39,
   "id": "42db500d-a4a3-40c6-a078-d349c191d2bc",
   "metadata": {},
   "outputs": [
    {
     "data": {
      "text/plain": [
       "array([-0.023919 , -0.0287234, -0.0273507, -0.0266644,  0.540597 ,\n",
       "       -0.0290666, -0.0376458, -0.040048 , -0.0304393, -0.0297529,\n",
       "       -0.025978 , -0.0242622, -0.025978 , -0.0273507, -0.0290666,\n",
       "       -0.0276939, -0.0270075, -0.0270075, -0.0276939, -0.0249485,\n",
       "       -0.0263212, -0.025978 , -0.0249485, -0.0376458, -0.0321551,\n",
       "        0.5128   , -0.0266644, -0.0280371, -0.0270075, -0.0266644,\n",
       "       -0.0273507, -0.025978 , -0.0225463, -0.0266644, -0.025978 ,\n",
       "       -0.0242622, -0.0252917, -0.0266644, -0.025978 , -0.0266644,\n",
       "       -0.0242622, -0.0270075, -0.0283802, -0.0273507, -0.0276939,\n",
       "        0.572512 , -0.0283802, -0.0352437, -0.0287234, -0.0270075,\n",
       "       -0.0386754, -0.0270075, -0.0441661, -0.0273507, -0.0273507,\n",
       "       -0.0283802, -0.0321551, -0.0283802, -0.0373027, -0.0276939,\n",
       "       -0.0294097, -0.0246054, -0.0390185, -0.0352437, -0.0321551,\n",
       "       -0.0256349, -0.0318119, -0.0280371, -0.025978 , -0.0342141,\n",
       "       -0.0276939, -0.0252917, -0.0383322, -0.0266644, -0.0300961,\n",
       "       -0.0276939, -0.0294097,  0.581434 , -0.0386754, -0.0314688,\n",
       "       -0.0266644, -0.0276939, -0.0228895, -0.0266644, -0.0376458,\n",
       "       -0.0376458, -0.0304393, -0.0276939, -0.0290666,  0.56256  ,\n",
       "       -0.0270075, -0.0297529, -0.0297529, -0.0383322, -0.0270075,\n",
       "       -0.0287234, -0.0297529, -0.0287234, -0.0280371, -0.0290666])"
      ]
     },
     "execution_count": 39,
     "metadata": {},
     "output_type": "execute_result"
    }
   ],
   "source": [
    "coreset_points[101]"
   ]
  },
  {
   "cell_type": "code",
   "execution_count": null,
   "id": "b3f00d5e-ceb4-4dc7-8c99-e3962a0f26ee",
   "metadata": {},
   "outputs": [],
   "source": []
  }
 ],
 "metadata": {
  "kernelspec": {
   "display_name": "Python 3 (ipykernel)",
   "language": "python",
   "name": "python3"
  },
  "language_info": {
   "codemirror_mode": {
    "name": "ipython",
    "version": 3
   },
   "file_extension": ".py",
   "mimetype": "text/x-python",
   "name": "python",
   "nbconvert_exporter": "python",
   "pygments_lexer": "ipython3",
   "version": "3.8.8"
  }
 },
 "nbformat": 4,
 "nbformat_minor": 5
}

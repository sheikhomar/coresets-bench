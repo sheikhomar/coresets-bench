{
 "cells": [
  {
   "cell_type": "code",
   "execution_count": 1,
   "id": "9c60e34f-d30e-4bfe-9c8e-d18bfc8d4771",
   "metadata": {},
   "outputs": [],
   "source": [
    "import sys\n",
    "sys.path.append('../xrun')"
   ]
  },
  {
   "cell_type": "code",
   "execution_count": 5,
   "id": "cb930fb9-f99b-46ae-9dc7-3d3096846c26",
   "metadata": {},
   "outputs": [],
   "source": [
    "import fractions\n",
    "\n",
    "import numpy as np\n",
    "import pandas as pd\n",
    "\n",
    "from timeit import default_timer as timer\n",
    "\n",
    "from scipy import linalg\n",
    "from scipy.sparse import linalg as sparse_linalg, issparse\n",
    "from sklearn.utils.sparsefuncs import mean_variance_axis\n",
    "from sklearn.utils.extmath import svd_flip, safe_sparse_dot\n",
    "\n",
    "import seaborn as sns\n",
    "import matplotlib.pyplot as plt\n",
    "\n",
    "sns.set(style=\"whitegrid\")\n",
    "\n",
    "from xrun.data.loader import load_dataset"
   ]
  },
  {
   "cell_type": "code",
   "execution_count": 3,
   "id": "14ddc4a1-fd19-4d20-ac31-bcdfb5456e45",
   "metadata": {},
   "outputs": [
    {
     "name": "stdout",
     "output_type": "stream",
     "text": [
      "Loading BoW dataset from ../data/input/docword.enron.txt.gz\n",
      "Data shape: (39861, 28102)\n",
      "Elapsed time: 24.36 secs\n"
     ]
    }
   ],
   "source": [
    "input_path = \"../data/input/docword.enron.txt.gz\"\n",
    "X = load_dataset(input_path)"
   ]
  },
  {
   "cell_type": "code",
   "execution_count": 6,
   "id": "eda8bd50-ff6a-495c-8774-6f8cc6102aa1",
   "metadata": {},
   "outputs": [
    {
     "name": "stdout",
     "output_type": "stream",
     "text": [
      "SVD computed in 4.3 minutes.\n"
     ]
    }
   ],
   "source": [
    "start_time = timer()\n",
    "U, Sigma, VT = sparse_linalg.eigen.svds(A=X, which='LM', k=1000, solver='arpack')\n",
    "end_time = timer()\n",
    "duration_sec = end_time - start_time\n",
    "print(f\"SVD computed in {duration_sec/60:.1f} minutes.\")"
   ]
  },
  {
   "cell_type": "code",
   "execution_count": 7,
   "id": "9691e4df-5b9c-440d-a660-bccba2695a5c",
   "metadata": {},
   "outputs": [],
   "source": [
    "# svds doesn't abide by scipy.linalg.svd/randomized_svd conventions, so reverse its outputs.\n",
    "Sigma = Sigma[::-1]\n",
    "U, VT = svd_flip(U[:, ::-1], VT[::-1])"
   ]
  },
  {
   "cell_type": "code",
   "execution_count": 32,
   "id": "5f49b264-8087-4c48-8cb9-b0d51f25e892",
   "metadata": {},
   "outputs": [],
   "source": [
    "X_transformed = safe_sparse_dot(X, VT.T)"
   ]
  },
  {
   "cell_type": "code",
   "execution_count": 33,
   "id": "f82945b1-4465-42eb-a50c-82bb7c7cfaf4",
   "metadata": {},
   "outputs": [],
   "source": [
    "explained_variance = np.var(X_transformed, axis=0)\n",
    "_, full_var = mean_variance_axis(X, axis=0)\n",
    "explained_variance_ratio = explained_variance / full_var.sum()"
   ]
  },
  {
   "cell_type": "code",
   "execution_count": 34,
   "id": "727a7540-dc9c-4e34-9f99-d369b36594be",
   "metadata": {},
   "outputs": [],
   "source": [
    "df_plot_data = pd.DataFrame({\n",
    "    'explained_variance_ratio': explained_variance_ratio,\n",
    "    'component': list(range(explained_variance_ratio.shape[0]))\n",
    "})\n",
    "df_plot_data[\"explained_variance_ratio_sum\"] = df_plot_data.explained_variance_ratio.cumsum()"
   ]
  },
  {
   "cell_type": "code",
   "execution_count": 35,
   "id": "2fcc984d-2927-4e43-974a-88db6efe6105",
   "metadata": {},
   "outputs": [
    {
     "data": {
      "text/plain": [
       "<AxesSubplot:xlabel='component', ylabel='explained_variance_ratio_sum'>"
      ]
     },
     "execution_count": 35,
     "metadata": {},
     "output_type": "execute_result"
    },
    {
     "data": {
      "image/png": "[encoded data removed]",
      "text/plain": [
       "<Figure size 432x288 with 1 Axes>"
      ]
     },
     "metadata": {},
     "output_type": "display_data"
    }
   ],
   "source": [
    "sns.lineplot(x='component', y='explained_variance_ratio_sum', data=df_plot_data)"
   ]
  }
 ],
 "metadata": {
  "kernelspec": {
   "display_name": "Python 3 (ipykernel)",
   "language": "python",
   "name": "python3"
  },
  "language_info": {
   "codemirror_mode": {
    "name": "ipython",
    "version": 3
   },
   "file_extension": ".py",
   "mimetype": "text/x-python",
   "name": "python",
   "nbconvert_exporter": "python",
   "pygments_lexer": "ipython3",
   "version": "3.8.8"
  }
 },
 "nbformat": 4,
 "nbformat_minor": 5
}

{
 "cells": [
  {
   "cell_type": "code",
   "execution_count": 1,
   "id": "2bbb4227-cacd-420e-8d37-17e55b0068ae",
   "metadata": {},
   "outputs": [],
   "source": [
    "import sys\n",
    "sys.path.append('../xrun')\n",
    "\n",
    "import fractions\n",
    "from fractions import Fraction\n",
    "\n",
    "from timeit import default_timer as timer\n",
    "from pathlib import Path\n",
    "\n",
    "import numba\n",
    "import numpy as np\n",
    "import pandas as pd\n",
    "import seaborn as sns\n",
    "import matplotlib.pyplot as plt\n",
    "\n",
    "from numba import jit, cfunc\n",
    "from scipy import linalg\n",
    "from scipy.sparse import linalg as sparse_linalg, issparse\n",
    "from sklearn.utils.sparsefuncs import mean_variance_axis\n",
    "from sklearn.utils.extmath import svd_flip, safe_sparse_dot\n",
    "\n",
    "from xrun.data.loader import load_dataset\n",
    "from xrun.data.run_info import RunInfo\n",
    "\n",
    "sns.set(style=\"whitegrid\", font_scale=1.2)"
   ]
  },
  {
   "cell_type": "code",
   "execution_count": 2,
   "id": "4ee2b89c-866c-4027-b13c-a5083401b4a3",
   "metadata": {},
   "outputs": [],
   "source": [
    "def load_run_info(experiment_dir: Path):\n",
    "    run_file_paths = list(experiment_dir.glob(\"*.json\"))\n",
    "    if len(run_file_paths) != 1:\n",
    "        print(f\"Expected a single run file in {experiment_dir} but found {len(run_file_paths)} files.\")\n",
    "        return None\n",
    "    return RunInfo.load_json(run_file_paths[0])\n",
    "\n",
    "def create_block_highlighter(k: int):\n",
    "    def apply_highlight(col: pd.Series):\n",
    "        col_index = int(col.name)\n",
    "        colors = ['#b3cde0', '#2ab7ca', '#fed766'] if (col_index // k) % 2 == 0 else ['#e6e6ea', '#f6abb6', \"#dec3c3\"]\n",
    "        return [f\"background-color: {colors[(i // k) %len(colors)]}\" for i in range(len(col))]\n",
    "    return apply_highlight\n",
    "\n",
    "def highlight_negative(col: pd.Series):\n",
    "    colors = ['#2ab7ca', '#f6abb6']\n",
    "    return [f\"background-color: {colors[int('-' in val)]}\" for val in col.values]\n",
    "\n",
    "@jit(nopython=True) # Set \"nopython\" mode for best performance, equivalent to @njit\n",
    "def generate_benchmark(k: int, alpha: int, beta: float):\n",
    "    \"\"\"Generate benchmark dataset.\n",
    "\n",
    "    Parameters\n",
    "    ----------\n",
    "    k: int\n",
    "        The size of the initial block which is a square k-by-k matrix.\n",
    "    alpha: int\n",
    "        The number of the column blocks.\n",
    "    beta: float:\n",
    "        The factor for which to scale the column box.\n",
    "    Returns\n",
    "    -------\n",
    "    np.array\n",
    "        Returns a matrix of size (k^alpha x alpha*k)\n",
    "    \"\"\"\n",
    "    # Create NxD matrix\n",
    "    n = k ** alpha\n",
    "    d = alpha * k\n",
    "    data = np.zeros((n, d))\n",
    "\n",
    "    # Construct the first N-by-k left-side of the matrix\n",
    "    for i in range(n):\n",
    "        for j in range(k):\n",
    "            value = 0\n",
    "            if i % k == j:\n",
    "                value = (k-1) / k\n",
    "            else:\n",
    "                value = -1/k\n",
    "            data[i,j] = value\n",
    "\n",
    "    # Fill the rest by using the copy-stack operation\n",
    "    for j in range(k, d):\n",
    "        for i in range(n):\n",
    "            copy_i = i // k\n",
    "            copy_j = j - k\n",
    "            data[i,j] = data[copy_i, copy_j]\n",
    "    \n",
    "    # Apply columnblock-level scaling factor beta\n",
    "    if beta > 1:\n",
    "        for i in range(alpha):\n",
    "            start_col = i*k\n",
    "            end_col = i*k + k\n",
    "            beta_val = np.power(beta, float(-i))\n",
    "            data[:, start_col:end_col] *= beta_val\n",
    "\n",
    "    return data"
   ]
  },
  {
   "cell_type": "code",
   "execution_count": 3,
   "id": "e5a5f11d-2b8c-462e-9b2e-62cafc5193f7",
   "metadata": {},
   "outputs": [],
   "source": [
    "result_path = Path(\"../data/odin-results/hardinstanceb1/sensitivity-sampling-k10-m2000/2021-09-09-14-01-39/results.txt.gz\")\n",
    "experiment_dir = result_path.parent"
   ]
  },
  {
   "cell_type": "code",
   "execution_count": 4,
   "id": "e6e00d86-e867-4e9d-9866-925e2acab2e2",
   "metadata": {},
   "outputs": [],
   "source": [
    "run_info = load_run_info(experiment_dir)"
   ]
  },
  {
   "cell_type": "code",
   "execution_count": 5,
   "id": "0c5c7fbe-f7b8-4512-b6cc-7e139e5ead54",
   "metadata": {},
   "outputs": [
    {
     "data": {
      "text/plain": [
       "RunInfo(algorithm='sensitivity-sampling', dataset='hardinstanceb1', k=10, m=2000, iteration=8, randomSeed=357918331, output_dir='data/experiments/hardinstanceb1/sensitivity-sampling-k10-m2000/2021-09-09-14-01-39', command='gs/build/gs sensitivity-sampling hardinstanceb1 data/input/benchmark-k10-alpha6-beta1.00.txt.gz 10 2000 357918331 data/experiments/hardinstanceb1/sensitivity-sampling-k10-m2000/2021-09-09-14-01-39', start_time='2021-09-09T14:01:39.817304', end_time='2021-09-09T14:09:47.370186', duration_secs=487.552882, process_id=-2)"
      ]
     },
     "execution_count": 5,
     "metadata": {},
     "output_type": "execute_result"
    }
   ],
   "source": [
    "run_info"
   ]
  },
  {
   "cell_type": "code",
   "execution_count": 6,
   "id": "f22578f9-6071-44a6-8c01-02ad159568f7",
   "metadata": {},
   "outputs": [],
   "source": [
    "a = 0.01\n",
    "k = 1"
   ]
  },
  {
   "cell_type": "code",
   "execution_count": 7,
   "id": "6adfa366-fa26-4f8e-a9bd-756e26b27e12",
   "metadata": {},
   "outputs": [],
   "source": [
    "computed_coreset = np.loadtxt(\n",
    "    fname=result_path,\n",
    "    dtype=np.double,\n",
    "    delimiter=\" \",\n",
    "    skiprows=1,\n",
    "    unpack=False\n",
    ")"
   ]
  },
  {
   "cell_type": "code",
   "execution_count": 8,
   "id": "ba7f4577-59e8-43c2-88d0-f5dc93b7242b",
   "metadata": {},
   "outputs": [],
   "source": [
    "coreset_weights = computed_coreset[:,0]\n",
    "coreset_points = computed_coreset[:,1:]\n"
   ]
  },
  {
   "cell_type": "code",
   "execution_count": 9,
   "id": "b0d4c2ba-6109-4c1a-88bb-eef7c2d25f5a",
   "metadata": {},
   "outputs": [
    {
     "data": {
      "text/plain": [
       "(2017, 60)"
      ]
     },
     "execution_count": 9,
     "metadata": {},
     "output_type": "execute_result"
    }
   ],
   "source": [
    "coreset_points.shape"
   ]
  },
  {
   "cell_type": "code",
   "execution_count": 10,
   "id": "cff07e98-612d-471b-b0eb-b1663e120bf3",
   "metadata": {},
   "outputs": [
    {
     "data": {
      "text/plain": [
       "array([ 516.162,  500.693,  496.551, ..., 6180.14 ,    0.   ,  484.069])"
      ]
     },
     "execution_count": 10,
     "metadata": {},
     "output_type": "execute_result"
    }
   ],
   "source": [
    "coreset_weights"
   ]
  },
  {
   "cell_type": "code",
   "execution_count": 11,
   "id": "cbcea84b-2afd-406e-84dc-c67cbda370fb",
   "metadata": {},
   "outputs": [
    {
     "data": {
      "text/plain": [
       "array([0, 1, 0, 1, 0, 1, 0, 1])"
      ]
     },
     "execution_count": 11,
     "metadata": {},
     "output_type": "execute_result"
    }
   ],
   "source": [
    "k = 2\n",
    "alpha = 3\n",
    "n = k ** alpha\n",
    "\n",
    "a = 0\n",
    "\n",
    "induced_clusters = [(n // k**a) % k  for n in range(n)]\n",
    "np.array(induced_clusters)"
   ]
  },
  {
   "cell_type": "code",
   "execution_count": null,
   "id": "1a483658-1e77-4d63-99ab-0121f23e34b4",
   "metadata": {},
   "outputs": [],
   "source": []
  }
 ],
 "metadata": {
  "kernelspec": {
   "display_name": "Python 3 (ipykernel)",
   "language": "python",
   "name": "python3"
  },
  "language_info": {
   "codemirror_mode": {
    "name": "ipython",
    "version": 3
   },
   "file_extension": ".py",
   "mimetype": "text/x-python",
   "name": "python",
   "nbconvert_exporter": "python",
   "pygments_lexer": "ipython3",
   "version": "3.8.8"
  }
 },
 "nbformat": 4,
 "nbformat_minor": 5
}

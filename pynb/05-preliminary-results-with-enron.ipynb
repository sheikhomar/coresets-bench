{
 "cells": [
  {
   "cell_type": "code",
   "execution_count": 1,
   "id": "016c4c70-efdd-480c-9760-81475fb748c7",
   "metadata": {},
   "outputs": [],
   "source": [
    "import re\n",
    "\n",
    "from pathlib import Path\n",
    "\n",
    "import numpy as np\n",
    "import pandas as pd\n",
    "\n",
    "from sklearn.metrics import pairwise_distances"
   ]
  },
  {
   "cell_type": "code",
   "execution_count": 2,
   "id": "42db5d45-cf97-41a1-9fb3-69179c16581f",
   "metadata": {},
   "outputs": [],
   "source": [
    "def get_weighted_costs(file_paths):\n",
    "    costs = []\n",
    "    for index, cost_path in enumerate(file_paths):\n",
    "        dataset, algorithm, k = re.findall(r\"/.+/(.+)/(.+)-k(\\d+)-\", str(cost_path))[0]\n",
    "        with open(cost_path, \"r\") as f:\n",
    "            weighted_cost = float(f.read())\n",
    "        costs.append({\n",
    "            \"dataset\": dataset,\n",
    "            \"algorithm\": algorithm,\n",
    "            \"k\": k,\n",
    "            \"cost\": weighted_cost,\n",
    "            \"file_path\": str(cost_path)\n",
    "        })\n",
    "    return pd.DataFrame(costs)"
   ]
  },
  {
   "cell_type": "code",
   "execution_count": 3,
   "id": "99d817d9-c08e-4db3-9490-6e3d0f9daef6",
   "metadata": {},
   "outputs": [],
   "source": [
    "data_results_dir = Path(\"../data/results/experiments/enron/\")"
   ]
  },
  {
   "cell_type": "code",
   "execution_count": 4,
   "id": "4509a063-a6cd-4d58-803d-ba62f6d37d46",
   "metadata": {},
   "outputs": [],
   "source": [
    "cost_paths = list(data_results_dir.glob(\"**/real_cost.txt\"))"
   ]
  },
  {
   "cell_type": "code",
   "execution_count": 5,
   "id": "8ea3a76f-9a5f-4f64-812e-bdbd67b4850d",
   "metadata": {},
   "outputs": [
    {
     "data": {
      "text/plain": [
       "120"
      ]
     },
     "execution_count": 5,
     "metadata": {},
     "output_type": "execute_result"
    }
   ],
   "source": [
    "len(cost_paths)"
   ]
  },
  {
   "cell_type": "code",
   "execution_count": 6,
   "id": "a5718902-0e1c-407d-ad88-3577384557aa",
   "metadata": {},
   "outputs": [],
   "source": [
    "df_cost_data = get_weighted_costs(cost_paths)"
   ]
  },
  {
   "cell_type": "code",
   "execution_count": 7,
   "id": "8cadb970-5320-4165-8b87-9867c0bc6e6a",
   "metadata": {},
   "outputs": [
    {
     "data": {
      "text/html": [
       "<div>\n",
       "<style scoped>\n",
       "    .dataframe tbody tr th:only-of-type {\n",
       "        vertical-align: middle;\n",
       "    }\n",
       "\n",
       "    .dataframe tbody tr th {\n",
       "        vertical-align: top;\n",
       "    }\n",
       "\n",
       "    .dataframe thead th {\n",
       "        text-align: right;\n",
       "    }\n",
       "</style>\n",
       "<table border=\"1\" class=\"dataframe\">\n",
       "  <thead>\n",
       "    <tr style=\"text-align: right;\">\n",
       "      <th></th>\n",
       "      <th>dataset</th>\n",
       "      <th>algorithm</th>\n",
       "      <th>k</th>\n",
       "      <th>cost_count</th>\n",
       "      <th>cost_mean</th>\n",
       "      <th>cost_std</th>\n",
       "    </tr>\n",
       "  </thead>\n",
       "  <tbody>\n",
       "    <tr>\n",
       "      <th>0</th>\n",
       "      <td>enron</td>\n",
       "      <td>bico</td>\n",
       "      <td>10</td>\n",
       "      <td>20</td>\n",
       "      <td>2.352009e+07</td>\n",
       "      <td>290024.801605</td>\n",
       "    </tr>\n",
       "    <tr>\n",
       "      <th>1</th>\n",
       "      <td>enron</td>\n",
       "      <td>bico</td>\n",
       "      <td>20</td>\n",
       "      <td>20</td>\n",
       "      <td>2.176014e+07</td>\n",
       "      <td>237554.826471</td>\n",
       "    </tr>\n",
       "    <tr>\n",
       "      <th>2</th>\n",
       "      <td>enron</td>\n",
       "      <td>bico</td>\n",
       "      <td>30</td>\n",
       "      <td>20</td>\n",
       "      <td>2.046459e+07</td>\n",
       "      <td>253002.770144</td>\n",
       "    </tr>\n",
       "    <tr>\n",
       "      <th>3</th>\n",
       "      <td>enron</td>\n",
       "      <td>bico</td>\n",
       "      <td>40</td>\n",
       "      <td>20</td>\n",
       "      <td>1.948088e+07</td>\n",
       "      <td>180602.641830</td>\n",
       "    </tr>\n",
       "    <tr>\n",
       "      <th>4</th>\n",
       "      <td>enron</td>\n",
       "      <td>bico</td>\n",
       "      <td>50</td>\n",
       "      <td>19</td>\n",
       "      <td>1.869068e+07</td>\n",
       "      <td>256030.698589</td>\n",
       "    </tr>\n",
       "    <tr>\n",
       "      <th>5</th>\n",
       "      <td>enron</td>\n",
       "      <td>group-sampling</td>\n",
       "      <td>10</td>\n",
       "      <td>2</td>\n",
       "      <td>2.341216e+07</td>\n",
       "      <td>102689.753803</td>\n",
       "    </tr>\n",
       "    <tr>\n",
       "      <th>6</th>\n",
       "      <td>enron</td>\n",
       "      <td>sensitivity-sampling</td>\n",
       "      <td>10</td>\n",
       "      <td>4</td>\n",
       "      <td>2.324840e+07</td>\n",
       "      <td>73269.590511</td>\n",
       "    </tr>\n",
       "    <tr>\n",
       "      <th>7</th>\n",
       "      <td>enron</td>\n",
       "      <td>sensitivity-sampling</td>\n",
       "      <td>20</td>\n",
       "      <td>4</td>\n",
       "      <td>2.170139e+07</td>\n",
       "      <td>211228.191283</td>\n",
       "    </tr>\n",
       "    <tr>\n",
       "      <th>8</th>\n",
       "      <td>enron</td>\n",
       "      <td>sensitivity-sampling</td>\n",
       "      <td>30</td>\n",
       "      <td>4</td>\n",
       "      <td>2.015484e+07</td>\n",
       "      <td>332529.492967</td>\n",
       "    </tr>\n",
       "    <tr>\n",
       "      <th>9</th>\n",
       "      <td>enron</td>\n",
       "      <td>sensitivity-sampling</td>\n",
       "      <td>40</td>\n",
       "      <td>3</td>\n",
       "      <td>1.941674e+07</td>\n",
       "      <td>65053.264795</td>\n",
       "    </tr>\n",
       "    <tr>\n",
       "      <th>10</th>\n",
       "      <td>enron</td>\n",
       "      <td>sensitivity-sampling</td>\n",
       "      <td>50</td>\n",
       "      <td>4</td>\n",
       "      <td>1.873558e+07</td>\n",
       "      <td>320778.610790</td>\n",
       "    </tr>\n",
       "  </tbody>\n",
       "</table>\n",
       "</div>"
      ],
      "text/plain": [
       "   dataset             algorithm   k  cost_count     cost_mean       cost_std\n",
       "0    enron                  bico  10          20  2.352009e+07  290024.801605\n",
       "1    enron                  bico  20          20  2.176014e+07  237554.826471\n",
       "2    enron                  bico  30          20  2.046459e+07  253002.770144\n",
       "3    enron                  bico  40          20  1.948088e+07  180602.641830\n",
       "4    enron                  bico  50          19  1.869068e+07  256030.698589\n",
       "5    enron        group-sampling  10           2  2.341216e+07  102689.753803\n",
       "6    enron  sensitivity-sampling  10           4  2.324840e+07   73269.590511\n",
       "7    enron  sensitivity-sampling  20           4  2.170139e+07  211228.191283\n",
       "8    enron  sensitivity-sampling  30           4  2.015484e+07  332529.492967\n",
       "9    enron  sensitivity-sampling  40           3  1.941674e+07   65053.264795\n",
       "10   enron  sensitivity-sampling  50           4  1.873558e+07  320778.610790"
      ]
     },
     "execution_count": 7,
     "metadata": {},
     "output_type": "execute_result"
    }
   ],
   "source": [
    "df_aggr_cost_data = df_cost_data.groupby([\"dataset\", \"algorithm\", \"k\"], as_index=False).agg(\n",
    "    cost_count=(\"cost\", \"count\"),\n",
    "    cost_mean=(\"cost\", \"mean\"),\n",
    "    cost_std=(\"cost\", \"std\")\n",
    ")\n",
    "df_aggr_cost_data"
   ]
  },
  {
   "cell_type": "code",
   "execution_count": 8,
   "id": "f252868c-5287-4597-ad47-c3ab3abb0f3c",
   "metadata": {},
   "outputs": [
    {
     "data": {
      "text/html": [
       "<div>\n",
       "<style scoped>\n",
       "    .dataframe tbody tr th:only-of-type {\n",
       "        vertical-align: middle;\n",
       "    }\n",
       "\n",
       "    .dataframe tbody tr th {\n",
       "        vertical-align: top;\n",
       "    }\n",
       "\n",
       "    .dataframe thead th {\n",
       "        text-align: right;\n",
       "    }\n",
       "</style>\n",
       "<table border=\"1\" class=\"dataframe\">\n",
       "  <thead>\n",
       "    <tr style=\"text-align: right;\">\n",
       "      <th>k</th>\n",
       "      <th>10</th>\n",
       "      <th>20</th>\n",
       "      <th>30</th>\n",
       "      <th>40</th>\n",
       "      <th>50</th>\n",
       "    </tr>\n",
       "    <tr>\n",
       "      <th>algorithm</th>\n",
       "      <th></th>\n",
       "      <th></th>\n",
       "      <th></th>\n",
       "      <th></th>\n",
       "      <th></th>\n",
       "    </tr>\n",
       "  </thead>\n",
       "  <tbody>\n",
       "    <tr>\n",
       "      <th>bico</th>\n",
       "      <td>2.352009e+07</td>\n",
       "      <td>2.176014e+07</td>\n",
       "      <td>2.046459e+07</td>\n",
       "      <td>1.948088e+07</td>\n",
       "      <td>1.869068e+07</td>\n",
       "    </tr>\n",
       "    <tr>\n",
       "      <th>group-sampling</th>\n",
       "      <td>2.341216e+07</td>\n",
       "      <td>NaN</td>\n",
       "      <td>NaN</td>\n",
       "      <td>NaN</td>\n",
       "      <td>NaN</td>\n",
       "    </tr>\n",
       "    <tr>\n",
       "      <th>sensitivity-sampling</th>\n",
       "      <td>2.324840e+07</td>\n",
       "      <td>2.170139e+07</td>\n",
       "      <td>2.015484e+07</td>\n",
       "      <td>1.941674e+07</td>\n",
       "      <td>1.873558e+07</td>\n",
       "    </tr>\n",
       "  </tbody>\n",
       "</table>\n",
       "</div>"
      ],
      "text/plain": [
       "k                               10            20            30            40  \\\n",
       "algorithm                                                                      \n",
       "bico                  2.352009e+07  2.176014e+07  2.046459e+07  1.948088e+07   \n",
       "group-sampling        2.341216e+07           NaN           NaN           NaN   \n",
       "sensitivity-sampling  2.324840e+07  2.170139e+07  2.015484e+07  1.941674e+07   \n",
       "\n",
       "k                               50  \n",
       "algorithm                           \n",
       "bico                  1.869068e+07  \n",
       "group-sampling                 NaN  \n",
       "sensitivity-sampling  1.873558e+07  "
      ]
     },
     "execution_count": 8,
     "metadata": {},
     "output_type": "execute_result"
    }
   ],
   "source": [
    "df = pd.pivot_table(df_aggr_cost_data, values=\"cost_mean\", index=[\"algorithm\"], columns=[\"k\"])\n",
    "df#.style.format(precision=0, thousands=\",\").highlight_min(color = 'lightgreen', axis = 0)"
   ]
  },
  {
   "cell_type": "code",
   "execution_count": 9,
   "id": "ffc3f1e0-1dd5-4fa5-8163-96927b13b207",
   "metadata": {},
   "outputs": [],
   "source": [
    "#df = pd.pivot_table(df_aggr_cost_data, values=\"cost_std\", index=[\"algorithm\"], columns=[\"k\"])\n",
    "#df.style.format(precision=0, thousands=\",\").highlight_min(color = 'lightgreen', axis = 0)"
   ]
  },
  {
   "cell_type": "code",
   "execution_count": null,
   "id": "c41e871a-e140-4675-9959-bb837aebea0d",
   "metadata": {},
   "outputs": [],
   "source": []
  }
 ],
 "metadata": {
  "kernelspec": {
   "display_name": "Python 3 (ipykernel)",
   "language": "python",
   "name": "python3"
  },
  "language_info": {
   "codemirror_mode": {
    "name": "ipython",
    "version": 3
   },
   "file_extension": ".py",
   "mimetype": "text/x-python",
   "name": "python",
   "nbconvert_exporter": "python",
   "pygments_lexer": "ipython3",
   "version": "3.8.8"
  }
 },
 "nbformat": 4,
 "nbformat_minor": 5
}
